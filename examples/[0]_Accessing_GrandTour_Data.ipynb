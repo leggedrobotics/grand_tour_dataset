{
  "cells": [
    {
      "cell_type": "markdown",
      "metadata": {
        "id": "iJUj0TiKtGJS"
      },
      "source": [
        "# [0] Accessing GrandTour Data\n",
        "© 2025 ETH Zurich\n",
        "\n",
        " [![Open In Colab](https://colab.research.google.com/assets/colab-badge.svg)](https://colab.research.google.com/github/leggedrobotics/grand_tour_dataset/blob/main/examples/%5B0%5D_Accessing_GrandTour_Data.ipynb)\n",
        "\n",
        "\n",
        "## Overview\n",
        "GrandTour data is avaialable in three formats, hosted on two platforms:\n",
        "\n",
        "<table>\n",
        "  <tr>\n",
        "    <th style=\"padding: 10px; text-align: left;\">Format</th>\n",
        "    <th style=\"padding: 10px; text-align: left;\"></th>\n",
        "    <th style=\"padding: 10px; text-align: left;\"></th>\n",
        "    <th style=\"padding: 10px; text-align: left;\">Hosted on</th>\n",
        "    <th style=\"padding: 10px; text-align: left;\"></th>\n",
        "  </tr>\n",
        "  <tr>\n",
        "    <td><img src=\"https://raw.githubusercontent.com/leggedrobotics/grand_tour_dataset/refs/heads/main/assets/ros-logo.png?token=GHSAT0AAAAAACX6Q2VDL4MPT2URST4PMQL4Z5PB4YQ\" height=\"30\"></td>\n",
        "    <td style=\"padding-left: 15px;\"><a href=\"https://wiki.ros.org/rosbag\">ROS Bags</a></td><td></td><td><img src=\"https://raw.githubusercontent.com/leggedrobotics/grand_tour_dataset/refs/heads/main/assets/rsl-logo.png?token=GHSAT0AAAAAACX6Q2VD7M25RXD6ETUTSYWOZ5PB43A\" height=\"30\"></td><td style=\"padding-left: 15px;\">Kleinkram</td>\n",
        "  </tr>\n",
        "  <tr>\n",
        "    <td><img src=\"https://raw.githubusercontent.com/leggedrobotics/grand_tour_dataset/refs/heads/main/assets/mcap-logo.png?token=GHSAT0AAAAAACX6Q2VC6MPFMAMDDC7QNCV4Z5PB4WA\" height=\"40\"></td>\n",
        "    <td style=\"padding-left: 15px;\"><a href=\"https://mcap.dev/\">MCAP</a></td><td></td><td><img src=\"https://raw.githubusercontent.com/leggedrobotics/grand_tour_dataset/refs/heads/main/assets/rsl-logo.png?token=GHSAT0AAAAAACX6Q2VD7M25RXD6ETUTSYWOZ5PB43A\" height=\"30\"><td style=\"padding-left: 15px;\">Kleinkram</td>\n",
        "  </tr>\n",
        "  <tr>\n",
        "    <td><img src=\"https://raw.githubusercontent.com/leggedrobotics/grand_tour_dataset/refs/heads/main/assets/zarr-logo.png?token=GHSAT0AAAAAACX6Q2VCG22SOZRJTL42FVF6Z5PB45A\" height=\"40\"></td>\n",
        "    <td style=\"padding-left: 15px;\"><a href=\"https://zarr.dev/\">ZARR</a></td><td></td><td><img src=\"https://raw.githubusercontent.com/leggedrobotics/grand_tour_dataset/refs/heads/main/assets/hf-logo.png?token=GHSAT0AAAAAACX6Q2VDYNRPBRVVCMMVM76AZ5PB4HA\" height=\"30\"><td style=\"padding-left: 15px;\">HuggingFace</td>\n",
        "  </tr>\n",
        "</table>\n",
        "\n",
        "### Structure\n",
        "\n",
        "Data is stored by **Mission**, which represents a single continuous deployment of the robot. All **Missions** will have the same data fields, except where it was impossible to collect (eg: GNSS data indoors)."
      ]
    },
    {
      "cell_type": "markdown",
      "metadata": {
        "id": "vRCf1ihS2lch"
      },
      "source": [
        "## Downloading from Kleinkram\n",
        "[Kleinkram](https://datasets.leggedrobotics.com/) is the ETHZ Robotic Systems Lab in-house data storage platform. A user account is needed to access the api.\n",
        "\n",
        "Kleinkram is provided as a CLI that requires python3.8 or later, though data can be downloaded via the Kleinkram UI as well. It is recommended that you use a virtual environment when running locally, for example:\n",
        "\n",
        "```\n",
        "virtualenv .venv -ppython3.8\n",
        "source .venv/bin/activate\n",
        "```\n",
        "\n",
        "The CLI can be pip installed:"
      ]
    },
    {
      "cell_type": "code",
      "execution_count": 2,
      "metadata": {
        "id": "BlqRphSIssZK"
      },
      "outputs": [],
      "source": [
        "!pip install -q kleinkram"
      ]
    },
    {
      "cell_type": "markdown",
      "metadata": {
        "id": "OpF0RSdM5UFY"
      },
      "source": [
        "This will add `klein` to your path, and you are ready to download GrandTour ROSbag and MCAP data! Use `klein --help` to see additional options not covered here.\n",
        "\n",
        "First, login with:\n",
        "\n",
        "\n"
      ]
    },
    {
      "cell_type": "code",
      "execution_count": 5,
      "metadata": {
        "colab": {
          "base_uri": "https://localhost:8080/"
        },
        "id": "KATxoq076MuT",
        "outputId": "a300a11b-ba62-490c-c2ed-abaa2a554dbe"
      },
      "outputs": [
        {
          "name": "stdout",
          "output_type": "stream",
          "text": [
            "Please open the following URL manually to authenticate: https://api.datasets.leggedrobotics.com/auth/google?state=cli-no-redirect\n",
            "Enter the authentication token provided after logging in:\n",
            "Authentication Token: \n",
            "Refresh Token: \n",
            "Authentication complete. Tokens saved to /root/.kleinkram.json.\n"
          ]
        }
      ],
      "source": [
        "!klein login"
      ]
    },
    {
      "cell_type": "markdown",
      "metadata": {
        "id": "xQyu4UBb6a1z"
      },
      "source": [
        "Then download a file or entire mission of your choice. Here we will only download a single `.bag` file to keep the notebook lightweight, but you can choose a mission from the [TODO!GrandTour webpage](https://TODO) or [Kleinkram's UI](https://datasets.leggedrobotics.com/).\n",
        "\n",
        "⚡*Tip:* The Kleinkram UI provides the CLI command needed to download a specific mission (or specific file):"
      ]
    },
    {
      "cell_type": "code",
      "execution_count": 44,
      "metadata": {
        "colab": {
          "base_uri": "https://localhost:8080/"
        },
        "id": "QUtYAPIVC0Ln",
        "outputId": "8d5d71c5-9787-4969-c156-23fb01a2cab5"
      },
      "outputs": [
        {
          "name": "stdout",
          "output_type": "stream",
          "text": [
            "\u001b[3m                                        downloading files...                                        \u001b[0m\n",
            "┏━━━━━━━━━━━┳━━━━━━━━━━━━━━━━━━━━━┳━━━━━━━━━━━━━━━━━━━━━━━━━━━━┳━━━━━━━━━━━━━━━━━━━━━━━━━━━┳━━━━━━━┓\n",
            "┃\u001b[1m \u001b[0m\u001b[1mproject  \u001b[0m\u001b[1m \u001b[0m┃\u001b[1m \u001b[0m\u001b[1mmission            \u001b[0m\u001b[1m \u001b[0m┃\u001b[1m \u001b[0m\u001b[1mname                      \u001b[0m\u001b[1m \u001b[0m┃\u001b[1m \u001b[0m\u001b[1mid                       \u001b[0m\u001b[1m \u001b[0m┃\u001b[1m \u001b[0m\u001b[1mstate\u001b[0m\u001b[1m \u001b[0m┃\n",
            "┡━━━━━━━━━━━╇━━━━━━━━━━━━━━━━━━━━━╇━━━━━━━━━━━━━━━━━━━━━━━━━━━━╇━━━━━━━━━━━━━━━━━━━━━━━━━━━╇━━━━━━━┩\n",
            "│ GrandTour │ 2024-11-03-07-52-45 │ 2024-11-03-07-52-45_cpt7_… │ \u001b[32m825939ea-3034-4b70-b3bd-…\u001b[0m │ \u001b[32mOK   \u001b[0m │\n",
            "└───────────┴─────────────────────┴────────────────────────────┴───────────────────────────┴───────┘\n",
            "Downloading 2024-11-03-07-52-45_cpt7_raw_imu.bag: 100% 4.12k/4.12k [00:00<00:00, 7.19MB/s]\n"
          ]
        }
      ],
      "source": [
        "# Download a single .bag with position data\n",
        "!klein download --dest=. 825939ea-3034-4b70-b3bd-d5ee82ebb430 # The ID of the individual file.\n",
        "\n",
        "# To download an entire mission, use the format:\n",
        "# klein download --dest=. --mission={MISSION_UUID}\n",
        "\n",
        "# To download only files matching a pattern, use the format:\n",
        "# klein download --dest=. --mission={MISSION_UUID} '*.bag'\n",
        "# klein download --dest=. --mission={MISSION_UUID} '*imu*'\n",
        "# etc..."
      ]
    },
    {
      "cell_type": "markdown",
      "metadata": {
        "id": "rjD2Oig6GKct"
      },
      "source": [
        "See the bag downloaded:"
      ]
    },
    {
      "cell_type": "code",
      "execution_count": 49,
      "metadata": {
        "colab": {
          "base_uri": "https://localhost:8080/"
        },
        "id": "tOLb52YHF567",
        "outputId": "d86f950d-abdd-47e2-d8ce-a306c43cfbec"
      },
      "outputs": [
        {
          "data": {
            "text/plain": [
              "Traceback (most recent call last):\n",
              "  File \"/home/kappi/.vscode/extensions/ms-python.python-2025.0.0-linux-x64/python_files/python_server.py\", line 133, in exec_user_input\n",
              "    retval = callable_(user_input, user_globals)\n",
              "  File \"<string>\", line 1\n",
              "    !ls\n",
              "    ^\n",
              "SyntaxError: invalid syntax\n",
              "\n"
            ]
          },
          "metadata": {},
          "output_type": "display_data"
        }
      ],
      "source": [
        "!ls"
      ]
    },
    {
      "cell_type": "markdown",
      "metadata": {
        "id": "qyy9vZt4C1Zk"
      },
      "source": [
        "#### 💡 Notes on Downloading via `klein`\n",
        "* The `--project` option isn't necessary to specify. It can be used to specify\n",
        "the **GrandTour** project as Kleinkram is a general purpose data repository for the Robotic System's Lab, but mission UUIDs are unique so it isn't needed.\n",
        "\n",
        "* The pattern argument can be used to filter the data to get only the ROSBags/MCAP files that you want from the mission, eg:\n",
        "\n",
        " `klein download --mission {MISSION_UUID} --dest=. \"*imu*\"`\n",
        "\n",
        "\n"
      ]
    },
    {
      "cell_type": "markdown",
      "metadata": {
        "id": "J13PiZ0lMKao"
      },
      "source": [
        "## Downloading from HuggingFace\n",
        "\n",
        "We provide the entire dataset on HuggingFace in `.zarr` format, free from the overhead of the ROS ecosystem. HuggingFace has an easy-to-use python download API called `huggingface_hub`. It is possible to download directly from the GrandTour HuggingFace repo UI, but we strongly reccomend making use of `hugginface_hub`, as it manages caching files, interrupted downloads and smart fetching of updated files.\n",
        "\n",
        "First, install `huggingface_hub`:"
      ]
    },
    {
      "cell_type": "code",
      "execution_count": null,
      "metadata": {},
      "outputs": [
        {
          "data": {
            "text/plain": [
              "Traceback (most recent call last):\n",
              "  File \"/home/kappi/.vscode/extensions/ms-python.python-2025.0.0-linux-x64/python_files/python_server.py\", line 133, in exec_user_input\n",
              "    retval = callable_(user_input, user_globals)\n",
              "  File \"<string>\", line 1\n",
              "    ! pip install huggingface_hub\n",
              "    ^\n",
              "SyntaxError: invalid syntax\n",
              "\n"
            ]
          },
          "metadata": {},
          "output_type": "display_data"
        }
      ],
      "source": [
        "! pip install huggingface_hub"
      ]
    },
    {
      "cell_type": "markdown",
      "metadata": {},
      "source": [
        "Then (you'll need a HuggingFace account first), login using the cli. This will store authentication tokens on your PC and allow you to use the API to download data."
      ]
    },
    {
      "cell_type": "code",
      "execution_count": null,
      "metadata": {},
      "outputs": [],
      "source": [
        "! huggingface-cli login"
      ]
    },
    {
      "cell_type": "markdown",
      "metadata": {},
      "source": [
        "Now you can download an a mission of your choice. The next tutorial - _[1] Exploring GrandTour Data_ - uses 2024-10-01-11-29-55, so we will donwload it here in anticipation."
      ]
    },
    {
      "cell_type": "code",
      "execution_count": null,
      "metadata": {},
      "outputs": [],
      "source": [
        "mission = \"2024-10-01-11-29-55\""
      ]
    },
    {
      "cell_type": "code",
      "execution_count": null,
      "metadata": {},
      "outputs": [],
      "source": [
        "from huggingface_hub import snapshot_download\n",
        "\n",
        "# If this is interuppted during download, simply re-run the block and huggingface_hub will resume the download without re-downloading the already downloaded files.\n",
        "hugging_face_data_cache_path = snapshot_download(repo_id=\"leggedrobotics/grand-tour-dataset-testing\", allow_patterns=[f\"{mission}/**\"], repo_type=\"dataset\")"
      ]
    },
    {
      "cell_type": "markdown",
      "metadata": {},
      "source": [
        "The downloaded data will be compressed into `.tar` files, and must be extracted before it can be used. We reccomend extracting to a destination of your choice outside the huggingface cache directory:"
      ]
    },
    {
      "cell_type": "code",
      "execution_count": null,
      "metadata": {},
      "outputs": [],
      "source": [
        "destination_directory = f\"/home/kappi/grand_tour_data/{mission}\""
      ]
    },
    {
      "cell_type": "markdown",
      "metadata": {},
      "source": [
        "Define a `.tar` extractor helper function:"
      ]
    },
    {
      "cell_type": "code",
      "execution_count": null,
      "metadata": {},
      "outputs": [],
      "source": [
        "import os\n",
        "import shutil\n",
        "import tarfile\n",
        "\n",
        "def recreate_structure_and_extract(cache_dir, output_dir):\n",
        "    # Ensure output_dir exists\n",
        "    os.makedirs(output_dir, exist_ok=True)\n",
        "    \n",
        "    # Loop over subdirectories in cache_dir\n",
        "    for subdir in os.listdir(cache_dir):\n",
        "        subdir_path = os.path.join(cache_dir, subdir)\n",
        "        target_subdir = os.path.join(output_dir, subdir)\n",
        "        \n",
        "        if os.path.isdir(subdir_path):\n",
        "            # Create the corresponding subdirectory in output_dir\n",
        "            os.makedirs(target_subdir, exist_ok=True)\n",
        "            \n",
        "            # If it's the metadata folder, just copy all files (like YAMLs)\n",
        "            if subdir == \"metadata\":\n",
        "                for filename in os.listdir(subdir_path):\n",
        "                    src_file = os.path.join(subdir_path, filename)\n",
        "                    dst_file = os.path.join(target_subdir, filename)\n",
        "                    shutil.copy2(src_file, dst_file)\n",
        "            else:\n",
        "                # For folders like data and images, process tar files\n",
        "                for filename in os.listdir(subdir_path):\n",
        "                    src_file = os.path.join(subdir_path, filename)\n",
        "                    if filename.endswith(\".tar\"):\n",
        "                        # Extract the tar file into the target_subdir\n",
        "                        with tarfile.open(src_file) as tar:\n",
        "                            tar.extractall(path=target_subdir)\n",
        "                    else:\n",
        "                        # If there are non-tar files that need copying, handle them here\n",
        "                        shutil.copy2(src_file, target_subdir)\n"
      ]
    },
    {
      "cell_type": "markdown",
      "metadata": {},
      "source": [
        "And extract the files:"
      ]
    },
    {
      "cell_type": "code",
      "execution_count": null,
      "metadata": {},
      "outputs": [],
      "source": [
        "cache_dir = hugging_face_data_cache_path + f\"/{mission}/\"\n",
        "recreate_structure_and_extract(cache_dir, destination_directory)"
      ]
    },
    {
      "cell_type": "markdown",
      "metadata": {},
      "source": [
        "You should now be able to load the dataset in `.zarr` format an inspect the contents:"
      ]
    },
    {
      "cell_type": "code",
      "execution_count": null,
      "metadata": {},
      "outputs": [
        {
          "data": {
            "text/plain": [
              "/\n",
              "├── adis_imu\n",
              "│   ├── ang_vel (69333, 3) float64\n",
              "│   ├── ang_vel_cov (69333, 3, 3) float64\n",
              "│   ├── lin_acc (69333, 3) float64\n",
              "│   ├── lin_acc_cov (69333, 3, 3) float64\n",
              "│   ├── orien (69333, 4) float64\n",
              "│   ├── orien_cov (69333, 3, 3) float64\n",
              "│   ├── sequence_id (69333,) uint64\n",
              "│   └── timestamp (69333,) uint64\n",
              "├── alphasense_cam1\n",
              "│   ├── sequence_id (3588,) uint64\n",
              "│   └── timestamp (3588,) uint64\n",
              "├── alphasense_cam2\n",
              "│   ├── sequence_id (3587,) uint64\n",
              "│   └── timestamp (3587,) uint64\n",
              "├── alphasense_cam3\n",
              "│   ├── sequence_id (3588,) uint64\n",
              "│   └── timestamp (3588,) uint64\n",
              "├── alphasense_cam4\n",
              "│   ├── sequence_id (3588,) uint64\n",
              "│   └── timestamp (3588,) uint64\n",
              "├── alphasense_cam5\n",
              "│   ├── sequence_id (3588,) uint64\n",
              "│   └── timestamp (3588,) uint64\n",
              "├── ap20_imu\n",
              "│   ├── ang_vel (68029, 3) float64\n",
              "│   ├── ang_vel_cov (68029, 3, 3) float64\n",
              "│   ├── lin_acc (68029, 3) float64\n",
              "│   ├── lin_acc_cov (68029, 3, 3) float64\n",
              "│   ├── orien (68029, 4) float64\n",
              "│   ├── orien_cov (68029, 3, 3) float64\n",
              "│   ├── sequence_id (68029,) uint64\n",
              "│   └── timestamp (68029,) uint64\n",
              "├── cpt7_dgps_tf\n",
              "│   ├── rotation (361, 4) float64\n",
              "│   ├── sequence_id (361,) uint64\n",
              "│   ├── timestamp (361,) uint64\n",
              "│   └── translation (361, 3) float64\n",
              "├── cpt7_gps\n",
              "│   ├── alt (17959,) float64\n",
              "│   ├── cov (17959, 3, 3) float64\n",
              "│   ├── cov_type (17959,) uint8\n",
              "│   ├── lat (17959,) float64\n",
              "│   ├── long (17959,) float64\n",
              "│   ├── sequence_id (17959,) uint64\n",
              "│   └── timestamp (17959,) uint64\n",
              "├── cpt7_gps_tf\n",
              "│   ├── rotation (36001, 4) float64\n",
              "│   ├── sequence_id (36001,) uint64\n",
              "│   ├── timestamp (36001,) uint64\n",
              "│   └── translation (36001, 3) float64\n",
              "├── cpt7_imu\n",
              "│   ├── ang_vel (35917, 3) float64\n",
              "│   ├── ang_vel_cov (35917, 3, 3) float64\n",
              "│   ├── lin_acc (35917, 3) float64\n",
              "│   ├── lin_acc_cov (35917, 3, 3) float64\n",
              "│   ├── orien (35917, 4) float64\n",
              "│   ├── orien_cov (35917, 3, 3) float64\n",
              "│   ├── sequence_id (35917,) uint64\n",
              "│   └── timestamp (35917,) uint64\n",
              "├── cpt7_imu_offline_from_novatel\n",
              "│   ├── ang_vel (36069, 3) float64\n",
              "│   ├── ang_vel_cov (36069, 3, 3) float64\n",
              "│   ├── lin_acc (36069, 3) float64\n",
              "│   ├── lin_acc_cov (36069, 3, 3) float64\n",
              "│   ├── orien (36069, 4) float64\n",
              "│   ├── orien_cov (36069, 3, 3) float64\n",
              "│   ├── sequence_id (36069,) uint64\n",
              "│   └── timestamp (36069,) uint64\n",
              "├── cpt7_lc_tf\n",
              "│   ├── rotation (36001, 4) float64\n",
              "│   ├── sequence_id (36001,) uint64\n",
              "│   ├── timestamp (36001,) uint64\n",
              "│   └── translation (36001, 3) float64\n",
              "├── cpt7_odometry\n",
              "│   ├── pose_cov (17957, 6, 6) float64\n",
              "│   ├── pose_orien (17957, 4) float64\n",
              "│   ├── pose_pos (17957, 3) float64\n",
              "│   ├── sequence_id (17957,) uint64\n",
              "│   ├── timestamp (17957,) uint64\n",
              "│   ├── twist_ang (17957, 3) float64\n",
              "│   ├── twist_cov (17957, 6, 6) float64\n",
              "│   └── twist_lin (17957, 3) float64\n",
              "├── cpt7_post_processed_tf\n",
              "│   ├── rotation (17957, 4) float64\n",
              "│   ├── sequence_id (17957,) uint64\n",
              "│   ├── timestamp (17957,) uint64\n",
              "│   └── translation (17957, 3) float64\n",
              "├── cpt7_ppp_tf\n",
              "│   ├── rotation (361, 4) float64\n",
              "│   ├── sequence_id (361,) uint64\n",
              "│   ├── timestamp (361,) uint64\n",
              "│   └── translation (361, 3) float64\n",
              "├── cpt7_tc_tf\n",
              "│   ├── rotation (36001, 4) float64\n",
              "│   ├── sequence_id (36001,) uint64\n",
              "│   ├── timestamp (36001,) uint64\n",
              "│   └── translation (36001, 3) float64\n",
              "├── dlio\n",
              "│   ├── point_cloud_intensity (3449, 64000) float32\n",
              "│   ├── point_cloud_points (3449, 64000, 3) float32\n",
              "│   ├── point_cloud_timestamp (3449, 64000) uint64\n",
              "│   ├── sequence_id (3449,) uint64\n",
              "│   └── timestamp (3449,) uint64\n",
              "├── dlio_map_odometry\n",
              "│   ├── pose_cov (3449, 6, 6) float64\n",
              "│   ├── pose_orien (3449, 4) float64\n",
              "│   ├── pose_pos (3449, 3) float64\n",
              "│   ├── sequence_id (3449,) uint64\n",
              "│   ├── timestamp (3449,) uint64\n",
              "│   ├── twist_ang (3449, 3) float64\n",
              "│   ├── twist_cov (3449, 6, 6) float64\n",
              "│   └── twist_lin (3449, 3) float64\n",
              "├── dlio_odometry\n",
              "│   ├── pose_cov (71881, 6, 6) float64\n",
              "│   ├── pose_orien (71881, 4) float64\n",
              "│   ├── pose_pos (71881, 3) float64\n",
              "│   ├── sequence_id (71881,) uint64\n",
              "│   ├── timestamp (71881,) uint64\n",
              "│   ├── twist_ang (71881, 3) float64\n",
              "│   ├── twist_cov (71881, 6, 6) float64\n",
              "│   └── twist_lin (71881, 3) float64\n",
              "├── dlio_pose\n",
              "│   ├── pose_orien (71881, 4) float64\n",
              "│   ├── pose_pos (71881, 3) float64\n",
              "│   ├── sequence_id (71881,) uint64\n",
              "│   └── timestamp (71881,) uint64\n",
              "├── ground_truth\n",
              "│   ├── pose_orien (35575, 4) float64\n",
              "│   ├── pose_pos (35575, 3) float64\n",
              "│   ├── sequence_id (35575,) uint64\n",
              "│   └── timestamp (35575,) uint64\n",
              "├── ground_truth_with_cov\n",
              "│   ├── pose_cov (35575, 6, 6) float64\n",
              "│   ├── pose_orien (35575, 4) float64\n",
              "│   ├── pose_pos (35575, 3) float64\n",
              "│   ├── sequence_id (35575,) uint64\n",
              "│   └── timestamp (35575,) uint64\n",
              "├── hdr_front\n",
              "│   ├── sequence_id (3467,) uint64\n",
              "│   └── timestamp (3467,) uint64\n",
              "├── hdr_left\n",
              "│   ├── sequence_id (3479,) uint64\n",
              "│   └── timestamp (3479,) uint64\n",
              "├── hdr_right\n",
              "│   ├── sequence_id (3482,) uint64\n",
              "│   └── timestamp (3482,) uint64\n",
              "├── hesai\n",
              "│   ├── point_cloud_intensity (3578, 64000) float32\n",
              "│   ├── point_cloud_points (3578, 64000, 3) float32\n",
              "│   ├── point_cloud_ring (3578, 64000) uint16\n",
              "│   ├── point_cloud_timestamp (3578, 64000) uint64\n",
              "│   ├── sequence_id (3578,) uint64\n",
              "│   └── timestamp (3578,) uint64\n",
              "├── hesai_last\n",
              "│   ├── point_cloud_intensity (3578, 64000) float32\n",
              "│   ├── point_cloud_points (3578, 64000, 3) float32\n",
              "│   ├── point_cloud_ring (3578, 64000) uint16\n",
              "│   ├── point_cloud_timestamp (3578, 64000) uint64\n",
              "│   ├── sequence_id (3578,) uint64\n",
              "│   └── timestamp (3578,) uint64\n",
              "├── livox\n",
              "│   ├── point_cloud_intensity (3584, 64000) float32\n",
              "│   ├── point_cloud_line (3584, 64000) uint16\n",
              "│   ├── point_cloud_points (3584, 64000, 3) float32\n",
              "│   ├── point_cloud_tag (3584, 64000) uint8\n",
              "│   ├── point_cloud_timestamp (3584, 64000) uint64\n",
              "│   ├── sequence_id (3584,) uint64\n",
              "│   └── timestamp (3584,) uint64\n",
              "├── livox_imu\n",
              "│   ├── ang_vel (71680, 3) float64\n",
              "│   ├── ang_vel_cov (71680, 3, 3) float64\n",
              "│   ├── lin_acc (71680, 3) float64\n",
              "│   ├── lin_acc_cov (71680, 3, 3) float64\n",
              "│   ├── orien (71680, 4) float64\n",
              "│   ├── orien_cov (71680, 3, 3) float64\n",
              "│   ├── sequence_id (71680,) uint64\n",
              "│   └── timestamp (71680,) uint64\n",
              "├── livox_imu_si_compliant\n",
              "│   ├── ang_vel (71679, 3) float64\n",
              "│   ├── ang_vel_cov (71679, 3, 3) float64\n",
              "│   ├── lin_acc (71679, 3) float64\n",
              "│   ├── lin_acc_cov (71679, 3, 3) float64\n",
              "│   ├── orien (71679, 4) float64\n",
              "│   ├── orien_cov (71679, 3, 3) float64\n",
              "│   ├── sequence_id (71679,) uint64\n",
              "│   └── timestamp (71679,) uint64\n",
              "├── novatel\n",
              "│   ├── pose_cov (36001, 6, 6) float64\n",
              "│   ├── pose_orien (36001, 4) float64\n",
              "│   ├── pose_pos (36001, 3) float64\n",
              "│   ├── sequence_id (36001,) uint64\n",
              "│   └── timestamp (36001,) uint64\n",
              "├── novatel_dgps\n",
              "│   ├── pose_cov (361, 6, 6) float64\n",
              "│   ├── pose_orien (361, 4) float64\n",
              "│   ├── pose_pos (361, 3) float64\n",
              "│   ├── sequence_id (361,) uint64\n",
              "│   └── timestamp (361,) uint64\n",
              "├── novatel_dgps_odometry\n",
              "│   ├── pose_cov (361, 6, 6) float64\n",
              "│   ├── pose_orien (361, 4) float64\n",
              "│   ├── pose_pos (361, 3) float64\n",
              "│   ├── sequence_id (361,) uint64\n",
              "│   ├── timestamp (361,) uint64\n",
              "│   ├── twist_ang (361, 3) float64\n",
              "│   ├── twist_cov (361, 6, 6) float64\n",
              "│   └── twist_lin (361, 3) float64\n",
              "├── novatel_lc\n",
              "│   ├── pose_cov (36001, 6, 6) float64\n",
              "│   ├── pose_orien (36001, 4) float64\n",
              "│   ├── pose_pos (36001, 3) float64\n",
              "│   ├── sequence_id (36001,) uint64\n",
              "│   └── timestamp (36001,) uint64\n",
              "├── novatel_lc_odometry\n",
              "│   ├── pose_cov (36001, 6, 6) float64\n",
              "│   ├── pose_orien (36001, 4) float64\n",
              "│   ├── pose_pos (36001, 3) float64\n",
              "│   ├── sequence_id (36001,) uint64\n",
              "│   ├── timestamp (36001,) uint64\n",
              "│   ├── twist_ang (36001, 3) float64\n",
              "│   ├── twist_cov (36001, 6, 6) float64\n",
              "│   └── twist_lin (36001, 3) float64\n",
              "├── novatel_odometry\n",
              "│   ├── pose_cov (36001, 6, 6) float64\n",
              "│   ├── pose_orien (36001, 4) float64\n",
              "│   ├── pose_pos (36001, 3) float64\n",
              "│   ├── sequence_id (36001,) uint64\n",
              "│   ├── timestamp (36001,) uint64\n",
              "│   ├── twist_ang (36001, 3) float64\n",
              "│   ├── twist_cov (36001, 6, 6) float64\n",
              "│   └── twist_lin (36001, 3) float64\n",
              "├── novatel_ppp\n",
              "│   ├── pose_cov (361, 6, 6) float64\n",
              "│   ├── pose_orien (361, 4) float64\n",
              "│   ├── pose_pos (361, 3) float64\n",
              "│   ├── sequence_id (361,) uint64\n",
              "│   └── timestamp (361,) uint64\n",
              "├── novatel_ppp_odometry\n",
              "│   ├── pose_cov (361, 6, 6) float64\n",
              "│   ├── pose_orien (361, 4) float64\n",
              "│   ├── pose_pos (361, 3) float64\n",
              "│   ├── sequence_id (361,) uint64\n",
              "│   ├── timestamp (361,) uint64\n",
              "│   ├── twist_ang (361, 3) float64\n",
              "│   ├── twist_cov (361, 6, 6) float64\n",
              "│   └── twist_lin (361, 3) float64\n",
              "├── novatel_tc\n",
              "│   ├── pose_cov (36001, 6, 6) float64\n",
              "│   ├── pose_orien (36001, 4) float64\n",
              "│   ├── pose_pos (36001, 3) float64\n",
              "│   ├── sequence_id (36001,) uint64\n",
              "│   └── timestamp (36001,) uint64\n",
              "├── novatel_tc_odometry\n",
              "│   ├── pose_cov (36001, 6, 6) float64\n",
              "│   ├── pose_orien (36001, 4) float64\n",
              "│   ├── pose_pos (36001, 3) float64\n",
              "│   ├── sequence_id (36001,) uint64\n",
              "│   ├── timestamp (36001,) uint64\n",
              "│   ├── twist_ang (36001, 3) float64\n",
              "│   ├── twist_cov (36001, 6, 6) float64\n",
              "│   └── twist_lin (36001, 3) float64\n",
              "├── prism\n",
              "│   ├── point (4738, 3) float64\n",
              "│   ├── sequence_id (4738,) uint64\n",
              "│   └── timestamp (4738,) uint64\n",
              "├── stim_imu\n",
              "│   ├── ang_vel (172581, 3) float64\n",
              "│   ├── ang_vel_cov (172581, 3, 3) float64\n",
              "│   ├── lin_acc (172581, 3) float64\n",
              "│   ├── lin_acc_cov (172581, 3, 3) float64\n",
              "│   ├── orien (172581, 4) float64\n",
              "│   ├── orien_cov (172581, 3, 3) float64\n",
              "│   ├── sequence_id (172581,) uint64\n",
              "│   └── timestamp (172581,) uint64\n",
              "├── zed2i_confidence\n",
              "│   ├── sequence_id (5137,) uint64\n",
              "│   └── timestamp (5137,) uint64\n",
              "├── zed2i_depth\n",
              "│   ├── sequence_id (5137,) uint64\n",
              "│   └── timestamp (5137,) uint64\n",
              "├── zed2i_imu\n",
              "│   ├── ang_vel (15479, 3) float64\n",
              "│   ├── ang_vel_cov (15479, 3, 3) float64\n",
              "│   ├── lin_acc (15479, 3) float64\n",
              "│   ├── lin_acc_cov (15479, 3, 3) float64\n",
              "│   ├── orien (15479, 4) float64\n",
              "│   ├── orien_cov (15479, 3, 3) float64\n",
              "│   ├── sequence_id (15479,) uint64\n",
              "│   └── timestamp (15479,) uint64\n",
              "├── zed2i_left\n",
              "│   ├── sequence_id (5137,) uint64\n",
              "│   └── timestamp (5137,) uint64\n",
              "├── zed2i_magnetic_field\n",
              "│   ├── b_field (15410, 3) float64\n",
              "│   ├── b_field_cov (15410, 3, 3) float64\n",
              "│   ├── sequence_id (15410,) uint64\n",
              "│   └── timestamp (15410,) uint64\n",
              "├── zed2i_odometry\n",
              "│   ├── pose_cov (5137, 6, 6) float64\n",
              "│   ├── pose_orien (5137, 4) float64\n",
              "│   ├── pose_pos (5137, 3) float64\n",
              "│   ├── sequence_id (5137,) uint64\n",
              "│   ├── timestamp (5137,) uint64\n",
              "│   ├── twist_ang (5137, 3) float64\n",
              "│   ├── twist_cov (5137, 6, 6) float64\n",
              "│   └── twist_lin (5137, 3) float64\n",
              "├── zed2i_right\n",
              "│   ├── sequence_id (5137,) uint64\n",
              "│   └── timestamp (5137,) uint64\n",
              "└── zed2i_tf\n",
              "    ├── rotation (5137, 4) float64\n",
              "    ├── sequence_id (5137,) uint64\n",
              "    ├── timestamp (5137,) uint64\n",
              "    └── translation (5137, 3) float64\n",
              "\n"
            ]
          },
          "metadata": {},
          "output_type": "display_data"
        }
      ],
      "source": [
        "import zarr\n",
        "import zarr.storage\n",
        "\n",
        "# The /data folder contains the actual data files, while the /metadata folder contains static data like TFs and calibration. Images are stored in /images.\n",
        "store = zarr.storage.LocalStore(destination_directory + \"/data\")\n",
        "root = zarr.group(store=store)\n",
        "mission_root = zarr.open_group(destination_directory + \"/data\", mode='r')\n",
        "\n",
        "# Take a look at the available data\n",
        "print(mission_root.tree())"
      ]
    }
  ],
  "metadata": {
    "colab": {
      "provenance": []
    },
    "kernelspec": {
      "display_name": "Python 3",
      "name": "python3"
    },
    "language_info": {
      "name": "python"
    }
  },
  "nbformat": 4,
  "nbformat_minor": 0
}
