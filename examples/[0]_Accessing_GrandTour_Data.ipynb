{
  "cells": [
    {
      "cell_type": "markdown",
      "metadata": {
        "id": "iJUj0TiKtGJS"
      },
      "source": [
        "# [0] Accessing GrandTour Data\n",
        "© 2025 ETH Zurich\n",
        "\n",
        " [![Open In Colab](https://colab.research.google.com/assets/colab-badge.svg)](https://colab.research.google.com/github/leggedrobotics/grand_tour_dataset/blob/main/examples/%5B0%5D_Accessing_GrandTour_Data.ipynb)\n",
        "\n",
        "\n",
        "## Overview\n",
        "GrandTour data is avaialable in three formats, hosted on two platforms:\n",
        "\n",
        "<table>\n",
        "  <tr>\n",
        "    <th style=\"padding: 10px; text-align: left;\">Format</th>\n",
        "    <th style=\"padding: 10px; text-align: left;\"></th>\n",
        "    <th style=\"padding: 10px; text-align: left;\"></th>\n",
        "    <th style=\"padding: 10px; text-align: left;\">Hosted on</th>\n",
        "    <th style=\"padding: 10px; text-align: left;\"></th>\n",
        "  </tr>\n",
        "  <tr>\n",
        "    <td><img src=\"https://raw.githubusercontent.com/leggedrobotics/grand_tour_dataset/refs/heads/main/assets/ros-logo.png?token=GHSAT0AAAAAACX6Q2VDL4MPT2URST4PMQL4Z5PB4YQ\" height=\"30\"></td>\n",
        "    <td style=\"padding-left: 15px;\"><a href=\"https://wiki.ros.org/rosbag\">ROS Bags</a></td><td></td><td><img src=\"https://raw.githubusercontent.com/leggedrobotics/grand_tour_dataset/refs/heads/main/assets/rsl-logo.png?token=GHSAT0AAAAAACX6Q2VD7M25RXD6ETUTSYWOZ5PB43A\" height=\"30\"></td><td style=\"padding-left: 15px;\">Kleinkram</td>\n",
        "  </tr>\n",
        "  <tr>\n",
        "    <td><img src=\"https://raw.githubusercontent.com/leggedrobotics/grand_tour_dataset/refs/heads/main/assets/mcap-logo.png?token=GHSAT0AAAAAACX6Q2VC6MPFMAMDDC7QNCV4Z5PB4WA\" height=\"40\"></td>\n",
        "    <td style=\"padding-left: 15px;\"><a href=\"https://mcap.dev/\">MCAP</a></td><td></td><td><img src=\"https://raw.githubusercontent.com/leggedrobotics/grand_tour_dataset/refs/heads/main/assets/rsl-logo.png?token=GHSAT0AAAAAACX6Q2VD7M25RXD6ETUTSYWOZ5PB43A\" height=\"30\"><td style=\"padding-left: 15px;\">Kleinkram</td>\n",
        "  </tr>\n",
        "  <tr>\n",
        "    <td><img src=\"https://raw.githubusercontent.com/leggedrobotics/grand_tour_dataset/refs/heads/main/assets/zarr-logo.png?token=GHSAT0AAAAAACX6Q2VCG22SOZRJTL42FVF6Z5PB45A\" height=\"40\"></td>\n",
        "    <td style=\"padding-left: 15px;\"><a href=\"https://zarr.dev/\">ZARR</a></td><td></td><td><img src=\"https://raw.githubusercontent.com/leggedrobotics/grand_tour_dataset/refs/heads/main/assets/hf-logo.png?token=GHSAT0AAAAAACX6Q2VDYNRPBRVVCMMVM76AZ5PB4HA\" height=\"30\"><td style=\"padding-left: 15px;\">HuggingFace</td>\n",
        "  </tr>\n",
        "</table>\n",
        "\n",
        "### Structure\n",
        "\n",
        "Data is stored by **Mission**, which represents a single continuous deployment of the robot. All **Missions** will have the same data fields, except where it was impossible to collect (eg: GNSS data indoors)."
      ]
    },
    {
      "cell_type": "markdown",
      "metadata": {
        "id": "vRCf1ihS2lch"
      },
      "source": [
        "## Downloading from Kleinkram\n",
        "[Kleinkram](https://datasets.leggedrobotics.com/) is the ETHZ Robotic Systems Lab in-house data storage platform. A user account is needed to access the api.\n",
        "\n",
        "Kleinkram is provided as a CLI that requires python3.8 or later, though data can be downloaded via the Kleinkram UI as well. It is recommended that you use a virtual environment when running locally, for example:\n",
        "\n",
        "```\n",
        "virtualenv .venv -ppython3.8\n",
        "source .venv/bin/activate\n",
        "```\n",
        "\n",
        "The CLI can be pip installed:"
      ]
    },
    {
      "cell_type": "code",
      "execution_count": 2,
      "metadata": {
        "id": "BlqRphSIssZK"
      },
      "outputs": [],
      "source": [
        "!pip install -q kleinkram"
      ]
    },
    {
      "cell_type": "markdown",
      "metadata": {
        "id": "OpF0RSdM5UFY"
      },
      "source": [
        "This will add `klein` to your path, and you are ready to download GrandTour ROSbag and MCAP data! Use `klein --help` to see additional options not covered here.\n",
        "\n",
        "First, login with:\n",
        "\n",
        "\n"
      ]
    },
    {
      "cell_type": "code",
      "execution_count": 5,
      "metadata": {
        "colab": {
          "base_uri": "https://localhost:8080/"
        },
        "id": "KATxoq076MuT",
        "outputId": "a300a11b-ba62-490c-c2ed-abaa2a554dbe"
      },
      "outputs": [
        {
          "name": "stdout",
          "output_type": "stream",
          "text": [
            "Please open the following URL manually to authenticate: https://api.datasets.leggedrobotics.com/auth/google?state=cli-no-redirect\n",
            "Enter the authentication token provided after logging in:\n",
            "Authentication Token: \n",
            "Refresh Token: \n",
            "Authentication complete. Tokens saved to /root/.kleinkram.json.\n"
          ]
        }
      ],
      "source": [
        "!klein login"
      ]
    },
    {
      "cell_type": "markdown",
      "metadata": {
        "id": "xQyu4UBb6a1z"
      },
      "source": [
        "Then download a file or entire mission of your choice. Here we will only download a single `.bag` file to keep the notebook lightweight, but you can choose a mission from the [TODO!GrandTour webpage](https://TODO) or [Kleinkram's UI](https://datasets.leggedrobotics.com/).\n",
        "\n",
        "⚡*Tip:* The Kleinkram UI provides the CLI command needed to download a specific mission (or specific file):"
      ]
    },
    {
      "cell_type": "code",
      "execution_count": 44,
      "metadata": {
        "colab": {
          "base_uri": "https://localhost:8080/"
        },
        "id": "QUtYAPIVC0Ln",
        "outputId": "8d5d71c5-9787-4969-c156-23fb01a2cab5"
      },
      "outputs": [
        {
          "name": "stdout",
          "output_type": "stream",
          "text": [
            "\u001b[3m                                        downloading files...                                        \u001b[0m\n",
            "┏━━━━━━━━━━━┳━━━━━━━━━━━━━━━━━━━━━┳━━━━━━━━━━━━━━━━━━━━━━━━━━━━┳━━━━━━━━━━━━━━━━━━━━━━━━━━━┳━━━━━━━┓\n",
            "┃\u001b[1m \u001b[0m\u001b[1mproject  \u001b[0m\u001b[1m \u001b[0m┃\u001b[1m \u001b[0m\u001b[1mmission            \u001b[0m\u001b[1m \u001b[0m┃\u001b[1m \u001b[0m\u001b[1mname                      \u001b[0m\u001b[1m \u001b[0m┃\u001b[1m \u001b[0m\u001b[1mid                       \u001b[0m\u001b[1m \u001b[0m┃\u001b[1m \u001b[0m\u001b[1mstate\u001b[0m\u001b[1m \u001b[0m┃\n",
            "┡━━━━━━━━━━━╇━━━━━━━━━━━━━━━━━━━━━╇━━━━━━━━━━━━━━━━━━━━━━━━━━━━╇━━━━━━━━━━━━━━━━━━━━━━━━━━━╇━━━━━━━┩\n",
            "│ GrandTour │ 2024-11-03-07-52-45 │ 2024-11-03-07-52-45_cpt7_… │ \u001b[32m825939ea-3034-4b70-b3bd-…\u001b[0m │ \u001b[32mOK   \u001b[0m │\n",
            "└───────────┴─────────────────────┴────────────────────────────┴───────────────────────────┴───────┘\n",
            "Downloading 2024-11-03-07-52-45_cpt7_raw_imu.bag: 100% 4.12k/4.12k [00:00<00:00, 7.19MB/s]\n"
          ]
        }
      ],
      "source": [
        "# Download a single .bag with position data\n",
        "!klein download --dest=. 825939ea-3034-4b70-b3bd-d5ee82ebb430 # The ID of the individual file.\n",
        "\n",
        "# To download an entire mission, use the format:\n",
        "# klein download --dest=. --mission={MISSION_UUID}\n",
        "\n",
        "# To download only files matching a pattern, use the format:\n",
        "# klein download --dest=. --mission={MISSION_UUID} '*.bag'\n",
        "# klein download --dest=. --mission={MISSION_UUID} '*imu*'\n",
        "# etc..."
      ]
    },
    {
      "cell_type": "markdown",
      "metadata": {
        "id": "rjD2Oig6GKct"
      },
      "source": [
        "See the bag downloaded:"
      ]
    },
    {
      "cell_type": "code",
      "execution_count": 49,
      "metadata": {
        "colab": {
          "base_uri": "https://localhost:8080/"
        },
        "id": "tOLb52YHF567",
        "outputId": "d86f950d-abdd-47e2-d8ce-a306c43cfbec"
      },
      "outputs": [
        {
          "name": "stdout",
          "output_type": "stream",
          "text": [
            "2024-11-03-07-52-45_cpt7_raw_imu.bag\n"
          ]
        }
      ],
      "source": [
        "!ls"
      ]
    },
    {
      "cell_type": "markdown",
      "metadata": {
        "id": "qyy9vZt4C1Zk"
      },
      "source": [
        "#### 💡 Notes on Downloading via `klein`\n",
        "* The `--project` option isn't necessary to specify. It can be used to specify\n",
        "the **GrandTour** project as Kleinkram is a general purpose data repository for the Robotic System's Lab, but mission UUIDs are unique so it isn't needed.\n",
        "\n",
        "* The pattern argument can be used to filter the data to get only the ROSBags/MCAP files that you want from the mission, eg:\n",
        "\n",
        " `klein download --mission {MISSION_UUID} --dest=. \"*imu*\"`\n",
        "\n",
        "\n"
      ]
    },
    {
      "cell_type": "markdown",
      "metadata": {
        "id": "J13PiZ0lMKao"
      },
      "source": [
        "## Downloading from HuggingFace\n",
        "\n",
        "[TODO!]"
      ]
    }
  ],
  "metadata": {
    "colab": {
      "provenance": []
    },
    "kernelspec": {
      "display_name": "Python 3",
      "name": "python3"
    },
    "language_info": {
      "name": "python"
    }
  },
  "nbformat": 4,
  "nbformat_minor": 0
}
