{
  "cells": [
    {
      "cell_type": "markdown",
      "metadata": {
        "id": "iJUj0TiKtGJS"
      },
      "source": [
        "# [0] Accessing GrandTour Data\n",
        "© 2025 ETH Zurich\n",
        "\n",
        " [![Open In Colab](https://colab.research.google.com/assets/colab-badge.svg)](https://colab.research.google.com/github/leggedrobotics/grand_tour_dataset/blob/main/examples/%5B0%5D_Accessing_GrandTour_Data.ipynb)\n",
        "\n",
        "\n",
        "## Overview\n",
        "GrandTour data is avaialable in three formats, hosted on two platforms:\n",
        "\n",
        "<table>\n",
        "  <tr>\n",
        "    <th style=\"padding: 10px; text-align: left;\">Format</th>\n",
        "    <th style=\"padding: 10px; text-align: left;\"></th>\n",
        "    <th style=\"padding: 10px; text-align: left;\"></th>\n",
        "    <th style=\"padding: 10px; text-align: left;\">Hosted on</th>\n",
        "    <th style=\"padding: 10px; text-align: left;\"></th>\n",
        "  </tr>\n",
        "  <tr>\n",
        "    <td><img src=\"https://raw.githubusercontent.com/leggedrobotics/grand_tour_dataset/refs/heads/main/assets/ros-logo.png?token=GHSAT0AAAAAACX6Q2VDL4MPT2URST4PMQL4Z5PB4YQ\" height=\"30\"></td>\n",
        "    <td style=\"padding-left: 15px;\"><a href=\"https://wiki.ros.org/rosbag\">ROS Bags</a></td><td></td><td><img src=\"https://raw.githubusercontent.com/leggedrobotics/grand_tour_dataset/refs/heads/main/assets/rsl-logo.png?token=GHSAT0AAAAAACX6Q2VD7M25RXD6ETUTSYWOZ5PB43A\" height=\"30\"></td><td style=\"padding-left: 15px;\">Kleinkram</td>\n",
        "  </tr>\n",
        "  <tr>\n",
        "    <td><img src=\"https://raw.githubusercontent.com/leggedrobotics/grand_tour_dataset/refs/heads/main/assets/mcap-logo.png?token=GHSAT0AAAAAACX6Q2VC6MPFMAMDDC7QNCV4Z5PB4WA\" height=\"40\"></td>\n",
        "    <td style=\"padding-left: 15px;\"><a href=\"https://mcap.dev/\">MCAP</a></td><td></td><td><img src=\"https://raw.githubusercontent.com/leggedrobotics/grand_tour_dataset/refs/heads/main/assets/rsl-logo.png?token=GHSAT0AAAAAACX6Q2VD7M25RXD6ETUTSYWOZ5PB43A\" height=\"30\"><td style=\"padding-left: 15px;\">Kleinkram</td>\n",
        "  </tr>\n",
        "  <tr>\n",
        "    <td><img src=\"https://raw.githubusercontent.com/leggedrobotics/grand_tour_dataset/refs/heads/main/assets/zarr-logo.png?token=GHSAT0AAAAAACX6Q2VCG22SOZRJTL42FVF6Z5PB45A\" height=\"40\"></td>\n",
        "    <td style=\"padding-left: 15px;\"><a href=\"https://zarr.dev/\">ZARR</a></td><td></td><td><img src=\"https://raw.githubusercontent.com/leggedrobotics/grand_tour_dataset/refs/heads/main/assets/hf-logo.png?token=GHSAT0AAAAAACX6Q2VDYNRPBRVVCMMVM76AZ5PB4HA\" height=\"30\"><td style=\"padding-left: 15px;\">HuggingFace</td>\n",
        "  </tr>\n",
        "</table>\n",
        "\n",
        "### Structure\n",
        "\n",
        "Data is stored by **Mission**, which represents a single continuous deployment of the robot. All **Missions** will have the same data fields, except where it was impossible to collect (eg: GNSS data indoors)."
      ]
    },
    {
      "cell_type": "markdown",
      "metadata": {
        "id": "vRCf1ihS2lch"
      },
      "source": [
        "## Downloading from Kleinkram\n",
        "[Kleinkram](https://datasets.leggedrobotics.com/) is the ETHZ Robotic Systems Lab in-house data storage platform. A user account is needed to access the api.\n",
        "\n",
        "Kleinkram is provided as a CLI that requires python3.8 or later, though data can be downloaded via the Kleinkram UI as well. It is recommended that you use a virtual environment when running locally, for example:\n",
        "\n",
        "```\n",
        "virtualenv .venv -ppython3.8\n",
        "source .venv/bin/activate\n",
        "```\n",
        "\n",
        "The CLI can be pip installed:"
      ]
    },
    {
      "cell_type": "code",
      "execution_count": 2,
      "metadata": {
        "id": "BlqRphSIssZK"
      },
      "outputs": [],
      "source": [
        "!pip install -q kleinkram"
      ]
    },
    {
      "cell_type": "markdown",
      "metadata": {
        "id": "OpF0RSdM5UFY"
      },
      "source": [
        "This will add `klein` to your path, and you are ready to download GrandTour ROSbag and MCAP data! Use `klein --help` to see additional options not covered here.\n",
        "\n",
        "First, login with:\n",
        "\n",
        "\n"
      ]
    },
    {
      "cell_type": "code",
      "execution_count": 5,
      "metadata": {
        "colab": {
          "base_uri": "https://localhost:8080/"
        },
        "id": "KATxoq076MuT",
        "outputId": "a300a11b-ba62-490c-c2ed-abaa2a554dbe"
      },
      "outputs": [
        {
          "name": "stdout",
          "output_type": "stream",
          "text": [
            "Please open the following URL manually to authenticate: https://api.datasets.leggedrobotics.com/auth/google?state=cli-no-redirect\n",
            "Enter the authentication token provided after logging in:\n",
            "Authentication Token: \n",
            "Refresh Token: \n",
            "Authentication complete. Tokens saved to /root/.kleinkram.json.\n"
          ]
        }
      ],
      "source": [
        "!klein login"
      ]
    },
    {
      "cell_type": "markdown",
      "metadata": {
        "id": "xQyu4UBb6a1z"
      },
      "source": [
        "Then download a file or entire mission of your choice. Here we will only download a single `.bag` file to keep the notebook lightweight, but you can choose a mission from the [TODO!GrandTour webpage](https://TODO) or [Kleinkram's UI](https://datasets.leggedrobotics.com/).\n",
        "\n",
        "⚡*Tip:* The Kleinkram UI provides the CLI command needed to download a specific mission (or specific file):"
      ]
    },
    {
      "cell_type": "code",
      "execution_count": 44,
      "metadata": {
        "colab": {
          "base_uri": "https://localhost:8080/"
        },
        "id": "QUtYAPIVC0Ln",
        "outputId": "8d5d71c5-9787-4969-c156-23fb01a2cab5"
      },
      "outputs": [
        {
          "name": "stdout",
          "output_type": "stream",
          "text": [
            "\u001b[3m                                        downloading files...                                        \u001b[0m\n",
            "┏━━━━━━━━━━━┳━━━━━━━━━━━━━━━━━━━━━┳━━━━━━━━━━━━━━━━━━━━━━━━━━━━┳━━━━━━━━━━━━━━━━━━━━━━━━━━━┳━━━━━━━┓\n",
            "┃\u001b[1m \u001b[0m\u001b[1mproject  \u001b[0m\u001b[1m \u001b[0m┃\u001b[1m \u001b[0m\u001b[1mmission            \u001b[0m\u001b[1m \u001b[0m┃\u001b[1m \u001b[0m\u001b[1mname                      \u001b[0m\u001b[1m \u001b[0m┃\u001b[1m \u001b[0m\u001b[1mid                       \u001b[0m\u001b[1m \u001b[0m┃\u001b[1m \u001b[0m\u001b[1mstate\u001b[0m\u001b[1m \u001b[0m┃\n",
            "┡━━━━━━━━━━━╇━━━━━━━━━━━━━━━━━━━━━╇━━━━━━━━━━━━━━━━━━━━━━━━━━━━╇━━━━━━━━━━━━━━━━━━━━━━━━━━━╇━━━━━━━┩\n",
            "│ GrandTour │ 2024-11-03-07-52-45 │ 2024-11-03-07-52-45_cpt7_… │ \u001b[32m825939ea-3034-4b70-b3bd-…\u001b[0m │ \u001b[32mOK   \u001b[0m │\n",
            "└───────────┴─────────────────────┴────────────────────────────┴───────────────────────────┴───────┘\n",
            "Downloading 2024-11-03-07-52-45_cpt7_raw_imu.bag: 100% 4.12k/4.12k [00:00<00:00, 7.19MB/s]\n"
          ]
        }
      ],
      "source": [
        "# Download a single .bag with position data\n",
        "!klein download --dest=. 825939ea-3034-4b70-b3bd-d5ee82ebb430 # The ID of the individual file.\n",
        "\n",
        "# To download an entire mission, use the format:\n",
        "# klein download --dest=. --mission={MISSION_UUID}\n",
        "\n",
        "# To download only files matching a pattern, use the format:\n",
        "# klein download --dest=. --mission={MISSION_UUID} '*.bag'\n",
        "# klein download --dest=. --mission={MISSION_UUID} '*imu*'\n",
        "# etc..."
      ]
    },
    {
      "cell_type": "markdown",
      "metadata": {
        "id": "rjD2Oig6GKct"
      },
      "source": [
        "See the bag downloaded:"
      ]
    },
    {
      "cell_type": "code",
      "execution_count": 1,
      "metadata": {
        "colab": {
          "base_uri": "https://localhost:8080/"
        },
        "id": "tOLb52YHF567",
        "outputId": "d86f950d-abdd-47e2-d8ce-a306c43cfbec"
      },
      "outputs": [
        {
          "name": "stdout",
          "output_type": "stream",
          "text": [
            "[0]_Accessing_GrandTour_Data.ipynb [1]_Exploring_GrandTour_Data.ipynb\n"
          ]
        }
      ],
      "source": [
        "!ls"
      ]
    },
    {
      "cell_type": "markdown",
      "metadata": {
        "id": "qyy9vZt4C1Zk"
      },
      "source": [
        "#### 💡 Notes on Downloading via `klein`\n",
        "* The `--project` option isn't necessary to specify. It can be used to specify\n",
        "the **GrandTour** project as Kleinkram is a general purpose data repository for the Robotic System's Lab, but mission UUIDs are unique so it isn't needed.\n",
        "\n",
        "* The pattern argument can be used to filter the data to get only the ROSBags/MCAP files that you want from the mission, eg:\n",
        "\n",
        " `klein download --mission {MISSION_UUID} --dest=. \"*imu*\"`\n",
        "\n",
        "\n"
      ]
    },
    {
      "cell_type": "markdown",
      "metadata": {
        "id": "J13PiZ0lMKao"
      },
      "source": [
        "## Downloading from HuggingFace\n",
        "\n",
        "We provide the entire dataset on HuggingFace in `.zarr` format, free from the overhead of the ROS ecosystem. HuggingFace has an easy-to-use python download API called `huggingface_hub`. It is possible to download directly from the GrandTour HuggingFace repo UI, but we strongly reccomend making use of `hugginface_hub`, as it manages caching files, interrupted downloads and smart fetching of updated files.\n",
        "\n",
        "First, install `huggingface_hub`:"
      ]
    },
    {
      "cell_type": "code",
      "execution_count": 3,
      "metadata": {},
      "outputs": [],
      "source": [
        "! pip install -q huggingface_hub"
      ]
    },
    {
      "cell_type": "markdown",
      "metadata": {},
      "source": [
        "Then (you'll need a HuggingFace account first), login using the cli. This will store authentication tokens on your PC and allow you to use the API to download data."
      ]
    },
    {
      "cell_type": "code",
      "execution_count": null,
      "metadata": {},
      "outputs": [],
      "source": [
        "# If your notebook isn't able to take input from the command line, run this in a local terminal instead\n",
        "! huggingface-cli login"
      ]
    },
    {
      "cell_type": "markdown",
      "metadata": {},
      "source": [
        "Now you can download an a mission of your choice. The next tutorial - _[1] Exploring GrandTour Data_ - uses 2024-10-01-11-29-55, so we will donwload it here in anticipation."
      ]
    },
    {
      "cell_type": "code",
      "execution_count": 5,
      "metadata": {},
      "outputs": [],
      "source": [
        "mission = \"2024-10-01-11-29-55\""
      ]
    },
    {
      "cell_type": "code",
      "execution_count": 6,
      "metadata": {},
      "outputs": [
        {
          "data": {
            "application/vnd.jupyter.widget-view+json": {
              "model_id": "ff965af9f7a04f5a89f394a58775e83b",
              "version_major": 2,
              "version_minor": 0
            },
            "text/plain": [
              "Fetching 116 files:   0%|          | 0/116 [00:00<?, ?it/s]"
            ]
          },
          "metadata": {},
          "output_type": "display_data"
        },
        {
          "data": {
            "application/vnd.jupyter.widget-view+json": {
              "model_id": "f466245fcd194a0ba54c90786fb9d2d4",
              "version_major": 2,
              "version_minor": 0
            },
            "text/plain": [
              "2024-10-01-11-29-55%2Fdata%2F.zgroup:   0%|          | 0.00/24.0 [00:00<?, ?B/s]"
            ]
          },
          "metadata": {},
          "output_type": "display_data"
        },
        {
          "data": {
            "application/vnd.jupyter.widget-view+json": {
              "model_id": "375b9c4cc0be45fa80cfcf9f2cf5f384",
              "version_major": 2,
              "version_minor": 0
            },
            "text/plain": [
              "alphasense_cam3.tar:   0%|          | 0.00/2.19M [00:00<?, ?B/s]"
            ]
          },
          "metadata": {},
          "output_type": "display_data"
        },
        {
          "data": {
            "application/vnd.jupyter.widget-view+json": {
              "model_id": "53134c6ebf1249c2a2a53f92d697d618",
              "version_major": 2,
              "version_minor": 0
            },
            "text/plain": [
              "alphasense_cam2.tar:   0%|          | 0.00/2.19M [00:00<?, ?B/s]"
            ]
          },
          "metadata": {},
          "output_type": "display_data"
        },
        {
          "data": {
            "application/vnd.jupyter.widget-view+json": {
              "model_id": "e3156e8298fb4c8b9459e023a91e1015",
              "version_major": 2,
              "version_minor": 0
            },
            "text/plain": [
              "ap20_imu.tar:   0%|          | 0.00/8.50M [00:00<?, ?B/s]"
            ]
          },
          "metadata": {},
          "output_type": "display_data"
        },
        {
          "data": {
            "application/vnd.jupyter.widget-view+json": {
              "model_id": "3f612968b7074b6baaaa86f3d2469882",
              "version_major": 2,
              "version_minor": 0
            },
            "text/plain": [
              "alphasense_cam1.tar:   0%|          | 0.00/2.19M [00:00<?, ?B/s]"
            ]
          },
          "metadata": {},
          "output_type": "display_data"
        },
        {
          "data": {
            "application/vnd.jupyter.widget-view+json": {
              "model_id": "410c8cbba43f4af39dc7e5d857b5cb58",
              "version_major": 2,
              "version_minor": 0
            },
            "text/plain": [
              "alphasense_cam5.tar:   0%|          | 0.00/2.19M [00:00<?, ?B/s]"
            ]
          },
          "metadata": {},
          "output_type": "display_data"
        },
        {
          "data": {
            "application/vnd.jupyter.widget-view+json": {
              "model_id": "ae8d2351eed444ce874c62f9671b579a",
              "version_major": 2,
              "version_minor": 0
            },
            "text/plain": [
              "adis_imu.tar:   0%|          | 0.00/9.80M [00:00<?, ?B/s]"
            ]
          },
          "metadata": {},
          "output_type": "display_data"
        },
        {
          "data": {
            "application/vnd.jupyter.widget-view+json": {
              "model_id": "0622b6cc9b4a468695ef6f6296ea0810",
              "version_major": 2,
              "version_minor": 0
            },
            "text/plain": [
              "alphasense_cam4.tar:   0%|          | 0.00/2.19M [00:00<?, ?B/s]"
            ]
          },
          "metadata": {},
          "output_type": "display_data"
        },
        {
          "data": {
            "application/vnd.jupyter.widget-view+json": {
              "model_id": "637c44733f464975a9fd7be135f74dd3",
              "version_major": 2,
              "version_minor": 0
            },
            "text/plain": [
              "cpt7_dgps_tf.tar:   0%|          | 0.00/4.10M [00:00<?, ?B/s]"
            ]
          },
          "metadata": {},
          "output_type": "display_data"
        },
        {
          "data": {
            "application/vnd.jupyter.widget-view+json": {
              "model_id": "45b33c320c284f568d38a76422b69293",
              "version_major": 2,
              "version_minor": 0
            },
            "text/plain": [
              "cpt7_gps.tar:   0%|          | 0.00/7.40M [00:00<?, ?B/s]"
            ]
          },
          "metadata": {},
          "output_type": "display_data"
        },
        {
          "data": {
            "application/vnd.jupyter.widget-view+json": {
              "model_id": "21c6adf59c974ce6bbcedafd8764350c",
              "version_major": 2,
              "version_minor": 0
            },
            "text/plain": [
              "cpt7_gps_tf.tar:   0%|          | 0.00/5.77M [00:00<?, ?B/s]"
            ]
          },
          "metadata": {},
          "output_type": "display_data"
        },
        {
          "data": {
            "application/vnd.jupyter.widget-view+json": {
              "model_id": "be641597f4ed403b932e7d4df2d4d483",
              "version_major": 2,
              "version_minor": 0
            },
            "text/plain": [
              "cpt7_imu.tar:   0%|          | 0.00/9.36M [00:00<?, ?B/s]"
            ]
          },
          "metadata": {},
          "output_type": "display_data"
        },
        {
          "data": {
            "application/vnd.jupyter.widget-view+json": {
              "model_id": "88e7c54f841d4a4ba2cce61c1cf1dfbf",
              "version_major": 2,
              "version_minor": 0
            },
            "text/plain": [
              "cpt7_imu_offline_from_novatel.tar:   0%|          | 0.00/7.73M [00:00<?, ?B/s]"
            ]
          },
          "metadata": {},
          "output_type": "display_data"
        },
        {
          "data": {
            "application/vnd.jupyter.widget-view+json": {
              "model_id": "6e2dfaf168be4ba5acbdee92275a4846",
              "version_major": 2,
              "version_minor": 0
            },
            "text/plain": [
              "cpt7_lc_tf.tar:   0%|          | 0.00/5.78M [00:00<?, ?B/s]"
            ]
          },
          "metadata": {},
          "output_type": "display_data"
        },
        {
          "data": {
            "application/vnd.jupyter.widget-view+json": {
              "model_id": "7213ed16fba94496b2ec0be52eb83ee7",
              "version_major": 2,
              "version_minor": 0
            },
            "text/plain": [
              "cpt7_odometry.tar:   0%|          | 0.00/8.52M [00:00<?, ?B/s]"
            ]
          },
          "metadata": {},
          "output_type": "display_data"
        },
        {
          "data": {
            "application/vnd.jupyter.widget-view+json": {
              "model_id": "38fc74f622684633be341a1fd2624e91",
              "version_major": 2,
              "version_minor": 0
            },
            "text/plain": [
              "cpt7_post_processed_tf.tar:   0%|          | 0.00/4.95M [00:00<?, ?B/s]"
            ]
          },
          "metadata": {},
          "output_type": "display_data"
        },
        {
          "data": {
            "application/vnd.jupyter.widget-view+json": {
              "model_id": "3d1f7e7490e2487b8264335f693d7949",
              "version_major": 2,
              "version_minor": 0
            },
            "text/plain": [
              "cpt7_ppp_tf.tar:   0%|          | 0.00/4.10M [00:00<?, ?B/s]"
            ]
          },
          "metadata": {},
          "output_type": "display_data"
        },
        {
          "data": {
            "application/vnd.jupyter.widget-view+json": {
              "model_id": "1f0318b2bca4442c86324fdbc240078a",
              "version_major": 2,
              "version_minor": 0
            },
            "text/plain": [
              "cpt7_tc_tf.tar:   0%|          | 0.00/5.77M [00:00<?, ?B/s]"
            ]
          },
          "metadata": {},
          "output_type": "display_data"
        },
        {
          "data": {
            "application/vnd.jupyter.widget-view+json": {
              "model_id": "de9226f2e175401ab99f855d5616eabd",
              "version_major": 2,
              "version_minor": 0
            },
            "text/plain": [
              "dlio.tar:   0%|          | 0.00/1.71G [00:00<?, ?B/s]"
            ]
          },
          "metadata": {},
          "output_type": "display_data"
        },
        {
          "data": {
            "application/vnd.jupyter.widget-view+json": {
              "model_id": "f7153e5730dd4aaf9226ef91a7289345",
              "version_major": 2,
              "version_minor": 0
            },
            "text/plain": [
              "dlio_map_odometry.tar:   0%|          | 0.00/7.14M [00:00<?, ?B/s]"
            ]
          },
          "metadata": {},
          "output_type": "display_data"
        },
        {
          "data": {
            "application/vnd.jupyter.widget-view+json": {
              "model_id": "db93ce01bee64429965026a8dd811506",
              "version_major": 2,
              "version_minor": 0
            },
            "text/plain": [
              "dlio_pose.tar:   0%|          | 0.00/5.79M [00:00<?, ?B/s]"
            ]
          },
          "metadata": {},
          "output_type": "display_data"
        },
        {
          "data": {
            "application/vnd.jupyter.widget-view+json": {
              "model_id": "c24cbd08650c4098a75f77fc7c24f0c4",
              "version_major": 2,
              "version_minor": 0
            },
            "text/plain": [
              "dlio_odometry.tar:   0%|          | 0.00/10.5M [00:00<?, ?B/s]"
            ]
          },
          "metadata": {},
          "output_type": "display_data"
        },
        {
          "data": {
            "application/vnd.jupyter.widget-view+json": {
              "model_id": "ea71c16d5f974fe896c7b297d9be0cce",
              "version_major": 2,
              "version_minor": 0
            },
            "text/plain": [
              "ground_truth_with_cov.tar:   0%|          | 0.00/14.5M [00:00<?, ?B/s]"
            ]
          },
          "metadata": {},
          "output_type": "display_data"
        },
        {
          "data": {
            "application/vnd.jupyter.widget-view+json": {
              "model_id": "ed0bda3c8fda46f5984f13167311a664",
              "version_major": 2,
              "version_minor": 0
            },
            "text/plain": [
              "hdr_front.tar:   0%|          | 0.00/2.19M [00:00<?, ?B/s]"
            ]
          },
          "metadata": {},
          "output_type": "display_data"
        },
        {
          "data": {
            "application/vnd.jupyter.widget-view+json": {
              "model_id": "c467eb389b214fd984be7260be0fb902",
              "version_major": 2,
              "version_minor": 0
            },
            "text/plain": [
              "ground_truth.tar:   0%|          | 0.00/5.69M [00:00<?, ?B/s]"
            ]
          },
          "metadata": {},
          "output_type": "display_data"
        },
        {
          "data": {
            "application/vnd.jupyter.widget-view+json": {
              "model_id": "3ac8fab08f1e4d99b7c36d9b340458f4",
              "version_major": 2,
              "version_minor": 0
            },
            "text/plain": [
              "hdr_left.tar:   0%|          | 0.00/2.19M [00:00<?, ?B/s]"
            ]
          },
          "metadata": {},
          "output_type": "display_data"
        },
        {
          "data": {
            "application/vnd.jupyter.widget-view+json": {
              "model_id": "e21a36fcdcff4ff1844b317dda13be65",
              "version_major": 2,
              "version_minor": 0
            },
            "text/plain": [
              "hdr_right.tar:   0%|          | 0.00/2.19M [00:00<?, ?B/s]"
            ]
          },
          "metadata": {},
          "output_type": "display_data"
        },
        {
          "data": {
            "application/vnd.jupyter.widget-view+json": {
              "model_id": "093b43a71941460abe2f15122d45f5c2",
              "version_major": 2,
              "version_minor": 0
            },
            "text/plain": [
              "hesai.tar:   0%|          | 0.00/2.16G [00:00<?, ?B/s]"
            ]
          },
          "metadata": {},
          "output_type": "display_data"
        },
        {
          "data": {
            "application/vnd.jupyter.widget-view+json": {
              "model_id": "0aba0c08609c47c2b4b4583bee176eea",
              "version_major": 2,
              "version_minor": 0
            },
            "text/plain": [
              "hesai_last.tar:   0%|          | 0.00/2.16G [00:00<?, ?B/s]"
            ]
          },
          "metadata": {},
          "output_type": "display_data"
        },
        {
          "data": {
            "application/vnd.jupyter.widget-view+json": {
              "model_id": "2714daa48c9e421fbf13734e2bf7c299",
              "version_major": 2,
              "version_minor": 0
            },
            "text/plain": [
              "livox.tar:   0%|          | 0.00/686M [00:00<?, ?B/s]"
            ]
          },
          "metadata": {},
          "output_type": "display_data"
        },
        {
          "data": {
            "application/vnd.jupyter.widget-view+json": {
              "model_id": "ce103bfc2ba14bfeab668c1189306b82",
              "version_major": 2,
              "version_minor": 0
            },
            "text/plain": [
              "livox_imu.tar:   0%|          | 0.00/8.40M [00:00<?, ?B/s]"
            ]
          },
          "metadata": {},
          "output_type": "display_data"
        },
        {
          "data": {
            "application/vnd.jupyter.widget-view+json": {
              "model_id": "ab88d55d56e04a74a2ceb4a9c55a5133",
              "version_major": 2,
              "version_minor": 0
            },
            "text/plain": [
              "livox_imu_si_compliant.tar:   0%|          | 0.00/9.19M [00:00<?, ?B/s]"
            ]
          },
          "metadata": {},
          "output_type": "display_data"
        },
        {
          "data": {
            "application/vnd.jupyter.widget-view+json": {
              "model_id": "4a6b50901ac349d983c203519f5fc1a0",
              "version_major": 2,
              "version_minor": 0
            },
            "text/plain": [
              "novatel.tar:   0%|          | 0.00/6.90M [00:00<?, ?B/s]"
            ]
          },
          "metadata": {},
          "output_type": "display_data"
        },
        {
          "data": {
            "application/vnd.jupyter.widget-view+json": {
              "model_id": "3884d0104a6241d59b2f9270db1f1480",
              "version_major": 2,
              "version_minor": 0
            },
            "text/plain": [
              "novatel_dgps.tar:   0%|          | 0.00/4.72M [00:00<?, ?B/s]"
            ]
          },
          "metadata": {},
          "output_type": "display_data"
        },
        {
          "data": {
            "application/vnd.jupyter.widget-view+json": {
              "model_id": "20586728b8b5458c9208bc796cf0be1e",
              "version_major": 2,
              "version_minor": 0
            },
            "text/plain": [
              "novatel_dgps_odometry.tar:   0%|          | 0.00/6.96M [00:00<?, ?B/s]"
            ]
          },
          "metadata": {},
          "output_type": "display_data"
        },
        {
          "data": {
            "application/vnd.jupyter.widget-view+json": {
              "model_id": "11fcfd2472d04eeaaacc1c552bb48fa5",
              "version_major": 2,
              "version_minor": 0
            },
            "text/plain": [
              "novatel_lc.tar:   0%|          | 0.00/6.88M [00:00<?, ?B/s]"
            ]
          },
          "metadata": {},
          "output_type": "display_data"
        },
        {
          "data": {
            "application/vnd.jupyter.widget-view+json": {
              "model_id": "8c079f31c85943c591072a1e8ba522e4",
              "version_major": 2,
              "version_minor": 0
            },
            "text/plain": [
              "novatel_lc_odometry.tar:   0%|          | 0.00/8.44M [00:00<?, ?B/s]"
            ]
          },
          "metadata": {},
          "output_type": "display_data"
        },
        {
          "data": {
            "application/vnd.jupyter.widget-view+json": {
              "model_id": "82542150be624111b9a2f61482af2f56",
              "version_major": 2,
              "version_minor": 0
            },
            "text/plain": [
              "novatel_odometry.tar:   0%|          | 0.00/8.45M [00:00<?, ?B/s]"
            ]
          },
          "metadata": {},
          "output_type": "display_data"
        },
        {
          "data": {
            "application/vnd.jupyter.widget-view+json": {
              "model_id": "4e69b226316b4182bc7a1f7fa3d7d655",
              "version_major": 2,
              "version_minor": 0
            },
            "text/plain": [
              "novatel_ppp.tar:   0%|          | 0.00/4.72M [00:00<?, ?B/s]"
            ]
          },
          "metadata": {},
          "output_type": "display_data"
        },
        {
          "data": {
            "application/vnd.jupyter.widget-view+json": {
              "model_id": "c5d8cc4bc5d54ce5b544d6954805fe3a",
              "version_major": 2,
              "version_minor": 0
            },
            "text/plain": [
              "novatel_ppp_odometry.tar:   0%|          | 0.00/6.96M [00:00<?, ?B/s]"
            ]
          },
          "metadata": {},
          "output_type": "display_data"
        },
        {
          "data": {
            "application/vnd.jupyter.widget-view+json": {
              "model_id": "7e794fff6c6b4f848608b89f18745202",
              "version_major": 2,
              "version_minor": 0
            },
            "text/plain": [
              "novatel_tc_odometry.tar:   0%|          | 0.00/8.45M [00:00<?, ?B/s]"
            ]
          },
          "metadata": {},
          "output_type": "display_data"
        },
        {
          "data": {
            "application/vnd.jupyter.widget-view+json": {
              "model_id": "61ece2007ad648af856ec86dc079df49",
              "version_major": 2,
              "version_minor": 0
            },
            "text/plain": [
              "stim_imu.tar:   0%|          | 0.00/14.3M [00:00<?, ?B/s]"
            ]
          },
          "metadata": {},
          "output_type": "display_data"
        },
        {
          "data": {
            "application/vnd.jupyter.widget-view+json": {
              "model_id": "3ca5f55e900f4f1588b49fab2a2d0448",
              "version_major": 2,
              "version_minor": 0
            },
            "text/plain": [
              "prism.tar:   0%|          | 0.00/3.05M [00:00<?, ?B/s]"
            ]
          },
          "metadata": {},
          "output_type": "display_data"
        },
        {
          "data": {
            "application/vnd.jupyter.widget-view+json": {
              "model_id": "b27cce23ead6450d8a28ece958b9ee43",
              "version_major": 2,
              "version_minor": 0
            },
            "text/plain": [
              "novatel_tc.tar:   0%|          | 0.00/6.82M [00:00<?, ?B/s]"
            ]
          },
          "metadata": {},
          "output_type": "display_data"
        },
        {
          "data": {
            "application/vnd.jupyter.widget-view+json": {
              "model_id": "ef592bc46e414dfcabfb9974c82ee7ec",
              "version_major": 2,
              "version_minor": 0
            },
            "text/plain": [
              "zed2i_confidence.tar:   0%|          | 0.00/2.19M [00:00<?, ?B/s]"
            ]
          },
          "metadata": {},
          "output_type": "display_data"
        },
        {
          "data": {
            "application/vnd.jupyter.widget-view+json": {
              "model_id": "95d6168bbe434cecb288d69c721ec16c",
              "version_major": 2,
              "version_minor": 0
            },
            "text/plain": [
              "zed2i_depth.tar:   0%|          | 0.00/2.19M [00:00<?, ?B/s]"
            ]
          },
          "metadata": {},
          "output_type": "display_data"
        },
        {
          "data": {
            "application/vnd.jupyter.widget-view+json": {
              "model_id": "6ae90415dabd4d928f9e1033e688eb0a",
              "version_major": 2,
              "version_minor": 0
            },
            "text/plain": [
              "zed2i_imu.tar:   0%|          | 0.00/8.45M [00:00<?, ?B/s]"
            ]
          },
          "metadata": {},
          "output_type": "display_data"
        },
        {
          "data": {
            "application/vnd.jupyter.widget-view+json": {
              "model_id": "662818c2ae7c40b099727b6fd10ef90e",
              "version_major": 2,
              "version_minor": 0
            },
            "text/plain": [
              "zed2i_imu.tar.tar:   0%|          | 0.00/8.46M [00:00<?, ?B/s]"
            ]
          },
          "metadata": {},
          "output_type": "display_data"
        },
        {
          "data": {
            "application/vnd.jupyter.widget-view+json": {
              "model_id": "9b8bb4e05ad2489ebc4d56e00b4a987f",
              "version_major": 2,
              "version_minor": 0
            },
            "text/plain": [
              "zed2i_left.tar:   0%|          | 0.00/2.19M [00:00<?, ?B/s]"
            ]
          },
          "metadata": {},
          "output_type": "display_data"
        },
        {
          "data": {
            "application/vnd.jupyter.widget-view+json": {
              "model_id": "be3f98cb5ce548bc9566314cdd60405e",
              "version_major": 2,
              "version_minor": 0
            },
            "text/plain": [
              "zed2i_magnetic_field.tar:   0%|          | 0.00/3.88M [00:00<?, ?B/s]"
            ]
          },
          "metadata": {},
          "output_type": "display_data"
        },
        {
          "data": {
            "application/vnd.jupyter.widget-view+json": {
              "model_id": "135cd2760c924346bcac893d43ba037c",
              "version_major": 2,
              "version_minor": 0
            },
            "text/plain": [
              "zed2i_odometry.tar:   0%|          | 0.00/7.19M [00:00<?, ?B/s]"
            ]
          },
          "metadata": {},
          "output_type": "display_data"
        },
        {
          "data": {
            "application/vnd.jupyter.widget-view+json": {
              "model_id": "172a363776f347d59e181313b39502ac",
              "version_major": 2,
              "version_minor": 0
            },
            "text/plain": [
              "zed2i_right.tar:   0%|          | 0.00/2.19M [00:00<?, ?B/s]"
            ]
          },
          "metadata": {},
          "output_type": "display_data"
        },
        {
          "data": {
            "application/vnd.jupyter.widget-view+json": {
              "model_id": "e863e94efb814e8cae71fc3c5415d5cb",
              "version_major": 2,
              "version_minor": 0
            },
            "text/plain": [
              "zed2i_tf.tar:   0%|          | 0.00/4.33M [00:00<?, ?B/s]"
            ]
          },
          "metadata": {},
          "output_type": "display_data"
        },
        {
          "data": {
            "application/vnd.jupyter.widget-view+json": {
              "model_id": "7a5fdf3e8a654525a4ad1355fb8240d2",
              "version_major": 2,
              "version_minor": 0
            },
            "text/plain": [
              "alphasense_cam1.tar:   0%|          | 0.00/1.45G [00:00<?, ?B/s]"
            ]
          },
          "metadata": {},
          "output_type": "display_data"
        },
        {
          "data": {
            "application/vnd.jupyter.widget-view+json": {
              "model_id": "092668bcfb884f29aa5b28917fc3bff0",
              "version_major": 2,
              "version_minor": 0
            },
            "text/plain": [
              "alphasense_cam2.tar:   0%|          | 0.00/1.41G [00:00<?, ?B/s]"
            ]
          },
          "metadata": {},
          "output_type": "display_data"
        },
        {
          "data": {
            "application/vnd.jupyter.widget-view+json": {
              "model_id": "cb61db2bcded4a8aacf123768b80316a",
              "version_major": 2,
              "version_minor": 0
            },
            "text/plain": [
              "alphasense_cam3.tar:   0%|          | 0.00/1.16G [00:00<?, ?B/s]"
            ]
          },
          "metadata": {},
          "output_type": "display_data"
        },
        {
          "data": {
            "application/vnd.jupyter.widget-view+json": {
              "model_id": "57c9f2bcdb74421fa932fa2b89f50b97",
              "version_major": 2,
              "version_minor": 0
            },
            "text/plain": [
              "alphasense_cam4.tar:   0%|          | 0.00/1.33G [00:00<?, ?B/s]"
            ]
          },
          "metadata": {},
          "output_type": "display_data"
        },
        {
          "data": {
            "application/vnd.jupyter.widget-view+json": {
              "model_id": "cf374f812abf401597e8c9c807a58d01",
              "version_major": 2,
              "version_minor": 0
            },
            "text/plain": [
              "alphasense_cam5.tar:   0%|          | 0.00/1.31G [00:00<?, ?B/s]"
            ]
          },
          "metadata": {},
          "output_type": "display_data"
        },
        {
          "data": {
            "application/vnd.jupyter.widget-view+json": {
              "model_id": "a8e70eb95ff7477ca547525da5c20975",
              "version_major": 2,
              "version_minor": 0
            },
            "text/plain": [
              "hdr_front.tar:   0%|          | 0.00/2.58G [00:00<?, ?B/s]"
            ]
          },
          "metadata": {},
          "output_type": "display_data"
        },
        {
          "data": {
            "application/vnd.jupyter.widget-view+json": {
              "model_id": "25850b3d935f4f02a7047cdbbd5c685e",
              "version_major": 2,
              "version_minor": 0
            },
            "text/plain": [
              "hdr_left.tar:   0%|          | 0.00/2.85G [00:00<?, ?B/s]"
            ]
          },
          "metadata": {},
          "output_type": "display_data"
        },
        {
          "data": {
            "application/vnd.jupyter.widget-view+json": {
              "model_id": "a98f768a65ba49879560e9dbf614a8c0",
              "version_major": 2,
              "version_minor": 0
            },
            "text/plain": [
              "hdr_right.tar:   0%|          | 0.00/2.86G [00:00<?, ?B/s]"
            ]
          },
          "metadata": {},
          "output_type": "display_data"
        },
        {
          "data": {
            "application/vnd.jupyter.widget-view+json": {
              "model_id": "4501f8bb3c63401183967a758860d7bc",
              "version_major": 2,
              "version_minor": 0
            },
            "text/plain": [
              "zed2i_confidence.tar:   0%|          | 0.00/2.74G [00:00<?, ?B/s]"
            ]
          },
          "metadata": {},
          "output_type": "display_data"
        },
        {
          "data": {
            "application/vnd.jupyter.widget-view+json": {
              "model_id": "23a52a07ff5c49268bf00fb5d1fa1479",
              "version_major": 2,
              "version_minor": 0
            },
            "text/plain": [
              "zed2i_depth.tar:   0%|          | 0.00/1.31G [00:00<?, ?B/s]"
            ]
          },
          "metadata": {},
          "output_type": "display_data"
        },
        {
          "data": {
            "application/vnd.jupyter.widget-view+json": {
              "model_id": "defca5ae5eaa4df0aa1b5e27a733d1be",
              "version_major": 2,
              "version_minor": 0
            },
            "text/plain": [
              "zed2i_left.tar:   0%|          | 0.00/3.09G [00:00<?, ?B/s]"
            ]
          },
          "metadata": {},
          "output_type": "display_data"
        },
        {
          "data": {
            "application/vnd.jupyter.widget-view+json": {
              "model_id": "e6386ebeb2314c7e8807e94bea701fdc",
              "version_major": 2,
              "version_minor": 0
            },
            "text/plain": [
              "zed2i_right.tar:   0%|          | 0.00/3.20G [00:00<?, ?B/s]"
            ]
          },
          "metadata": {},
          "output_type": "display_data"
        },
        {
          "data": {
            "application/vnd.jupyter.widget-view+json": {
              "model_id": "95e1e6813d964ab8b59dba805137f143",
              "version_major": 2,
              "version_minor": 0
            },
            "text/plain": [
              "(…)0-01-11-29-55%2Fmetadata%2Fadis_imu.yaml:   0%|          | 0.00/319 [00:00<?, ?B/s]"
            ]
          },
          "metadata": {},
          "output_type": "display_data"
        },
        {
          "data": {
            "application/vnd.jupyter.widget-view+json": {
              "model_id": "022c0b8e65af454a9d09142a0758a27e",
              "version_major": 2,
              "version_minor": 0
            },
            "text/plain": [
              "(…)-29-55%2Fmetadata%2Falphasense_cam1.yaml:   0%|          | 0.00/1.03k [00:00<?, ?B/s]"
            ]
          },
          "metadata": {},
          "output_type": "display_data"
        },
        {
          "data": {
            "application/vnd.jupyter.widget-view+json": {
              "model_id": "f0d9f9392b2945829d9a5df13d634101",
              "version_major": 2,
              "version_minor": 0
            },
            "text/plain": [
              "(…)-29-55%2Fmetadata%2Falphasense_cam2.yaml:   0%|          | 0.00/1.03k [00:00<?, ?B/s]"
            ]
          },
          "metadata": {},
          "output_type": "display_data"
        },
        {
          "data": {
            "application/vnd.jupyter.widget-view+json": {
              "model_id": "427965e8920e48578ecb6b18169b4236",
              "version_major": 2,
              "version_minor": 0
            },
            "text/plain": [
              "(…)-29-55%2Fmetadata%2Falphasense_cam3.yaml:   0%|          | 0.00/1.04k [00:00<?, ?B/s]"
            ]
          },
          "metadata": {},
          "output_type": "display_data"
        },
        {
          "data": {
            "application/vnd.jupyter.widget-view+json": {
              "model_id": "3b3394da11e6446ea34294b22bcb21d8",
              "version_major": 2,
              "version_minor": 0
            },
            "text/plain": [
              "(…)-29-55%2Fmetadata%2Falphasense_cam4.yaml:   0%|          | 0.00/1.02k [00:00<?, ?B/s]"
            ]
          },
          "metadata": {},
          "output_type": "display_data"
        },
        {
          "data": {
            "application/vnd.jupyter.widget-view+json": {
              "model_id": "b2b31e654aec4577a277b08a57296fef",
              "version_major": 2,
              "version_minor": 0
            },
            "text/plain": [
              "(…)-29-55%2Fmetadata%2Falphasense_cam5.yaml:   0%|          | 0.00/1.02k [00:00<?, ?B/s]"
            ]
          },
          "metadata": {},
          "output_type": "display_data"
        },
        {
          "data": {
            "application/vnd.jupyter.widget-view+json": {
              "model_id": "47f4a0e723904d1190f99411ac2ac141",
              "version_major": 2,
              "version_minor": 0
            },
            "text/plain": [
              "(…)0-01-11-29-55%2Fmetadata%2Fap20_imu.yaml:   0%|          | 0.00/306 [00:00<?, ?B/s]"
            ]
          },
          "metadata": {},
          "output_type": "display_data"
        },
        {
          "data": {
            "application/vnd.jupyter.widget-view+json": {
              "model_id": "8b39755880b7496fb2ce9f38246a71fc",
              "version_major": 2,
              "version_minor": 0
            },
            "text/plain": [
              "(…)-11-29-55%2Fmetadata%2Fcpt7_dgps_tf.yaml:   0%|          | 0.00/246 [00:00<?, ?B/s]"
            ]
          },
          "metadata": {},
          "output_type": "display_data"
        },
        {
          "data": {
            "application/vnd.jupyter.widget-view+json": {
              "model_id": "01116114039c414fa4d291be139f62c3",
              "version_major": 2,
              "version_minor": 0
            },
            "text/plain": [
              "(…)0-01-11-29-55%2Fmetadata%2Fcpt7_gps.yaml:   0%|          | 0.00/30.0 [00:00<?, ?B/s]"
            ]
          },
          "metadata": {},
          "output_type": "display_data"
        },
        {
          "data": {
            "application/vnd.jupyter.widget-view+json": {
              "model_id": "b6d48fddd5854d53abfde6eb73c54452",
              "version_major": 2,
              "version_minor": 0
            },
            "text/plain": [
              "(…)1-11-29-55%2Fmetadata%2Fcpt7_gps_tf.yaml:   0%|          | 0.00/245 [00:00<?, ?B/s]"
            ]
          },
          "metadata": {},
          "output_type": "display_data"
        },
        {
          "data": {
            "application/vnd.jupyter.widget-view+json": {
              "model_id": "cd6096daf09348208dff8e896bedd15a",
              "version_major": 2,
              "version_minor": 0
            },
            "text/plain": [
              "(…)0-01-11-29-55%2Fmetadata%2Fcpt7_imu.yaml:   0%|          | 0.00/242 [00:00<?, ?B/s]"
            ]
          },
          "metadata": {},
          "output_type": "display_data"
        },
        {
          "data": {
            "application/vnd.jupyter.widget-view+json": {
              "model_id": "d17855ebab3444b4b05d6268699a6d6c",
              "version_major": 2,
              "version_minor": 0
            },
            "text/plain": [
              "(…)ata%2Fcpt7_imu_offline_from_novatel.yaml:   0%|          | 0.00/263 [00:00<?, ?B/s]"
            ]
          },
          "metadata": {},
          "output_type": "display_data"
        },
        {
          "data": {
            "application/vnd.jupyter.widget-view+json": {
              "model_id": "b4533f01f7ea42bbb1c9f40b524a33bb",
              "version_major": 2,
              "version_minor": 0
            },
            "text/plain": [
              "(…)01-11-29-55%2Fmetadata%2Fcpt7_lc_tf.yaml:   0%|          | 0.00/244 [00:00<?, ?B/s]"
            ]
          },
          "metadata": {},
          "output_type": "display_data"
        },
        {
          "data": {
            "application/vnd.jupyter.widget-view+json": {
              "model_id": "92ab8488610741bdb06426573c3d3658",
              "version_major": 2,
              "version_minor": 0
            },
            "text/plain": [
              "(…)11-29-55%2Fmetadata%2Fcpt7_odometry.yaml:   0%|          | 0.00/41.0 [00:00<?, ?B/s]"
            ]
          },
          "metadata": {},
          "output_type": "display_data"
        },
        {
          "data": {
            "application/vnd.jupyter.widget-view+json": {
              "model_id": "e6309284f91444fb8ecf171acb879211",
              "version_major": 2,
              "version_minor": 0
            },
            "text/plain": [
              "(…)2Fmetadata%2Fcpt7_post_processed_tf.yaml:   0%|          | 0.00/256 [00:00<?, ?B/s]"
            ]
          },
          "metadata": {},
          "output_type": "display_data"
        },
        {
          "data": {
            "application/vnd.jupyter.widget-view+json": {
              "model_id": "2c4c0e34e5b1467f9d14fced10fbddb8",
              "version_major": 2,
              "version_minor": 0
            },
            "text/plain": [
              "(…)1-11-29-55%2Fmetadata%2Fcpt7_ppp_tf.yaml:   0%|          | 0.00/245 [00:00<?, ?B/s]"
            ]
          },
          "metadata": {},
          "output_type": "display_data"
        },
        {
          "data": {
            "application/vnd.jupyter.widget-view+json": {
              "model_id": "926e90261f2f447db3f5efd2884f6701",
              "version_major": 2,
              "version_minor": 0
            },
            "text/plain": [
              "(…)01-11-29-55%2Fmetadata%2Fcpt7_tc_tf.yaml:   0%|          | 0.00/244 [00:00<?, ?B/s]"
            ]
          },
          "metadata": {},
          "output_type": "display_data"
        },
        {
          "data": {
            "application/vnd.jupyter.widget-view+json": {
              "model_id": "4f9de7300d624bb89f8850bb6138106b",
              "version_major": 2,
              "version_minor": 0
            },
            "text/plain": [
              "(…)24-10-01-11-29-55%2Fmetadata%2Fdlio.yaml:   0%|          | 0.00/310 [00:00<?, ?B/s]"
            ]
          },
          "metadata": {},
          "output_type": "display_data"
        },
        {
          "data": {
            "application/vnd.jupyter.widget-view+json": {
              "model_id": "cbbde3c775fb4a0cb2aea4eacf415214",
              "version_major": 2,
              "version_minor": 0
            },
            "text/plain": [
              "(…)9-55%2Fmetadata%2Fdlio_map_odometry.yaml:   0%|          | 0.00/44.0 [00:00<?, ?B/s]"
            ]
          },
          "metadata": {},
          "output_type": "display_data"
        },
        {
          "data": {
            "application/vnd.jupyter.widget-view+json": {
              "model_id": "5a720f0f8e35476192f4fd8b7b1af1d7",
              "version_major": 2,
              "version_minor": 0
            },
            "text/plain": [
              "(…)11-29-55%2Fmetadata%2Fdlio_odometry.yaml:   0%|          | 0.00/41.0 [00:00<?, ?B/s]"
            ]
          },
          "metadata": {},
          "output_type": "display_data"
        },
        {
          "data": {
            "application/vnd.jupyter.widget-view+json": {
              "model_id": "96c82ab2e78d4a5f8787eb20bdf3a659",
              "version_major": 2,
              "version_minor": 0
            },
            "text/plain": [
              "(…)-01-11-29-55%2Fmetadata%2Fdlio_pose.yaml:   0%|          | 0.00/37.0 [00:00<?, ?B/s]"
            ]
          },
          "metadata": {},
          "output_type": "display_data"
        },
        {
          "data": {
            "application/vnd.jupyter.widget-view+json": {
              "model_id": "ff1789fe90d144eb98f648922132c0ff",
              "version_major": 2,
              "version_minor": 0
            },
            "text/plain": [
              "(…)-11-29-55%2Fmetadata%2Fground_truth.yaml:   0%|          | 0.00/36.0 [00:00<?, ?B/s]"
            ]
          },
          "metadata": {},
          "output_type": "display_data"
        },
        {
          "data": {
            "application/vnd.jupyter.widget-view+json": {
              "model_id": "6d8a5df1badd407c8930eaf759fa644a",
              "version_major": 2,
              "version_minor": 0
            },
            "text/plain": [
              "(…)%2Fmetadata%2Fground_truth_with_cov.yaml:   0%|          | 0.00/45.0 [00:00<?, ?B/s]"
            ]
          },
          "metadata": {},
          "output_type": "display_data"
        },
        {
          "data": {
            "application/vnd.jupyter.widget-view+json": {
              "model_id": "67e78892ee5a42faa31bffe1fa144e97",
              "version_major": 2,
              "version_minor": 0
            },
            "text/plain": [
              "(…)-01-11-29-55%2Fmetadata%2Fhdr_front.yaml:   0%|          | 0.00/994 [00:00<?, ?B/s]"
            ]
          },
          "metadata": {},
          "output_type": "display_data"
        },
        {
          "data": {
            "application/vnd.jupyter.widget-view+json": {
              "model_id": "198adabdcfaf4ce2ab9564069aa51fa0",
              "version_major": 2,
              "version_minor": 0
            },
            "text/plain": [
              "(…)0-01-11-29-55%2Fmetadata%2Fhdr_left.yaml:   0%|          | 0.00/992 [00:00<?, ?B/s]"
            ]
          },
          "metadata": {},
          "output_type": "display_data"
        },
        {
          "data": {
            "application/vnd.jupyter.widget-view+json": {
              "model_id": "4b98ff26aa6146a4aaf6f1d16a99fbea",
              "version_major": 2,
              "version_minor": 0
            },
            "text/plain": [
              "(…)-01-11-29-55%2Fmetadata%2Fhdr_right.yaml:   0%|          | 0.00/996 [00:00<?, ?B/s]"
            ]
          },
          "metadata": {},
          "output_type": "display_data"
        },
        {
          "data": {
            "application/vnd.jupyter.widget-view+json": {
              "model_id": "a96829150e5e411d9bcae1adaeb50e8a",
              "version_major": 2,
              "version_minor": 0
            },
            "text/plain": [
              "(…)4-10-01-11-29-55%2Fmetadata%2Fhesai.yaml:   0%|          | 0.00/311 [00:00<?, ?B/s]"
            ]
          },
          "metadata": {},
          "output_type": "display_data"
        },
        {
          "data": {
            "application/vnd.jupyter.widget-view+json": {
              "model_id": "eeeeaa151b07489e850ea7b19ad8a48f",
              "version_major": 2,
              "version_minor": 0
            },
            "text/plain": [
              "(…)01-11-29-55%2Fmetadata%2Fhesai_last.yaml:   0%|          | 0.00/316 [00:00<?, ?B/s]"
            ]
          },
          "metadata": {},
          "output_type": "display_data"
        },
        {
          "data": {
            "application/vnd.jupyter.widget-view+json": {
              "model_id": "7ca388ea877e49c39ba6e3b744ed0c45",
              "version_major": 2,
              "version_minor": 0
            },
            "text/plain": [
              "(…)4-10-01-11-29-55%2Fmetadata%2Flivox.yaml:   0%|          | 0.00/313 [00:00<?, ?B/s]"
            ]
          },
          "metadata": {},
          "output_type": "display_data"
        },
        {
          "data": {
            "application/vnd.jupyter.widget-view+json": {
              "model_id": "8177aaa525ed46019c09533a1e87717d",
              "version_major": 2,
              "version_minor": 0
            },
            "text/plain": [
              "(…)-01-11-29-55%2Fmetadata%2Flivox_imu.yaml:   0%|          | 0.00/318 [00:00<?, ?B/s]"
            ]
          },
          "metadata": {},
          "output_type": "display_data"
        },
        {
          "data": {
            "application/vnd.jupyter.widget-view+json": {
              "model_id": "cc38400e82d64c03932d010744a1112e",
              "version_major": 2,
              "version_minor": 0
            },
            "text/plain": [
              "(…)2Fmetadata%2Flivox_imu_si_compliant.yaml:   0%|          | 0.00/331 [00:00<?, ?B/s]"
            ]
          },
          "metadata": {},
          "output_type": "display_data"
        },
        {
          "data": {
            "application/vnd.jupyter.widget-view+json": {
              "model_id": "d8c85693dc624fed985dede4d5543a35",
              "version_major": 2,
              "version_minor": 0
            },
            "text/plain": [
              "(…)10-01-11-29-55%2Fmetadata%2Fnovatel.yaml:   0%|          | 0.00/36.0 [00:00<?, ?B/s]"
            ]
          },
          "metadata": {},
          "output_type": "display_data"
        },
        {
          "data": {
            "application/vnd.jupyter.widget-view+json": {
              "model_id": "03b0c371d3164772affde8fa5b668e75",
              "version_major": 2,
              "version_minor": 0
            },
            "text/plain": [
              "(…)-11-29-55%2Fmetadata%2Fnovatel_dgps.yaml:   0%|          | 0.00/41.0 [00:00<?, ?B/s]"
            ]
          },
          "metadata": {},
          "output_type": "display_data"
        },
        {
          "data": {
            "application/vnd.jupyter.widget-view+json": {
              "model_id": "ffac9e601236482fab54321a95b99e1a",
              "version_major": 2,
              "version_minor": 0
            },
            "text/plain": [
              "(…)%2Fmetadata%2Fnovatel_dgps_odometry.yaml:   0%|          | 0.00/50.0 [00:00<?, ?B/s]"
            ]
          },
          "metadata": {},
          "output_type": "display_data"
        },
        {
          "data": {
            "application/vnd.jupyter.widget-view+json": {
              "model_id": "50bc93574b354be08f0d1aa5cc81d3a3",
              "version_major": 2,
              "version_minor": 0
            },
            "text/plain": [
              "(…)01-11-29-55%2Fmetadata%2Fnovatel_lc.yaml:   0%|          | 0.00/39.0 [00:00<?, ?B/s]"
            ]
          },
          "metadata": {},
          "output_type": "display_data"
        },
        {
          "data": {
            "application/vnd.jupyter.widget-view+json": {
              "model_id": "b7483991b8db4d84add2d75649cb971d",
              "version_major": 2,
              "version_minor": 0
            },
            "text/plain": [
              "(…)55%2Fmetadata%2Fnovatel_lc_odometry.yaml:   0%|          | 0.00/48.0 [00:00<?, ?B/s]"
            ]
          },
          "metadata": {},
          "output_type": "display_data"
        },
        {
          "data": {
            "application/vnd.jupyter.widget-view+json": {
              "model_id": "5364a2732ae141a0a51476e3efbefe44",
              "version_major": 2,
              "version_minor": 0
            },
            "text/plain": [
              "(…)29-55%2Fmetadata%2Fnovatel_odometry.yaml:   0%|          | 0.00/45.0 [00:00<?, ?B/s]"
            ]
          },
          "metadata": {},
          "output_type": "display_data"
        },
        {
          "data": {
            "application/vnd.jupyter.widget-view+json": {
              "model_id": "fc0d3c01524d4b37aa73dff6ea36f85e",
              "version_major": 2,
              "version_minor": 0
            },
            "text/plain": [
              "(…)1-11-29-55%2Fmetadata%2Fnovatel_ppp.yaml:   0%|          | 0.00/40.0 [00:00<?, ?B/s]"
            ]
          },
          "metadata": {},
          "output_type": "display_data"
        },
        {
          "data": {
            "application/vnd.jupyter.widget-view+json": {
              "model_id": "390becc502d1420a84463b1ef3d73462",
              "version_major": 2,
              "version_minor": 0
            },
            "text/plain": [
              "(…)5%2Fmetadata%2Fnovatel_ppp_odometry.yaml:   0%|          | 0.00/49.0 [00:00<?, ?B/s]"
            ]
          },
          "metadata": {},
          "output_type": "display_data"
        },
        {
          "data": {
            "application/vnd.jupyter.widget-view+json": {
              "model_id": "47a06e6117c64a4da71fc99bc13ab705",
              "version_major": 2,
              "version_minor": 0
            },
            "text/plain": [
              "(…)01-11-29-55%2Fmetadata%2Fnovatel_tc.yaml:   0%|          | 0.00/39.0 [00:00<?, ?B/s]"
            ]
          },
          "metadata": {},
          "output_type": "display_data"
        },
        {
          "data": {
            "application/vnd.jupyter.widget-view+json": {
              "model_id": "ac76191819784649a91c9266a8d7f5b4",
              "version_major": 2,
              "version_minor": 0
            },
            "text/plain": [
              "(…)55%2Fmetadata%2Fnovatel_tc_odometry.yaml:   0%|          | 0.00/48.0 [00:00<?, ?B/s]"
            ]
          },
          "metadata": {},
          "output_type": "display_data"
        },
        {
          "data": {
            "application/vnd.jupyter.widget-view+json": {
              "model_id": "743bb29014004619bdbcc524843fae39",
              "version_major": 2,
              "version_minor": 0
            },
            "text/plain": [
              "(…)4-10-01-11-29-55%2Fmetadata%2Fprism.yaml:   0%|          | 0.00/43.0 [00:00<?, ?B/s]"
            ]
          },
          "metadata": {},
          "output_type": "display_data"
        },
        {
          "data": {
            "application/vnd.jupyter.widget-view+json": {
              "model_id": "93a2eeeb122f414e8c363aabf5853f4f",
              "version_major": 2,
              "version_minor": 0
            },
            "text/plain": [
              "(…)0-01-11-29-55%2Fmetadata%2Fstim_imu.yaml:   0%|          | 0.00/316 [00:00<?, ?B/s]"
            ]
          },
          "metadata": {},
          "output_type": "display_data"
        },
        {
          "data": {
            "application/vnd.jupyter.widget-view+json": {
              "model_id": "ae1e27cf35f54543b638dd42388023f1",
              "version_major": 2,
              "version_minor": 0
            },
            "text/plain": [
              "(…)29-55%2Fmetadata%2Fzed2i_confidence.yaml:   0%|          | 0.00/356 [00:00<?, ?B/s]"
            ]
          },
          "metadata": {},
          "output_type": "display_data"
        },
        {
          "data": {
            "application/vnd.jupyter.widget-view+json": {
              "model_id": "bbd0764042844c2983feb810c9cb7edd",
              "version_major": 2,
              "version_minor": 0
            },
            "text/plain": [
              "(…)1-11-29-55%2Fmetadata%2Fzed2i_depth.yaml:   0%|          | 0.00/999 [00:00<?, ?B/s]"
            ]
          },
          "metadata": {},
          "output_type": "display_data"
        },
        {
          "data": {
            "application/vnd.jupyter.widget-view+json": {
              "model_id": "afdb1f0067774feeb038114eab204fee",
              "version_major": 2,
              "version_minor": 0
            },
            "text/plain": [
              "(…)-01-11-29-55%2Fmetadata%2Fzed2i_imu.yaml:   0%|          | 0.00/320 [00:00<?, ?B/s]"
            ]
          },
          "metadata": {},
          "output_type": "display_data"
        },
        {
          "data": {
            "application/vnd.jupyter.widget-view+json": {
              "model_id": "283ec42aa8bc4246950d9dfc9c9b8954",
              "version_major": 2,
              "version_minor": 0
            },
            "text/plain": [
              "(…)01-11-29-55%2Fmetadata%2Fzed2i_left.yaml:   0%|          | 0.00/998 [00:00<?, ?B/s]"
            ]
          },
          "metadata": {},
          "output_type": "display_data"
        },
        {
          "data": {
            "application/vnd.jupyter.widget-view+json": {
              "model_id": "8165546af1784a36b872d629e23a0222",
              "version_major": 2,
              "version_minor": 0
            },
            "text/plain": [
              "(…)5%2Fmetadata%2Fzed2i_magnetic_field.yaml:   0%|          | 0.00/53.0 [00:00<?, ?B/s]"
            ]
          },
          "metadata": {},
          "output_type": "display_data"
        },
        {
          "data": {
            "application/vnd.jupyter.widget-view+json": {
              "model_id": "e047262bfa0445289d736a77bee55a77",
              "version_major": 2,
              "version_minor": 0
            },
            "text/plain": [
              "(…)1-29-55%2Fmetadata%2Fzed2i_odometry.yaml:   0%|          | 0.00/43.0 [00:00<?, ?B/s]"
            ]
          },
          "metadata": {},
          "output_type": "display_data"
        },
        {
          "data": {
            "application/vnd.jupyter.widget-view+json": {
              "model_id": "b0fd423a9fc24da5997717e306fb8c00",
              "version_major": 2,
              "version_minor": 0
            },
            "text/plain": [
              "(…)1-11-29-55%2Fmetadata%2Fzed2i_right.yaml:   0%|          | 0.00/1.01k [00:00<?, ?B/s]"
            ]
          },
          "metadata": {},
          "output_type": "display_data"
        },
        {
          "data": {
            "application/vnd.jupyter.widget-view+json": {
              "model_id": "7fc060b8755d4664ab7ee97274ce36f4",
              "version_major": 2,
              "version_minor": 0
            },
            "text/plain": [
              "(…)0-01-11-29-55%2Fmetadata%2Fzed2i_tf.yaml:   0%|          | 0.00/323 [00:00<?, ?B/s]"
            ]
          },
          "metadata": {},
          "output_type": "display_data"
        }
      ],
      "source": [
        "from huggingface_hub import snapshot_download\n",
        "\n",
        "# If this is interuppted during download, simply re-run the block and huggingface_hub will resume the download without re-downloading the already downloaded files.\n",
        "hugging_face_data_cache_path = snapshot_download(repo_id=\"leggedrobotics/grand-tour-dataset-testing\", allow_patterns=[f\"{mission}/**\"], repo_type=\"dataset\")"
      ]
    },
    {
      "cell_type": "markdown",
      "metadata": {},
      "source": [
        "The downloaded data will be compressed into `.tar` files, and must be extracted before it can be used. We reccomend extracting to a destination of your choice outside the huggingface cache directory:"
      ]
    },
    {
      "cell_type": "code",
      "execution_count": 8,
      "metadata": {},
      "outputs": [],
      "source": [
        "destination_directory = f\"/Users/kappi/grand_tour_data/{mission}\""
      ]
    },
    {
      "cell_type": "markdown",
      "metadata": {},
      "source": [
        "Define a `.tar` extractor helper function:"
      ]
    },
    {
      "cell_type": "code",
      "execution_count": 9,
      "metadata": {},
      "outputs": [],
      "source": [
        "import os\n",
        "import shutil\n",
        "import tarfile\n",
        "\n",
        "def recreate_structure_and_extract(cache_dir, output_dir):\n",
        "    # Ensure output_dir exists\n",
        "    os.makedirs(output_dir, exist_ok=True)\n",
        "    \n",
        "    # Loop over subdirectories in cache_dir\n",
        "    for subdir in os.listdir(cache_dir):\n",
        "        subdir_path = os.path.join(cache_dir, subdir)\n",
        "        target_subdir = os.path.join(output_dir, subdir)\n",
        "        \n",
        "        if os.path.isdir(subdir_path):\n",
        "            # Create the corresponding subdirectory in output_dir\n",
        "            os.makedirs(target_subdir, exist_ok=True)\n",
        "            \n",
        "            # If it's the metadata folder, just copy all files (like YAMLs)\n",
        "            if subdir == \"metadata\":\n",
        "                for filename in os.listdir(subdir_path):\n",
        "                    src_file = os.path.join(subdir_path, filename)\n",
        "                    dst_file = os.path.join(target_subdir, filename)\n",
        "                    shutil.copy2(src_file, dst_file)\n",
        "            else:\n",
        "                # For folders like data and images, process tar files\n",
        "                for filename in os.listdir(subdir_path):\n",
        "                    src_file = os.path.join(subdir_path, filename)\n",
        "                    if filename.endswith(\".tar\"):\n",
        "                        # Extract the tar file into the target_subdir\n",
        "                        with tarfile.open(src_file) as tar:\n",
        "                            tar.extractall(path=target_subdir)\n",
        "                    else:\n",
        "                        # If there are non-tar files that need copying, handle them here\n",
        "                        shutil.copy2(src_file, target_subdir)\n"
      ]
    },
    {
      "cell_type": "markdown",
      "metadata": {},
      "source": [
        "And extract the files:"
      ]
    },
    {
      "cell_type": "code",
      "execution_count": 10,
      "metadata": {},
      "outputs": [],
      "source": [
        "cache_dir = hugging_face_data_cache_path + f\"/{mission}/\"\n",
        "recreate_structure_and_extract(cache_dir, destination_directory)"
      ]
    },
    {
      "cell_type": "markdown",
      "metadata": {},
      "source": [
        "You should now be able to load the dataset in `.zarr` format an inspect the contents:"
      ]
    },
    {
      "cell_type": "code",
      "execution_count": 11,
      "metadata": {},
      "outputs": [
        {
          "name": "stderr",
          "output_type": "stream",
          "text": [
            "/Users/kappi/miniconda3/envs/gt/lib/python3.11/site-packages/zarr/core/group.py:2824: UserWarning: Object at zed2i_imu.tar is not recognized as a component of a Zarr hierarchy.\n",
            "  warnings.warn(\n"
          ]
        },
        {
          "data": {
            "text/html": [
              "<pre style=\"white-space:pre;overflow-x:auto;line-height:normal;font-family:Menlo,'DejaVu Sans Mono',consolas,'Courier New',monospace\"><span style=\"font-weight: bold\">/</span>\n",
              "├── <span style=\"font-weight: bold\">adis_imu</span>\n",
              "│   ├── <span style=\"font-weight: bold\">ang_vel</span> (69333, 3) float64\n",
              "│   ├── <span style=\"font-weight: bold\">ang_vel_cov</span> (69333, 3, 3) float64\n",
              "│   ├── <span style=\"font-weight: bold\">lin_acc</span> (69333, 3) float64\n",
              "│   ├── <span style=\"font-weight: bold\">lin_acc_cov</span> (69333, 3, 3) float64\n",
              "│   ├── <span style=\"font-weight: bold\">orien</span> (69333, 4) float64\n",
              "│   ├── <span style=\"font-weight: bold\">orien_cov</span> (69333, 3, 3) float64\n",
              "│   ├── <span style=\"font-weight: bold\">sequence_id</span> (69333,) uint64\n",
              "│   └── <span style=\"font-weight: bold\">timestamp</span> (69333,) uint64\n",
              "├── <span style=\"font-weight: bold\">alphasense_cam1</span>\n",
              "│   ├── <span style=\"font-weight: bold\">sequence_id</span> (3588,) uint64\n",
              "│   └── <span style=\"font-weight: bold\">timestamp</span> (3588,) uint64\n",
              "├── <span style=\"font-weight: bold\">alphasense_cam2</span>\n",
              "│   ├── <span style=\"font-weight: bold\">sequence_id</span> (3587,) uint64\n",
              "│   └── <span style=\"font-weight: bold\">timestamp</span> (3587,) uint64\n",
              "├── <span style=\"font-weight: bold\">alphasense_cam3</span>\n",
              "│   ├── <span style=\"font-weight: bold\">sequence_id</span> (3588,) uint64\n",
              "│   └── <span style=\"font-weight: bold\">timestamp</span> (3588,) uint64\n",
              "├── <span style=\"font-weight: bold\">alphasense_cam4</span>\n",
              "│   ├── <span style=\"font-weight: bold\">sequence_id</span> (3588,) uint64\n",
              "│   └── <span style=\"font-weight: bold\">timestamp</span> (3588,) uint64\n",
              "├── <span style=\"font-weight: bold\">alphasense_cam5</span>\n",
              "│   ├── <span style=\"font-weight: bold\">sequence_id</span> (3588,) uint64\n",
              "│   └── <span style=\"font-weight: bold\">timestamp</span> (3588,) uint64\n",
              "├── <span style=\"font-weight: bold\">ap20_imu</span>\n",
              "│   ├── <span style=\"font-weight: bold\">ang_vel</span> (68029, 3) float64\n",
              "│   ├── <span style=\"font-weight: bold\">ang_vel_cov</span> (68029, 3, 3) float64\n",
              "│   ├── <span style=\"font-weight: bold\">lin_acc</span> (68029, 3) float64\n",
              "│   ├── <span style=\"font-weight: bold\">lin_acc_cov</span> (68029, 3, 3) float64\n",
              "│   ├── <span style=\"font-weight: bold\">orien</span> (68029, 4) float64\n",
              "│   ├── <span style=\"font-weight: bold\">orien_cov</span> (68029, 3, 3) float64\n",
              "│   ├── <span style=\"font-weight: bold\">sequence_id</span> (68029,) uint64\n",
              "│   └── <span style=\"font-weight: bold\">timestamp</span> (68029,) uint64\n",
              "├── <span style=\"font-weight: bold\">cpt7_dgps_tf</span>\n",
              "│   ├── <span style=\"font-weight: bold\">rotation</span> (361, 4) float64\n",
              "│   ├── <span style=\"font-weight: bold\">sequence_id</span> (361,) uint64\n",
              "│   ├── <span style=\"font-weight: bold\">timestamp</span> (361,) uint64\n",
              "│   └── <span style=\"font-weight: bold\">translation</span> (361, 3) float64\n",
              "├── <span style=\"font-weight: bold\">cpt7_gps</span>\n",
              "│   ├── <span style=\"font-weight: bold\">alt</span> (17959,) float64\n",
              "│   ├── <span style=\"font-weight: bold\">cov</span> (17959, 3, 3) float64\n",
              "│   ├── <span style=\"font-weight: bold\">cov_type</span> (17959,) uint8\n",
              "│   ├── <span style=\"font-weight: bold\">lat</span> (17959,) float64\n",
              "│   ├── <span style=\"font-weight: bold\">long</span> (17959,) float64\n",
              "│   ├── <span style=\"font-weight: bold\">sequence_id</span> (17959,) uint64\n",
              "│   └── <span style=\"font-weight: bold\">timestamp</span> (17959,) uint64\n",
              "├── <span style=\"font-weight: bold\">cpt7_gps_tf</span>\n",
              "│   ├── <span style=\"font-weight: bold\">rotation</span> (36001, 4) float64\n",
              "│   ├── <span style=\"font-weight: bold\">sequence_id</span> (36001,) uint64\n",
              "│   ├── <span style=\"font-weight: bold\">timestamp</span> (36001,) uint64\n",
              "│   └── <span style=\"font-weight: bold\">translation</span> (36001, 3) float64\n",
              "├── <span style=\"font-weight: bold\">cpt7_imu</span>\n",
              "│   ├── <span style=\"font-weight: bold\">ang_vel</span> (35917, 3) float64\n",
              "│   ├── <span style=\"font-weight: bold\">ang_vel_cov</span> (35917, 3, 3) float64\n",
              "│   ├── <span style=\"font-weight: bold\">lin_acc</span> (35917, 3) float64\n",
              "│   ├── <span style=\"font-weight: bold\">lin_acc_cov</span> (35917, 3, 3) float64\n",
              "│   ├── <span style=\"font-weight: bold\">orien</span> (35917, 4) float64\n",
              "│   ├── <span style=\"font-weight: bold\">orien_cov</span> (35917, 3, 3) float64\n",
              "│   ├── <span style=\"font-weight: bold\">sequence_id</span> (35917,) uint64\n",
              "│   └── <span style=\"font-weight: bold\">timestamp</span> (35917,) uint64\n",
              "├── <span style=\"font-weight: bold\">cpt7_imu_offline_from_novatel</span>\n",
              "│   ├── <span style=\"font-weight: bold\">ang_vel</span> (36069, 3) float64\n",
              "│   ├── <span style=\"font-weight: bold\">ang_vel_cov</span> (36069, 3, 3) float64\n",
              "│   ├── <span style=\"font-weight: bold\">lin_acc</span> (36069, 3) float64\n",
              "│   ├── <span style=\"font-weight: bold\">lin_acc_cov</span> (36069, 3, 3) float64\n",
              "│   ├── <span style=\"font-weight: bold\">orien</span> (36069, 4) float64\n",
              "│   ├── <span style=\"font-weight: bold\">orien_cov</span> (36069, 3, 3) float64\n",
              "│   ├── <span style=\"font-weight: bold\">sequence_id</span> (36069,) uint64\n",
              "│   └── <span style=\"font-weight: bold\">timestamp</span> (36069,) uint64\n",
              "├── <span style=\"font-weight: bold\">cpt7_lc_tf</span>\n",
              "│   ├── <span style=\"font-weight: bold\">rotation</span> (36001, 4) float64\n",
              "│   ├── <span style=\"font-weight: bold\">sequence_id</span> (36001,) uint64\n",
              "│   ├── <span style=\"font-weight: bold\">timestamp</span> (36001,) uint64\n",
              "│   └── <span style=\"font-weight: bold\">translation</span> (36001, 3) float64\n",
              "├── <span style=\"font-weight: bold\">cpt7_odometry</span>\n",
              "│   ├── <span style=\"font-weight: bold\">pose_cov</span> (17957, 6, 6) float64\n",
              "│   ├── <span style=\"font-weight: bold\">pose_orien</span> (17957, 4) float64\n",
              "│   ├── <span style=\"font-weight: bold\">pose_pos</span> (17957, 3) float64\n",
              "│   ├── <span style=\"font-weight: bold\">sequence_id</span> (17957,) uint64\n",
              "│   ├── <span style=\"font-weight: bold\">timestamp</span> (17957,) uint64\n",
              "│   ├── <span style=\"font-weight: bold\">twist_ang</span> (17957, 3) float64\n",
              "│   ├── <span style=\"font-weight: bold\">twist_cov</span> (17957, 6, 6) float64\n",
              "│   └── <span style=\"font-weight: bold\">twist_lin</span> (17957, 3) float64\n",
              "├── <span style=\"font-weight: bold\">cpt7_post_processed_tf</span>\n",
              "│   ├── <span style=\"font-weight: bold\">rotation</span> (17957, 4) float64\n",
              "│   ├── <span style=\"font-weight: bold\">sequence_id</span> (17957,) uint64\n",
              "│   ├── <span style=\"font-weight: bold\">timestamp</span> (17957,) uint64\n",
              "│   └── <span style=\"font-weight: bold\">translation</span> (17957, 3) float64\n",
              "├── <span style=\"font-weight: bold\">cpt7_ppp_tf</span>\n",
              "│   ├── <span style=\"font-weight: bold\">rotation</span> (361, 4) float64\n",
              "│   ├── <span style=\"font-weight: bold\">sequence_id</span> (361,) uint64\n",
              "│   ├── <span style=\"font-weight: bold\">timestamp</span> (361,) uint64\n",
              "│   └── <span style=\"font-weight: bold\">translation</span> (361, 3) float64\n",
              "├── <span style=\"font-weight: bold\">cpt7_tc_tf</span>\n",
              "│   ├── <span style=\"font-weight: bold\">rotation</span> (36001, 4) float64\n",
              "│   ├── <span style=\"font-weight: bold\">sequence_id</span> (36001,) uint64\n",
              "│   ├── <span style=\"font-weight: bold\">timestamp</span> (36001,) uint64\n",
              "│   └── <span style=\"font-weight: bold\">translation</span> (36001, 3) float64\n",
              "├── <span style=\"font-weight: bold\">dlio</span>\n",
              "│   ├── <span style=\"font-weight: bold\">point_cloud_intensity</span> (3449, 64000) float32\n",
              "│   ├── <span style=\"font-weight: bold\">point_cloud_points</span> (3449, 64000, 3) float32\n",
              "│   ├── <span style=\"font-weight: bold\">point_cloud_timestamp</span> (3449, 64000) uint64\n",
              "│   ├── <span style=\"font-weight: bold\">sequence_id</span> (3449,) uint64\n",
              "│   └── <span style=\"font-weight: bold\">timestamp</span> (3449,) uint64\n",
              "├── <span style=\"font-weight: bold\">dlio_map_odometry</span>\n",
              "│   ├── <span style=\"font-weight: bold\">pose_cov</span> (3449, 6, 6) float64\n",
              "│   ├── <span style=\"font-weight: bold\">pose_orien</span> (3449, 4) float64\n",
              "│   ├── <span style=\"font-weight: bold\">pose_pos</span> (3449, 3) float64\n",
              "│   ├── <span style=\"font-weight: bold\">sequence_id</span> (3449,) uint64\n",
              "│   ├── <span style=\"font-weight: bold\">timestamp</span> (3449,) uint64\n",
              "│   ├── <span style=\"font-weight: bold\">twist_ang</span> (3449, 3) float64\n",
              "│   ├── <span style=\"font-weight: bold\">twist_cov</span> (3449, 6, 6) float64\n",
              "│   └── <span style=\"font-weight: bold\">twist_lin</span> (3449, 3) float64\n",
              "├── <span style=\"font-weight: bold\">dlio_odometry</span>\n",
              "│   ├── <span style=\"font-weight: bold\">pose_cov</span> (71881, 6, 6) float64\n",
              "│   ├── <span style=\"font-weight: bold\">pose_orien</span> (71881, 4) float64\n",
              "│   ├── <span style=\"font-weight: bold\">pose_pos</span> (71881, 3) float64\n",
              "│   ├── <span style=\"font-weight: bold\">sequence_id</span> (71881,) uint64\n",
              "│   ├── <span style=\"font-weight: bold\">timestamp</span> (71881,) uint64\n",
              "│   ├── <span style=\"font-weight: bold\">twist_ang</span> (71881, 3) float64\n",
              "│   ├── <span style=\"font-weight: bold\">twist_cov</span> (71881, 6, 6) float64\n",
              "│   └── <span style=\"font-weight: bold\">twist_lin</span> (71881, 3) float64\n",
              "├── <span style=\"font-weight: bold\">dlio_pose</span>\n",
              "│   ├── <span style=\"font-weight: bold\">pose_orien</span> (71881, 4) float64\n",
              "│   ├── <span style=\"font-weight: bold\">pose_pos</span> (71881, 3) float64\n",
              "│   ├── <span style=\"font-weight: bold\">sequence_id</span> (71881,) uint64\n",
              "│   └── <span style=\"font-weight: bold\">timestamp</span> (71881,) uint64\n",
              "├── <span style=\"font-weight: bold\">ground_truth</span>\n",
              "│   ├── <span style=\"font-weight: bold\">pose_orien</span> (35575, 4) float64\n",
              "│   ├── <span style=\"font-weight: bold\">pose_pos</span> (35575, 3) float64\n",
              "│   ├── <span style=\"font-weight: bold\">sequence_id</span> (35575,) uint64\n",
              "│   └── <span style=\"font-weight: bold\">timestamp</span> (35575,) uint64\n",
              "├── <span style=\"font-weight: bold\">ground_truth_with_cov</span>\n",
              "│   ├── <span style=\"font-weight: bold\">pose_cov</span> (35575, 6, 6) float64\n",
              "│   ├── <span style=\"font-weight: bold\">pose_orien</span> (35575, 4) float64\n",
              "│   ├── <span style=\"font-weight: bold\">pose_pos</span> (35575, 3) float64\n",
              "│   ├── <span style=\"font-weight: bold\">sequence_id</span> (35575,) uint64\n",
              "│   └── <span style=\"font-weight: bold\">timestamp</span> (35575,) uint64\n",
              "├── <span style=\"font-weight: bold\">hdr_front</span>\n",
              "│   ├── <span style=\"font-weight: bold\">sequence_id</span> (3467,) uint64\n",
              "│   └── <span style=\"font-weight: bold\">timestamp</span> (3467,) uint64\n",
              "├── <span style=\"font-weight: bold\">hdr_left</span>\n",
              "│   ├── <span style=\"font-weight: bold\">sequence_id</span> (3479,) uint64\n",
              "│   └── <span style=\"font-weight: bold\">timestamp</span> (3479,) uint64\n",
              "├── <span style=\"font-weight: bold\">hdr_right</span>\n",
              "│   ├── <span style=\"font-weight: bold\">sequence_id</span> (3482,) uint64\n",
              "│   └── <span style=\"font-weight: bold\">timestamp</span> (3482,) uint64\n",
              "├── <span style=\"font-weight: bold\">hesai</span>\n",
              "│   ├── <span style=\"font-weight: bold\">point_cloud_intensity</span> (3578, 64000) float32\n",
              "│   ├── <span style=\"font-weight: bold\">point_cloud_points</span> (3578, 64000, 3) float32\n",
              "│   ├── <span style=\"font-weight: bold\">point_cloud_ring</span> (3578, 64000) uint16\n",
              "│   ├── <span style=\"font-weight: bold\">point_cloud_timestamp</span> (3578, 64000) uint64\n",
              "│   ├── <span style=\"font-weight: bold\">sequence_id</span> (3578,) uint64\n",
              "│   └── <span style=\"font-weight: bold\">timestamp</span> (3578,) uint64\n",
              "├── <span style=\"font-weight: bold\">hesai_last</span>\n",
              "│   ├── <span style=\"font-weight: bold\">point_cloud_intensity</span> (3578, 64000) float32\n",
              "│   ├── <span style=\"font-weight: bold\">point_cloud_points</span> (3578, 64000, 3) float32\n",
              "│   ├── <span style=\"font-weight: bold\">point_cloud_ring</span> (3578, 64000) uint16\n",
              "│   ├── <span style=\"font-weight: bold\">point_cloud_timestamp</span> (3578, 64000) uint64\n",
              "│   ├── <span style=\"font-weight: bold\">sequence_id</span> (3578,) uint64\n",
              "│   └── <span style=\"font-weight: bold\">timestamp</span> (3578,) uint64\n",
              "├── <span style=\"font-weight: bold\">livox</span>\n",
              "│   ├── <span style=\"font-weight: bold\">point_cloud_intensity</span> (3584, 64000) float32\n",
              "│   ├── <span style=\"font-weight: bold\">point_cloud_line</span> (3584, 64000) uint16\n",
              "│   ├── <span style=\"font-weight: bold\">point_cloud_points</span> (3584, 64000, 3) float32\n",
              "│   ├── <span style=\"font-weight: bold\">point_cloud_tag</span> (3584, 64000) uint8\n",
              "│   ├── <span style=\"font-weight: bold\">point_cloud_timestamp</span> (3584, 64000) uint64\n",
              "│   ├── <span style=\"font-weight: bold\">sequence_id</span> (3584,) uint64\n",
              "│   └── <span style=\"font-weight: bold\">timestamp</span> (3584,) uint64\n",
              "├── <span style=\"font-weight: bold\">livox_imu</span>\n",
              "│   ├── <span style=\"font-weight: bold\">ang_vel</span> (71680, 3) float64\n",
              "│   ├── <span style=\"font-weight: bold\">ang_vel_cov</span> (71680, 3, 3) float64\n",
              "│   ├── <span style=\"font-weight: bold\">lin_acc</span> (71680, 3) float64\n",
              "│   ├── <span style=\"font-weight: bold\">lin_acc_cov</span> (71680, 3, 3) float64\n",
              "│   ├── <span style=\"font-weight: bold\">orien</span> (71680, 4) float64\n",
              "│   ├── <span style=\"font-weight: bold\">orien_cov</span> (71680, 3, 3) float64\n",
              "│   ├── <span style=\"font-weight: bold\">sequence_id</span> (71680,) uint64\n",
              "│   └── <span style=\"font-weight: bold\">timestamp</span> (71680,) uint64\n",
              "├── <span style=\"font-weight: bold\">livox_imu_si_compliant</span>\n",
              "│   ├── <span style=\"font-weight: bold\">ang_vel</span> (71679, 3) float64\n",
              "│   ├── <span style=\"font-weight: bold\">ang_vel_cov</span> (71679, 3, 3) float64\n",
              "│   ├── <span style=\"font-weight: bold\">lin_acc</span> (71679, 3) float64\n",
              "│   ├── <span style=\"font-weight: bold\">lin_acc_cov</span> (71679, 3, 3) float64\n",
              "│   ├── <span style=\"font-weight: bold\">orien</span> (71679, 4) float64\n",
              "│   ├── <span style=\"font-weight: bold\">orien_cov</span> (71679, 3, 3) float64\n",
              "│   ├── <span style=\"font-weight: bold\">sequence_id</span> (71679,) uint64\n",
              "│   └── <span style=\"font-weight: bold\">timestamp</span> (71679,) uint64\n",
              "├── <span style=\"font-weight: bold\">novatel</span>\n",
              "│   ├── <span style=\"font-weight: bold\">pose_cov</span> (36001, 6, 6) float64\n",
              "│   ├── <span style=\"font-weight: bold\">pose_orien</span> (36001, 4) float64\n",
              "│   ├── <span style=\"font-weight: bold\">pose_pos</span> (36001, 3) float64\n",
              "│   ├── <span style=\"font-weight: bold\">sequence_id</span> (36001,) uint64\n",
              "│   └── <span style=\"font-weight: bold\">timestamp</span> (36001,) uint64\n",
              "├── <span style=\"font-weight: bold\">novatel_dgps</span>\n",
              "│   ├── <span style=\"font-weight: bold\">pose_cov</span> (361, 6, 6) float64\n",
              "│   ├── <span style=\"font-weight: bold\">pose_orien</span> (361, 4) float64\n",
              "│   ├── <span style=\"font-weight: bold\">pose_pos</span> (361, 3) float64\n",
              "│   ├── <span style=\"font-weight: bold\">sequence_id</span> (361,) uint64\n",
              "│   └── <span style=\"font-weight: bold\">timestamp</span> (361,) uint64\n",
              "├── <span style=\"font-weight: bold\">novatel_dgps_odometry</span>\n",
              "│   ├── <span style=\"font-weight: bold\">pose_cov</span> (361, 6, 6) float64\n",
              "│   ├── <span style=\"font-weight: bold\">pose_orien</span> (361, 4) float64\n",
              "│   ├── <span style=\"font-weight: bold\">pose_pos</span> (361, 3) float64\n",
              "│   ├── <span style=\"font-weight: bold\">sequence_id</span> (361,) uint64\n",
              "│   ├── <span style=\"font-weight: bold\">timestamp</span> (361,) uint64\n",
              "│   ├── <span style=\"font-weight: bold\">twist_ang</span> (361, 3) float64\n",
              "│   ├── <span style=\"font-weight: bold\">twist_cov</span> (361, 6, 6) float64\n",
              "│   └── <span style=\"font-weight: bold\">twist_lin</span> (361, 3) float64\n",
              "├── <span style=\"font-weight: bold\">novatel_lc</span>\n",
              "│   ├── <span style=\"font-weight: bold\">pose_cov</span> (36001, 6, 6) float64\n",
              "│   ├── <span style=\"font-weight: bold\">pose_orien</span> (36001, 4) float64\n",
              "│   ├── <span style=\"font-weight: bold\">pose_pos</span> (36001, 3) float64\n",
              "│   ├── <span style=\"font-weight: bold\">sequence_id</span> (36001,) uint64\n",
              "│   └── <span style=\"font-weight: bold\">timestamp</span> (36001,) uint64\n",
              "├── <span style=\"font-weight: bold\">novatel_lc_odometry</span>\n",
              "│   ├── <span style=\"font-weight: bold\">pose_cov</span> (36001, 6, 6) float64\n",
              "│   ├── <span style=\"font-weight: bold\">pose_orien</span> (36001, 4) float64\n",
              "│   ├── <span style=\"font-weight: bold\">pose_pos</span> (36001, 3) float64\n",
              "│   ├── <span style=\"font-weight: bold\">sequence_id</span> (36001,) uint64\n",
              "│   ├── <span style=\"font-weight: bold\">timestamp</span> (36001,) uint64\n",
              "│   ├── <span style=\"font-weight: bold\">twist_ang</span> (36001, 3) float64\n",
              "│   ├── <span style=\"font-weight: bold\">twist_cov</span> (36001, 6, 6) float64\n",
              "│   └── <span style=\"font-weight: bold\">twist_lin</span> (36001, 3) float64\n",
              "├── <span style=\"font-weight: bold\">novatel_odometry</span>\n",
              "│   ├── <span style=\"font-weight: bold\">pose_cov</span> (36001, 6, 6) float64\n",
              "│   ├── <span style=\"font-weight: bold\">pose_orien</span> (36001, 4) float64\n",
              "│   ├── <span style=\"font-weight: bold\">pose_pos</span> (36001, 3) float64\n",
              "│   ├── <span style=\"font-weight: bold\">sequence_id</span> (36001,) uint64\n",
              "│   ├── <span style=\"font-weight: bold\">timestamp</span> (36001,) uint64\n",
              "│   ├── <span style=\"font-weight: bold\">twist_ang</span> (36001, 3) float64\n",
              "│   ├── <span style=\"font-weight: bold\">twist_cov</span> (36001, 6, 6) float64\n",
              "│   └── <span style=\"font-weight: bold\">twist_lin</span> (36001, 3) float64\n",
              "├── <span style=\"font-weight: bold\">novatel_ppp</span>\n",
              "│   ├── <span style=\"font-weight: bold\">pose_cov</span> (361, 6, 6) float64\n",
              "│   ├── <span style=\"font-weight: bold\">pose_orien</span> (361, 4) float64\n",
              "│   ├── <span style=\"font-weight: bold\">pose_pos</span> (361, 3) float64\n",
              "│   ├── <span style=\"font-weight: bold\">sequence_id</span> (361,) uint64\n",
              "│   └── <span style=\"font-weight: bold\">timestamp</span> (361,) uint64\n",
              "├── <span style=\"font-weight: bold\">novatel_ppp_odometry</span>\n",
              "│   ├── <span style=\"font-weight: bold\">pose_cov</span> (361, 6, 6) float64\n",
              "│   ├── <span style=\"font-weight: bold\">pose_orien</span> (361, 4) float64\n",
              "│   ├── <span style=\"font-weight: bold\">pose_pos</span> (361, 3) float64\n",
              "│   ├── <span style=\"font-weight: bold\">sequence_id</span> (361,) uint64\n",
              "│   ├── <span style=\"font-weight: bold\">timestamp</span> (361,) uint64\n",
              "│   ├── <span style=\"font-weight: bold\">twist_ang</span> (361, 3) float64\n",
              "│   ├── <span style=\"font-weight: bold\">twist_cov</span> (361, 6, 6) float64\n",
              "│   └── <span style=\"font-weight: bold\">twist_lin</span> (361, 3) float64\n",
              "├── <span style=\"font-weight: bold\">novatel_tc</span>\n",
              "│   ├── <span style=\"font-weight: bold\">pose_cov</span> (36001, 6, 6) float64\n",
              "│   ├── <span style=\"font-weight: bold\">pose_orien</span> (36001, 4) float64\n",
              "│   ├── <span style=\"font-weight: bold\">pose_pos</span> (36001, 3) float64\n",
              "│   ├── <span style=\"font-weight: bold\">sequence_id</span> (36001,) uint64\n",
              "│   └── <span style=\"font-weight: bold\">timestamp</span> (36001,) uint64\n",
              "├── <span style=\"font-weight: bold\">novatel_tc_odometry</span>\n",
              "│   ├── <span style=\"font-weight: bold\">pose_cov</span> (36001, 6, 6) float64\n",
              "│   ├── <span style=\"font-weight: bold\">pose_orien</span> (36001, 4) float64\n",
              "│   ├── <span style=\"font-weight: bold\">pose_pos</span> (36001, 3) float64\n",
              "│   ├── <span style=\"font-weight: bold\">sequence_id</span> (36001,) uint64\n",
              "│   ├── <span style=\"font-weight: bold\">timestamp</span> (36001,) uint64\n",
              "│   ├── <span style=\"font-weight: bold\">twist_ang</span> (36001, 3) float64\n",
              "│   ├── <span style=\"font-weight: bold\">twist_cov</span> (36001, 6, 6) float64\n",
              "│   └── <span style=\"font-weight: bold\">twist_lin</span> (36001, 3) float64\n",
              "├── <span style=\"font-weight: bold\">prism</span>\n",
              "│   ├── <span style=\"font-weight: bold\">point</span> (4738, 3) float64\n",
              "│   ├── <span style=\"font-weight: bold\">sequence_id</span> (4738,) uint64\n",
              "│   └── <span style=\"font-weight: bold\">timestamp</span> (4738,) uint64\n",
              "├── <span style=\"font-weight: bold\">stim_imu</span>\n",
              "│   ├── <span style=\"font-weight: bold\">ang_vel</span> (172581, 3) float64\n",
              "│   ├── <span style=\"font-weight: bold\">ang_vel_cov</span> (172581, 3, 3) float64\n",
              "│   ├── <span style=\"font-weight: bold\">lin_acc</span> (172581, 3) float64\n",
              "│   ├── <span style=\"font-weight: bold\">lin_acc_cov</span> (172581, 3, 3) float64\n",
              "│   ├── <span style=\"font-weight: bold\">orien</span> (172581, 4) float64\n",
              "│   ├── <span style=\"font-weight: bold\">orien_cov</span> (172581, 3, 3) float64\n",
              "│   ├── <span style=\"font-weight: bold\">sequence_id</span> (172581,) uint64\n",
              "│   └── <span style=\"font-weight: bold\">timestamp</span> (172581,) uint64\n",
              "├── <span style=\"font-weight: bold\">zed2i_confidence</span>\n",
              "│   ├── <span style=\"font-weight: bold\">sequence_id</span> (5137,) uint64\n",
              "│   └── <span style=\"font-weight: bold\">timestamp</span> (5137,) uint64\n",
              "├── <span style=\"font-weight: bold\">zed2i_depth</span>\n",
              "│   ├── <span style=\"font-weight: bold\">sequence_id</span> (5137,) uint64\n",
              "│   └── <span style=\"font-weight: bold\">timestamp</span> (5137,) uint64\n",
              "├── <span style=\"font-weight: bold\">zed2i_imu</span>\n",
              "│   ├── <span style=\"font-weight: bold\">ang_vel</span> (15479, 3) float64\n",
              "│   ├── <span style=\"font-weight: bold\">ang_vel_cov</span> (15479, 3, 3) float64\n",
              "│   ├── <span style=\"font-weight: bold\">lin_acc</span> (15479, 3) float64\n",
              "│   ├── <span style=\"font-weight: bold\">lin_acc_cov</span> (15479, 3, 3) float64\n",
              "│   ├── <span style=\"font-weight: bold\">orien</span> (15479, 4) float64\n",
              "│   ├── <span style=\"font-weight: bold\">orien_cov</span> (15479, 3, 3) float64\n",
              "│   ├── <span style=\"font-weight: bold\">sequence_id</span> (15479,) uint64\n",
              "│   └── <span style=\"font-weight: bold\">timestamp</span> (15479,) uint64\n",
              "├── <span style=\"font-weight: bold\">zed2i_left</span>\n",
              "│   ├── <span style=\"font-weight: bold\">sequence_id</span> (5137,) uint64\n",
              "│   └── <span style=\"font-weight: bold\">timestamp</span> (5137,) uint64\n",
              "├── <span style=\"font-weight: bold\">zed2i_magnetic_field</span>\n",
              "│   ├── <span style=\"font-weight: bold\">b_field</span> (15410, 3) float64\n",
              "│   ├── <span style=\"font-weight: bold\">b_field_cov</span> (15410, 3, 3) float64\n",
              "│   ├── <span style=\"font-weight: bold\">sequence_id</span> (15410,) uint64\n",
              "│   └── <span style=\"font-weight: bold\">timestamp</span> (15410,) uint64\n",
              "├── <span style=\"font-weight: bold\">zed2i_odometry</span>\n",
              "│   ├── <span style=\"font-weight: bold\">pose_cov</span> (5137, 6, 6) float64\n",
              "│   ├── <span style=\"font-weight: bold\">pose_orien</span> (5137, 4) float64\n",
              "│   ├── <span style=\"font-weight: bold\">pose_pos</span> (5137, 3) float64\n",
              "│   ├── <span style=\"font-weight: bold\">sequence_id</span> (5137,) uint64\n",
              "│   ├── <span style=\"font-weight: bold\">timestamp</span> (5137,) uint64\n",
              "│   ├── <span style=\"font-weight: bold\">twist_ang</span> (5137, 3) float64\n",
              "│   ├── <span style=\"font-weight: bold\">twist_cov</span> (5137, 6, 6) float64\n",
              "│   └── <span style=\"font-weight: bold\">twist_lin</span> (5137, 3) float64\n",
              "├── <span style=\"font-weight: bold\">zed2i_right</span>\n",
              "│   ├── <span style=\"font-weight: bold\">sequence_id</span> (5137,) uint64\n",
              "│   └── <span style=\"font-weight: bold\">timestamp</span> (5137,) uint64\n",
              "└── <span style=\"font-weight: bold\">zed2i_tf</span>\n",
              "    ├── <span style=\"font-weight: bold\">rotation</span> (5137, 4) float64\n",
              "    ├── <span style=\"font-weight: bold\">sequence_id</span> (5137,) uint64\n",
              "    ├── <span style=\"font-weight: bold\">timestamp</span> (5137,) uint64\n",
              "    └── <span style=\"font-weight: bold\">translation</span> (5137, 3) float64\n",
              "</pre>\n"
            ],
            "text/plain": [
              "\u001b[1m/\u001b[0m\n",
              "├── \u001b[1madis_imu\u001b[0m\n",
              "│   ├── \u001b[1mang_vel\u001b[0m (69333, 3) float64\n",
              "│   ├── \u001b[1mang_vel_cov\u001b[0m (69333, 3, 3) float64\n",
              "│   ├── \u001b[1mlin_acc\u001b[0m (69333, 3) float64\n",
              "│   ├── \u001b[1mlin_acc_cov\u001b[0m (69333, 3, 3) float64\n",
              "│   ├── \u001b[1morien\u001b[0m (69333, 4) float64\n",
              "│   ├── \u001b[1morien_cov\u001b[0m (69333, 3, 3) float64\n",
              "│   ├── \u001b[1msequence_id\u001b[0m (69333,) uint64\n",
              "│   └── \u001b[1mtimestamp\u001b[0m (69333,) uint64\n",
              "├── \u001b[1malphasense_cam1\u001b[0m\n",
              "│   ├── \u001b[1msequence_id\u001b[0m (3588,) uint64\n",
              "│   └── \u001b[1mtimestamp\u001b[0m (3588,) uint64\n",
              "├── \u001b[1malphasense_cam2\u001b[0m\n",
              "│   ├── \u001b[1msequence_id\u001b[0m (3587,) uint64\n",
              "│   └── \u001b[1mtimestamp\u001b[0m (3587,) uint64\n",
              "├── \u001b[1malphasense_cam3\u001b[0m\n",
              "│   ├── \u001b[1msequence_id\u001b[0m (3588,) uint64\n",
              "│   └── \u001b[1mtimestamp\u001b[0m (3588,) uint64\n",
              "├── \u001b[1malphasense_cam4\u001b[0m\n",
              "│   ├── \u001b[1msequence_id\u001b[0m (3588,) uint64\n",
              "│   └── \u001b[1mtimestamp\u001b[0m (3588,) uint64\n",
              "├── \u001b[1malphasense_cam5\u001b[0m\n",
              "│   ├── \u001b[1msequence_id\u001b[0m (3588,) uint64\n",
              "│   └── \u001b[1mtimestamp\u001b[0m (3588,) uint64\n",
              "├── \u001b[1map20_imu\u001b[0m\n",
              "│   ├── \u001b[1mang_vel\u001b[0m (68029, 3) float64\n",
              "│   ├── \u001b[1mang_vel_cov\u001b[0m (68029, 3, 3) float64\n",
              "│   ├── \u001b[1mlin_acc\u001b[0m (68029, 3) float64\n",
              "│   ├── \u001b[1mlin_acc_cov\u001b[0m (68029, 3, 3) float64\n",
              "│   ├── \u001b[1morien\u001b[0m (68029, 4) float64\n",
              "│   ├── \u001b[1morien_cov\u001b[0m (68029, 3, 3) float64\n",
              "│   ├── \u001b[1msequence_id\u001b[0m (68029,) uint64\n",
              "│   └── \u001b[1mtimestamp\u001b[0m (68029,) uint64\n",
              "├── \u001b[1mcpt7_dgps_tf\u001b[0m\n",
              "│   ├── \u001b[1mrotation\u001b[0m (361, 4) float64\n",
              "│   ├── \u001b[1msequence_id\u001b[0m (361,) uint64\n",
              "│   ├── \u001b[1mtimestamp\u001b[0m (361,) uint64\n",
              "│   └── \u001b[1mtranslation\u001b[0m (361, 3) float64\n",
              "├── \u001b[1mcpt7_gps\u001b[0m\n",
              "│   ├── \u001b[1malt\u001b[0m (17959,) float64\n",
              "│   ├── \u001b[1mcov\u001b[0m (17959, 3, 3) float64\n",
              "│   ├── \u001b[1mcov_type\u001b[0m (17959,) uint8\n",
              "│   ├── \u001b[1mlat\u001b[0m (17959,) float64\n",
              "│   ├── \u001b[1mlong\u001b[0m (17959,) float64\n",
              "│   ├── \u001b[1msequence_id\u001b[0m (17959,) uint64\n",
              "│   └── \u001b[1mtimestamp\u001b[0m (17959,) uint64\n",
              "├── \u001b[1mcpt7_gps_tf\u001b[0m\n",
              "│   ├── \u001b[1mrotation\u001b[0m (36001, 4) float64\n",
              "│   ├── \u001b[1msequence_id\u001b[0m (36001,) uint64\n",
              "│   ├── \u001b[1mtimestamp\u001b[0m (36001,) uint64\n",
              "│   └── \u001b[1mtranslation\u001b[0m (36001, 3) float64\n",
              "├── \u001b[1mcpt7_imu\u001b[0m\n",
              "│   ├── \u001b[1mang_vel\u001b[0m (35917, 3) float64\n",
              "│   ├── \u001b[1mang_vel_cov\u001b[0m (35917, 3, 3) float64\n",
              "│   ├── \u001b[1mlin_acc\u001b[0m (35917, 3) float64\n",
              "│   ├── \u001b[1mlin_acc_cov\u001b[0m (35917, 3, 3) float64\n",
              "│   ├── \u001b[1morien\u001b[0m (35917, 4) float64\n",
              "│   ├── \u001b[1morien_cov\u001b[0m (35917, 3, 3) float64\n",
              "│   ├── \u001b[1msequence_id\u001b[0m (35917,) uint64\n",
              "│   └── \u001b[1mtimestamp\u001b[0m (35917,) uint64\n",
              "├── \u001b[1mcpt7_imu_offline_from_novatel\u001b[0m\n",
              "│   ├── \u001b[1mang_vel\u001b[0m (36069, 3) float64\n",
              "│   ├── \u001b[1mang_vel_cov\u001b[0m (36069, 3, 3) float64\n",
              "│   ├── \u001b[1mlin_acc\u001b[0m (36069, 3) float64\n",
              "│   ├── \u001b[1mlin_acc_cov\u001b[0m (36069, 3, 3) float64\n",
              "│   ├── \u001b[1morien\u001b[0m (36069, 4) float64\n",
              "│   ├── \u001b[1morien_cov\u001b[0m (36069, 3, 3) float64\n",
              "│   ├── \u001b[1msequence_id\u001b[0m (36069,) uint64\n",
              "│   └── \u001b[1mtimestamp\u001b[0m (36069,) uint64\n",
              "├── \u001b[1mcpt7_lc_tf\u001b[0m\n",
              "│   ├── \u001b[1mrotation\u001b[0m (36001, 4) float64\n",
              "│   ├── \u001b[1msequence_id\u001b[0m (36001,) uint64\n",
              "│   ├── \u001b[1mtimestamp\u001b[0m (36001,) uint64\n",
              "│   └── \u001b[1mtranslation\u001b[0m (36001, 3) float64\n",
              "├── \u001b[1mcpt7_odometry\u001b[0m\n",
              "│   ├── \u001b[1mpose_cov\u001b[0m (17957, 6, 6) float64\n",
              "│   ├── \u001b[1mpose_orien\u001b[0m (17957, 4) float64\n",
              "│   ├── \u001b[1mpose_pos\u001b[0m (17957, 3) float64\n",
              "│   ├── \u001b[1msequence_id\u001b[0m (17957,) uint64\n",
              "│   ├── \u001b[1mtimestamp\u001b[0m (17957,) uint64\n",
              "│   ├── \u001b[1mtwist_ang\u001b[0m (17957, 3) float64\n",
              "│   ├── \u001b[1mtwist_cov\u001b[0m (17957, 6, 6) float64\n",
              "│   └── \u001b[1mtwist_lin\u001b[0m (17957, 3) float64\n",
              "├── \u001b[1mcpt7_post_processed_tf\u001b[0m\n",
              "│   ├── \u001b[1mrotation\u001b[0m (17957, 4) float64\n",
              "│   ├── \u001b[1msequence_id\u001b[0m (17957,) uint64\n",
              "│   ├── \u001b[1mtimestamp\u001b[0m (17957,) uint64\n",
              "│   └── \u001b[1mtranslation\u001b[0m (17957, 3) float64\n",
              "├── \u001b[1mcpt7_ppp_tf\u001b[0m\n",
              "│   ├── \u001b[1mrotation\u001b[0m (361, 4) float64\n",
              "│   ├── \u001b[1msequence_id\u001b[0m (361,) uint64\n",
              "│   ├── \u001b[1mtimestamp\u001b[0m (361,) uint64\n",
              "│   └── \u001b[1mtranslation\u001b[0m (361, 3) float64\n",
              "├── \u001b[1mcpt7_tc_tf\u001b[0m\n",
              "│   ├── \u001b[1mrotation\u001b[0m (36001, 4) float64\n",
              "│   ├── \u001b[1msequence_id\u001b[0m (36001,) uint64\n",
              "│   ├── \u001b[1mtimestamp\u001b[0m (36001,) uint64\n",
              "│   └── \u001b[1mtranslation\u001b[0m (36001, 3) float64\n",
              "├── \u001b[1mdlio\u001b[0m\n",
              "│   ├── \u001b[1mpoint_cloud_intensity\u001b[0m (3449, 64000) float32\n",
              "│   ├── \u001b[1mpoint_cloud_points\u001b[0m (3449, 64000, 3) float32\n",
              "│   ├── \u001b[1mpoint_cloud_timestamp\u001b[0m (3449, 64000) uint64\n",
              "│   ├── \u001b[1msequence_id\u001b[0m (3449,) uint64\n",
              "│   └── \u001b[1mtimestamp\u001b[0m (3449,) uint64\n",
              "├── \u001b[1mdlio_map_odometry\u001b[0m\n",
              "│   ├── \u001b[1mpose_cov\u001b[0m (3449, 6, 6) float64\n",
              "│   ├── \u001b[1mpose_orien\u001b[0m (3449, 4) float64\n",
              "│   ├── \u001b[1mpose_pos\u001b[0m (3449, 3) float64\n",
              "│   ├── \u001b[1msequence_id\u001b[0m (3449,) uint64\n",
              "│   ├── \u001b[1mtimestamp\u001b[0m (3449,) uint64\n",
              "│   ├── \u001b[1mtwist_ang\u001b[0m (3449, 3) float64\n",
              "│   ├── \u001b[1mtwist_cov\u001b[0m (3449, 6, 6) float64\n",
              "│   └── \u001b[1mtwist_lin\u001b[0m (3449, 3) float64\n",
              "├── \u001b[1mdlio_odometry\u001b[0m\n",
              "│   ├── \u001b[1mpose_cov\u001b[0m (71881, 6, 6) float64\n",
              "│   ├── \u001b[1mpose_orien\u001b[0m (71881, 4) float64\n",
              "│   ├── \u001b[1mpose_pos\u001b[0m (71881, 3) float64\n",
              "│   ├── \u001b[1msequence_id\u001b[0m (71881,) uint64\n",
              "│   ├── \u001b[1mtimestamp\u001b[0m (71881,) uint64\n",
              "│   ├── \u001b[1mtwist_ang\u001b[0m (71881, 3) float64\n",
              "│   ├── \u001b[1mtwist_cov\u001b[0m (71881, 6, 6) float64\n",
              "│   └── \u001b[1mtwist_lin\u001b[0m (71881, 3) float64\n",
              "├── \u001b[1mdlio_pose\u001b[0m\n",
              "│   ├── \u001b[1mpose_orien\u001b[0m (71881, 4) float64\n",
              "│   ├── \u001b[1mpose_pos\u001b[0m (71881, 3) float64\n",
              "│   ├── \u001b[1msequence_id\u001b[0m (71881,) uint64\n",
              "│   └── \u001b[1mtimestamp\u001b[0m (71881,) uint64\n",
              "├── \u001b[1mground_truth\u001b[0m\n",
              "│   ├── \u001b[1mpose_orien\u001b[0m (35575, 4) float64\n",
              "│   ├── \u001b[1mpose_pos\u001b[0m (35575, 3) float64\n",
              "│   ├── \u001b[1msequence_id\u001b[0m (35575,) uint64\n",
              "│   └── \u001b[1mtimestamp\u001b[0m (35575,) uint64\n",
              "├── \u001b[1mground_truth_with_cov\u001b[0m\n",
              "│   ├── \u001b[1mpose_cov\u001b[0m (35575, 6, 6) float64\n",
              "│   ├── \u001b[1mpose_orien\u001b[0m (35575, 4) float64\n",
              "│   ├── \u001b[1mpose_pos\u001b[0m (35575, 3) float64\n",
              "│   ├── \u001b[1msequence_id\u001b[0m (35575,) uint64\n",
              "│   └── \u001b[1mtimestamp\u001b[0m (35575,) uint64\n",
              "├── \u001b[1mhdr_front\u001b[0m\n",
              "│   ├── \u001b[1msequence_id\u001b[0m (3467,) uint64\n",
              "│   └── \u001b[1mtimestamp\u001b[0m (3467,) uint64\n",
              "├── \u001b[1mhdr_left\u001b[0m\n",
              "│   ├── \u001b[1msequence_id\u001b[0m (3479,) uint64\n",
              "│   └── \u001b[1mtimestamp\u001b[0m (3479,) uint64\n",
              "├── \u001b[1mhdr_right\u001b[0m\n",
              "│   ├── \u001b[1msequence_id\u001b[0m (3482,) uint64\n",
              "│   └── \u001b[1mtimestamp\u001b[0m (3482,) uint64\n",
              "├── \u001b[1mhesai\u001b[0m\n",
              "│   ├── \u001b[1mpoint_cloud_intensity\u001b[0m (3578, 64000) float32\n",
              "│   ├── \u001b[1mpoint_cloud_points\u001b[0m (3578, 64000, 3) float32\n",
              "│   ├── \u001b[1mpoint_cloud_ring\u001b[0m (3578, 64000) uint16\n",
              "│   ├── \u001b[1mpoint_cloud_timestamp\u001b[0m (3578, 64000) uint64\n",
              "│   ├── \u001b[1msequence_id\u001b[0m (3578,) uint64\n",
              "│   └── \u001b[1mtimestamp\u001b[0m (3578,) uint64\n",
              "├── \u001b[1mhesai_last\u001b[0m\n",
              "│   ├── \u001b[1mpoint_cloud_intensity\u001b[0m (3578, 64000) float32\n",
              "│   ├── \u001b[1mpoint_cloud_points\u001b[0m (3578, 64000, 3) float32\n",
              "│   ├── \u001b[1mpoint_cloud_ring\u001b[0m (3578, 64000) uint16\n",
              "│   ├── \u001b[1mpoint_cloud_timestamp\u001b[0m (3578, 64000) uint64\n",
              "│   ├── \u001b[1msequence_id\u001b[0m (3578,) uint64\n",
              "│   └── \u001b[1mtimestamp\u001b[0m (3578,) uint64\n",
              "├── \u001b[1mlivox\u001b[0m\n",
              "│   ├── \u001b[1mpoint_cloud_intensity\u001b[0m (3584, 64000) float32\n",
              "│   ├── \u001b[1mpoint_cloud_line\u001b[0m (3584, 64000) uint16\n",
              "│   ├── \u001b[1mpoint_cloud_points\u001b[0m (3584, 64000, 3) float32\n",
              "│   ├── \u001b[1mpoint_cloud_tag\u001b[0m (3584, 64000) uint8\n",
              "│   ├── \u001b[1mpoint_cloud_timestamp\u001b[0m (3584, 64000) uint64\n",
              "│   ├── \u001b[1msequence_id\u001b[0m (3584,) uint64\n",
              "│   └── \u001b[1mtimestamp\u001b[0m (3584,) uint64\n",
              "├── \u001b[1mlivox_imu\u001b[0m\n",
              "│   ├── \u001b[1mang_vel\u001b[0m (71680, 3) float64\n",
              "│   ├── \u001b[1mang_vel_cov\u001b[0m (71680, 3, 3) float64\n",
              "│   ├── \u001b[1mlin_acc\u001b[0m (71680, 3) float64\n",
              "│   ├── \u001b[1mlin_acc_cov\u001b[0m (71680, 3, 3) float64\n",
              "│   ├── \u001b[1morien\u001b[0m (71680, 4) float64\n",
              "│   ├── \u001b[1morien_cov\u001b[0m (71680, 3, 3) float64\n",
              "│   ├── \u001b[1msequence_id\u001b[0m (71680,) uint64\n",
              "│   └── \u001b[1mtimestamp\u001b[0m (71680,) uint64\n",
              "├── \u001b[1mlivox_imu_si_compliant\u001b[0m\n",
              "│   ├── \u001b[1mang_vel\u001b[0m (71679, 3) float64\n",
              "│   ├── \u001b[1mang_vel_cov\u001b[0m (71679, 3, 3) float64\n",
              "│   ├── \u001b[1mlin_acc\u001b[0m (71679, 3) float64\n",
              "│   ├── \u001b[1mlin_acc_cov\u001b[0m (71679, 3, 3) float64\n",
              "│   ├── \u001b[1morien\u001b[0m (71679, 4) float64\n",
              "│   ├── \u001b[1morien_cov\u001b[0m (71679, 3, 3) float64\n",
              "│   ├── \u001b[1msequence_id\u001b[0m (71679,) uint64\n",
              "│   └── \u001b[1mtimestamp\u001b[0m (71679,) uint64\n",
              "├── \u001b[1mnovatel\u001b[0m\n",
              "│   ├── \u001b[1mpose_cov\u001b[0m (36001, 6, 6) float64\n",
              "│   ├── \u001b[1mpose_orien\u001b[0m (36001, 4) float64\n",
              "│   ├── \u001b[1mpose_pos\u001b[0m (36001, 3) float64\n",
              "│   ├── \u001b[1msequence_id\u001b[0m (36001,) uint64\n",
              "│   └── \u001b[1mtimestamp\u001b[0m (36001,) uint64\n",
              "├── \u001b[1mnovatel_dgps\u001b[0m\n",
              "│   ├── \u001b[1mpose_cov\u001b[0m (361, 6, 6) float64\n",
              "│   ├── \u001b[1mpose_orien\u001b[0m (361, 4) float64\n",
              "│   ├── \u001b[1mpose_pos\u001b[0m (361, 3) float64\n",
              "│   ├── \u001b[1msequence_id\u001b[0m (361,) uint64\n",
              "│   └── \u001b[1mtimestamp\u001b[0m (361,) uint64\n",
              "├── \u001b[1mnovatel_dgps_odometry\u001b[0m\n",
              "│   ├── \u001b[1mpose_cov\u001b[0m (361, 6, 6) float64\n",
              "│   ├── \u001b[1mpose_orien\u001b[0m (361, 4) float64\n",
              "│   ├── \u001b[1mpose_pos\u001b[0m (361, 3) float64\n",
              "│   ├── \u001b[1msequence_id\u001b[0m (361,) uint64\n",
              "│   ├── \u001b[1mtimestamp\u001b[0m (361,) uint64\n",
              "│   ├── \u001b[1mtwist_ang\u001b[0m (361, 3) float64\n",
              "│   ├── \u001b[1mtwist_cov\u001b[0m (361, 6, 6) float64\n",
              "│   └── \u001b[1mtwist_lin\u001b[0m (361, 3) float64\n",
              "├── \u001b[1mnovatel_lc\u001b[0m\n",
              "│   ├── \u001b[1mpose_cov\u001b[0m (36001, 6, 6) float64\n",
              "│   ├── \u001b[1mpose_orien\u001b[0m (36001, 4) float64\n",
              "│   ├── \u001b[1mpose_pos\u001b[0m (36001, 3) float64\n",
              "│   ├── \u001b[1msequence_id\u001b[0m (36001,) uint64\n",
              "│   └── \u001b[1mtimestamp\u001b[0m (36001,) uint64\n",
              "├── \u001b[1mnovatel_lc_odometry\u001b[0m\n",
              "│   ├── \u001b[1mpose_cov\u001b[0m (36001, 6, 6) float64\n",
              "│   ├── \u001b[1mpose_orien\u001b[0m (36001, 4) float64\n",
              "│   ├── \u001b[1mpose_pos\u001b[0m (36001, 3) float64\n",
              "│   ├── \u001b[1msequence_id\u001b[0m (36001,) uint64\n",
              "│   ├── \u001b[1mtimestamp\u001b[0m (36001,) uint64\n",
              "│   ├── \u001b[1mtwist_ang\u001b[0m (36001, 3) float64\n",
              "│   ├── \u001b[1mtwist_cov\u001b[0m (36001, 6, 6) float64\n",
              "│   └── \u001b[1mtwist_lin\u001b[0m (36001, 3) float64\n",
              "├── \u001b[1mnovatel_odometry\u001b[0m\n",
              "│   ├── \u001b[1mpose_cov\u001b[0m (36001, 6, 6) float64\n",
              "│   ├── \u001b[1mpose_orien\u001b[0m (36001, 4) float64\n",
              "│   ├── \u001b[1mpose_pos\u001b[0m (36001, 3) float64\n",
              "│   ├── \u001b[1msequence_id\u001b[0m (36001,) uint64\n",
              "│   ├── \u001b[1mtimestamp\u001b[0m (36001,) uint64\n",
              "│   ├── \u001b[1mtwist_ang\u001b[0m (36001, 3) float64\n",
              "│   ├── \u001b[1mtwist_cov\u001b[0m (36001, 6, 6) float64\n",
              "│   └── \u001b[1mtwist_lin\u001b[0m (36001, 3) float64\n",
              "├── \u001b[1mnovatel_ppp\u001b[0m\n",
              "│   ├── \u001b[1mpose_cov\u001b[0m (361, 6, 6) float64\n",
              "│   ├── \u001b[1mpose_orien\u001b[0m (361, 4) float64\n",
              "│   ├── \u001b[1mpose_pos\u001b[0m (361, 3) float64\n",
              "│   ├── \u001b[1msequence_id\u001b[0m (361,) uint64\n",
              "│   └── \u001b[1mtimestamp\u001b[0m (361,) uint64\n",
              "├── \u001b[1mnovatel_ppp_odometry\u001b[0m\n",
              "│   ├── \u001b[1mpose_cov\u001b[0m (361, 6, 6) float64\n",
              "│   ├── \u001b[1mpose_orien\u001b[0m (361, 4) float64\n",
              "│   ├── \u001b[1mpose_pos\u001b[0m (361, 3) float64\n",
              "│   ├── \u001b[1msequence_id\u001b[0m (361,) uint64\n",
              "│   ├── \u001b[1mtimestamp\u001b[0m (361,) uint64\n",
              "│   ├── \u001b[1mtwist_ang\u001b[0m (361, 3) float64\n",
              "│   ├── \u001b[1mtwist_cov\u001b[0m (361, 6, 6) float64\n",
              "│   └── \u001b[1mtwist_lin\u001b[0m (361, 3) float64\n",
              "├── \u001b[1mnovatel_tc\u001b[0m\n",
              "│   ├── \u001b[1mpose_cov\u001b[0m (36001, 6, 6) float64\n",
              "│   ├── \u001b[1mpose_orien\u001b[0m (36001, 4) float64\n",
              "│   ├── \u001b[1mpose_pos\u001b[0m (36001, 3) float64\n",
              "│   ├── \u001b[1msequence_id\u001b[0m (36001,) uint64\n",
              "│   └── \u001b[1mtimestamp\u001b[0m (36001,) uint64\n",
              "├── \u001b[1mnovatel_tc_odometry\u001b[0m\n",
              "│   ├── \u001b[1mpose_cov\u001b[0m (36001, 6, 6) float64\n",
              "│   ├── \u001b[1mpose_orien\u001b[0m (36001, 4) float64\n",
              "│   ├── \u001b[1mpose_pos\u001b[0m (36001, 3) float64\n",
              "│   ├── \u001b[1msequence_id\u001b[0m (36001,) uint64\n",
              "│   ├── \u001b[1mtimestamp\u001b[0m (36001,) uint64\n",
              "│   ├── \u001b[1mtwist_ang\u001b[0m (36001, 3) float64\n",
              "│   ├── \u001b[1mtwist_cov\u001b[0m (36001, 6, 6) float64\n",
              "│   └── \u001b[1mtwist_lin\u001b[0m (36001, 3) float64\n",
              "├── \u001b[1mprism\u001b[0m\n",
              "│   ├── \u001b[1mpoint\u001b[0m (4738, 3) float64\n",
              "│   ├── \u001b[1msequence_id\u001b[0m (4738,) uint64\n",
              "│   └── \u001b[1mtimestamp\u001b[0m (4738,) uint64\n",
              "├── \u001b[1mstim_imu\u001b[0m\n",
              "│   ├── \u001b[1mang_vel\u001b[0m (172581, 3) float64\n",
              "│   ├── \u001b[1mang_vel_cov\u001b[0m (172581, 3, 3) float64\n",
              "│   ├── \u001b[1mlin_acc\u001b[0m (172581, 3) float64\n",
              "│   ├── \u001b[1mlin_acc_cov\u001b[0m (172581, 3, 3) float64\n",
              "│   ├── \u001b[1morien\u001b[0m (172581, 4) float64\n",
              "│   ├── \u001b[1morien_cov\u001b[0m (172581, 3, 3) float64\n",
              "│   ├── \u001b[1msequence_id\u001b[0m (172581,) uint64\n",
              "│   └── \u001b[1mtimestamp\u001b[0m (172581,) uint64\n",
              "├── \u001b[1mzed2i_confidence\u001b[0m\n",
              "│   ├── \u001b[1msequence_id\u001b[0m (5137,) uint64\n",
              "│   └── \u001b[1mtimestamp\u001b[0m (5137,) uint64\n",
              "├── \u001b[1mzed2i_depth\u001b[0m\n",
              "│   ├── \u001b[1msequence_id\u001b[0m (5137,) uint64\n",
              "│   └── \u001b[1mtimestamp\u001b[0m (5137,) uint64\n",
              "├── \u001b[1mzed2i_imu\u001b[0m\n",
              "│   ├── \u001b[1mang_vel\u001b[0m (15479, 3) float64\n",
              "│   ├── \u001b[1mang_vel_cov\u001b[0m (15479, 3, 3) float64\n",
              "│   ├── \u001b[1mlin_acc\u001b[0m (15479, 3) float64\n",
              "│   ├── \u001b[1mlin_acc_cov\u001b[0m (15479, 3, 3) float64\n",
              "│   ├── \u001b[1morien\u001b[0m (15479, 4) float64\n",
              "│   ├── \u001b[1morien_cov\u001b[0m (15479, 3, 3) float64\n",
              "│   ├── \u001b[1msequence_id\u001b[0m (15479,) uint64\n",
              "│   └── \u001b[1mtimestamp\u001b[0m (15479,) uint64\n",
              "├── \u001b[1mzed2i_left\u001b[0m\n",
              "│   ├── \u001b[1msequence_id\u001b[0m (5137,) uint64\n",
              "│   └── \u001b[1mtimestamp\u001b[0m (5137,) uint64\n",
              "├── \u001b[1mzed2i_magnetic_field\u001b[0m\n",
              "│   ├── \u001b[1mb_field\u001b[0m (15410, 3) float64\n",
              "│   ├── \u001b[1mb_field_cov\u001b[0m (15410, 3, 3) float64\n",
              "│   ├── \u001b[1msequence_id\u001b[0m (15410,) uint64\n",
              "│   └── \u001b[1mtimestamp\u001b[0m (15410,) uint64\n",
              "├── \u001b[1mzed2i_odometry\u001b[0m\n",
              "│   ├── \u001b[1mpose_cov\u001b[0m (5137, 6, 6) float64\n",
              "│   ├── \u001b[1mpose_orien\u001b[0m (5137, 4) float64\n",
              "│   ├── \u001b[1mpose_pos\u001b[0m (5137, 3) float64\n",
              "│   ├── \u001b[1msequence_id\u001b[0m (5137,) uint64\n",
              "│   ├── \u001b[1mtimestamp\u001b[0m (5137,) uint64\n",
              "│   ├── \u001b[1mtwist_ang\u001b[0m (5137, 3) float64\n",
              "│   ├── \u001b[1mtwist_cov\u001b[0m (5137, 6, 6) float64\n",
              "│   └── \u001b[1mtwist_lin\u001b[0m (5137, 3) float64\n",
              "├── \u001b[1mzed2i_right\u001b[0m\n",
              "│   ├── \u001b[1msequence_id\u001b[0m (5137,) uint64\n",
              "│   └── \u001b[1mtimestamp\u001b[0m (5137,) uint64\n",
              "└── \u001b[1mzed2i_tf\u001b[0m\n",
              "    ├── \u001b[1mrotation\u001b[0m (5137, 4) float64\n",
              "    ├── \u001b[1msequence_id\u001b[0m (5137,) uint64\n",
              "    ├── \u001b[1mtimestamp\u001b[0m (5137,) uint64\n",
              "    └── \u001b[1mtranslation\u001b[0m (5137, 3) float64\n"
            ]
          },
          "metadata": {},
          "output_type": "display_data"
        },
        {
          "name": "stdout",
          "output_type": "stream",
          "text": [
            "\n"
          ]
        }
      ],
      "source": [
        "import zarr\n",
        "import zarr.storage\n",
        "\n",
        "# The /data folder contains the actual data files, while the /metadata folder contains static data like TFs and calibration. Images are stored in /images.\n",
        "store = zarr.storage.LocalStore(destination_directory + \"/data\")\n",
        "root = zarr.group(store=store)\n",
        "mission_root = zarr.open_group(destination_directory + \"/data\", mode='r')\n",
        "\n",
        "# Take a look at the available data\n",
        "print(mission_root.tree())"
      ]
    }
  ],
  "metadata": {
    "colab": {
      "provenance": []
    },
    "kernelspec": {
      "display_name": "gt",
      "language": "python",
      "name": "python3"
    },
    "language_info": {
      "codemirror_mode": {
        "name": "ipython",
        "version": 3
      },
      "file_extension": ".py",
      "mimetype": "text/x-python",
      "name": "python",
      "nbconvert_exporter": "python",
      "pygments_lexer": "ipython3",
      "version": "3.11.11"
    }
  },
  "nbformat": 4,
  "nbformat_minor": 0
}
