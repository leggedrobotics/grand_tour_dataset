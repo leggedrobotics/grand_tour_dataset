{
 "cells": [
  {
   "attachments": {},
   "cell_type": "markdown",
   "metadata": {
    "id": "iJUj0TiKtGJS"
   },
   "source": [
    "# Access GrandTour Data using HuggingFace 🤗\n",
    "© 2025 ETH Zurich\n",
    " \n",
    " [![Open In Colab](https://colab.research.google.com/assets/colab-badge.svg)](https://colab.research.google.com/github/leggedrobotics/grand_tour_dataset/blob/main/examples/%5B0%5D_Accessing_GrandTour_Data.ipynb)\n",
    "\n",
    "\n",
    "## Overview\n",
    "> GrandTour data is avaialable in two formats, hosted on two platforms:\n",
    "\n",
    "<table>\n",
    "  <tr>\n",
    "    <th style=\"padding:10px;text-align:left;\">Format</th>\n",
    "    <th style=\"padding:10px;text-align:left;\"> </th>\n",
    "    <th style=\"padding:10px;text-align:left;\">Hosted&nbsp;on</th>\n",
    "    <th style=\"padding:10px;text-align:left;\"> </th>\n",
    "  </tr>\n",
    "\n",
    "  <tr>\n",
    "    <td><img src=\"https://raw.githubusercontent.com/leggedrobotics/grand_tour_dataset/main/assets/ros-logo.png\"  height=\"30\" alt=\"ROS logo\"></td>\n",
    "    <td style=\"padding-left:15px;\"><a href=\"https://wiki.ros.org/rosbag\">ROS&nbsp;Bags</a></td>\n",
    "    <td><img src=\"https://raw.githubusercontent.com/leggedrobotics/grand_tour_dataset/main/assets/rsl-logo.png\"  height=\"30\" alt=\"RSL logo\"></td>\n",
    "    <td style=\"padding-left:15px;\">Kleinkram</td>\n",
    "  </tr>\n",
    "\n",
    "\n",
    "  <tr>\n",
    "    <td><img src=\"https://raw.githubusercontent.com/leggedrobotics/grand_tour_dataset/main/assets/zarr-logo.png\" height=\"40\" alt=\"Zarr logo\"></td>\n",
    "    <td style=\"padding-left:15px;\"><a href=\"https://zarr.dev/\">ZARR</a></td>\n",
    "    <td><img src=\"https://raw.githubusercontent.com/leggedrobotics/grand_tour_dataset/main/assets/hf-logo.png\"  height=\"30\" alt=\"Hugging Face logo\"></td>\n",
    "    <td style=\"padding-left:15px;\">HuggingFace</td>\n",
    "  </tr>\n",
    "</table>\n",
    "\n",
    "> This notebook explains how to download the zarr/png converted dataset hosted on Huggingface.\n",
    ">\n",
    "> \n",
    "> 💡 Please refer to the `examples_hugging_face/explore.ipynb` on how to use the data.\n",
    " \n",
    "## Downloading\n",
    "> We provide the entire dataset on HuggingFace in `.zarr`, `.png`, and `.yaml` format.\n",
    "> \n",
    "> To avoid checking in +1M individual files on the HuggingHub, we created a tar-ball `.tar` for each topic per mission.\n",
    "\n",
    "> HuggingFace has an easy-to-use Python download API called `huggingface_hub`.\n",
    "> It is possible to download directly from the [GrandTour HuggingFace repo UI](https://huggingface.co/leggedrobotics), but we strongly reccomend making use of `huggingface_hub`, as it manages caching files, interrupted downloads and smart fetching of updated files.\n",
    "\n",
    "> First, install `huggingface_hub` which requires you to  have an HuggingFace account. You can create one for free at [huggingface.co](https://huggingface.co/)."
   ]
  },
  {
   "cell_type": "code",
   "execution_count": 1,
   "metadata": {},
   "outputs": [
    {
     "name": "stdout",
     "output_type": "stream",
     "text": [
      "\n",
      "\u001b[1m[\u001b[0m\u001b[34;49mnotice\u001b[0m\u001b[1;39;49m]\u001b[0m\u001b[39;49m A new release of pip is available: \u001b[0m\u001b[31;49m24.0\u001b[0m\u001b[39;49m -> \u001b[0m\u001b[32;49m25.1.1\u001b[0m\n",
      "\u001b[1m[\u001b[0m\u001b[34;49mnotice\u001b[0m\u001b[1;39;49m]\u001b[0m\u001b[39;49m To update, run: \u001b[0m\u001b[32;49mpip install --upgrade pip\u001b[0m\n"
     ]
    }
   ],
   "source": [
    "! pip install -q huggingface_hub # Should be already installed when following the README.md and uv installation!"
   ]
  },
  {
   "cell_type": "markdown",
   "metadata": {},
   "source": [
    "> Then, login using the cli. This will store authentication tokens on your PC and allow you to use the API to download data."
   ]
  },
  {
   "cell_type": "code",
   "execution_count": 2,
   "metadata": {},
   "outputs": [
    {
     "name": "stdout",
     "output_type": "stream",
     "text": [
      "\n",
      "    _|    _|  _|    _|    _|_|_|    _|_|_|  _|_|_|  _|      _|    _|_|_|      _|_|_|_|    _|_|      _|_|_|  _|_|_|_|\n",
      "    _|    _|  _|    _|  _|        _|          _|    _|_|    _|  _|            _|        _|    _|  _|        _|\n",
      "    _|_|_|_|  _|    _|  _|  _|_|  _|  _|_|    _|    _|  _|  _|  _|  _|_|      _|_|_|    _|_|_|_|  _|        _|_|_|\n",
      "    _|    _|  _|    _|  _|    _|  _|    _|    _|    _|    _|_|  _|    _|      _|        _|    _|  _|        _|\n",
      "    _|    _|    _|_|      _|_|_|    _|_|_|  _|_|_|  _|      _|    _|_|_|      _|        _|    _|    _|_|_|  _|_|_|_|\n",
      "\n",
      "    A token is already saved on your machine. Run `huggingface-cli whoami` to get more information or `huggingface-cli logout` if you want to log out.\n",
      "    Setting a new token will erase the existing one.\n",
      "    To log in, `huggingface_hub` requires a token generated from https://huggingface.co/settings/tokens .\n",
      "Enter your token (input will not be visible): Traceback (most recent call last):\n",
      "  File \"/home/jonfrey/git/grand_tour_dataset/examples_hugging_face/.venv/grandtour/bin/huggingface-cli\", line 8, in <module>\n",
      "    sys.exit(main())\n",
      "             ^^^^^^\n",
      "  File \"/home/jonfrey/git/grand_tour_dataset/examples_hugging_face/.venv/grandtour/lib/python3.11/site-packages/huggingface_hub/commands/huggingface_cli.py\", line 59, in main\n",
      "    service.run()\n",
      "  File \"/home/jonfrey/git/grand_tour_dataset/examples_hugging_face/.venv/grandtour/lib/python3.11/site-packages/huggingface_hub/commands/user.py\", line 111, in run\n",
      "    login(\n",
      "  File \"/home/jonfrey/git/grand_tour_dataset/examples_hugging_face/.venv/grandtour/lib/python3.11/site-packages/huggingface_hub/utils/_deprecation.py\", line 101, in inner_f\n",
      "    return f(*args, **kwargs)\n",
      "           ^^^^^^^^^^^^^^^^^^\n",
      "  File \"/home/jonfrey/git/grand_tour_dataset/examples_hugging_face/.venv/grandtour/lib/python3.11/site-packages/huggingface_hub/utils/_deprecation.py\", line 31, in inner_f\n",
      "    return f(*args, **kwargs)\n",
      "           ^^^^^^^^^^^^^^^^^^\n",
      "  File \"/home/jonfrey/git/grand_tour_dataset/examples_hugging_face/.venv/grandtour/lib/python3.11/site-packages/huggingface_hub/_login.py\", line 130, in login\n",
      "    interpreter_login(new_session=new_session)\n",
      "  File \"/home/jonfrey/git/grand_tour_dataset/examples_hugging_face/.venv/grandtour/lib/python3.11/site-packages/huggingface_hub/utils/_deprecation.py\", line 101, in inner_f\n",
      "    return f(*args, **kwargs)\n",
      "           ^^^^^^^^^^^^^^^^^^\n",
      "  File \"/home/jonfrey/git/grand_tour_dataset/examples_hugging_face/.venv/grandtour/lib/python3.11/site-packages/huggingface_hub/utils/_deprecation.py\", line 31, in inner_f\n",
      "    return f(*args, **kwargs)\n",
      "           ^^^^^^^^^^^^^^^^^^\n",
      "  File \"/home/jonfrey/git/grand_tour_dataset/examples_hugging_face/.venv/grandtour/lib/python3.11/site-packages/huggingface_hub/_login.py\", line 287, in interpreter_login\n",
      "    token = getpass(\"Enter your token (input will not be visible): \")\n",
      "            ^^^^^^^^^^^^^^^^^^^^^^^^^^^^^^^^^^^^^^^^^^^^^^^^^^^^^^^^^\n",
      "  File \"/usr/lib/python3.11/getpass.py\", line 77, in unix_getpass\n",
      "    passwd = _raw_input(prompt, stream, input=input)\n",
      "             ^^^^^^^^^^^^^^^^^^^^^^^^^^^^^^^^^^^^^^^\n",
      "  File \"/usr/lib/python3.11/getpass.py\", line 146, in _raw_input\n",
      "    line = input.readline()\n",
      "           ^^^^^^^^^^^^^^^^\n",
      "  File \"<frozen codecs>\", line 319, in decode\n",
      "KeyboardInterrupt\n"
     ]
    }
   ],
   "source": [
    "# If your notebook isn't able to take input from the command line, run this in a local terminal instead\n",
    "# huggingface-cli login"
   ]
  },
  {
   "cell_type": "markdown",
   "metadata": {},
   "source": [
    "> Now you can download an a mission of your choice. The next tutorial - _[1] Exploring GrandTour Data_ - uses 2024-10-01-11-29-55, so we will donwload it here in anticipation."
   ]
  },
  {
   "cell_type": "code",
   "execution_count": 18,
   "metadata": {},
   "outputs": [
    {
     "data": {
      "application/vnd.jupyter.widget-view+json": {
       "model_id": "ff45acd359a344588e67883ed6cb7ea8",
       "version_major": 2,
       "version_minor": 0
      },
      "text/plain": [
       "Fetching 135 files:   0%|          | 0/135 [00:00<?, ?it/s]"
      ]
     },
     "metadata": {},
     "output_type": "display_data"
    },
    {
     "data": {
      "application/vnd.jupyter.widget-view+json": {
       "model_id": "a9ce8f271cee4ac9ad7bdc9b18a2ad2f",
       "version_major": 2,
       "version_minor": 0
      },
      "text/plain": [
       "alphasense_right.tar:   0%|          | 0.00/2.19M [00:00<?, ?B/s]"
      ]
     },
     "metadata": {},
     "output_type": "display_data"
    },
    {
     "data": {
      "application/vnd.jupyter.widget-view+json": {
       "model_id": "659815fb6fe54eb080587caa34ebd9c3",
       "version_major": 2,
       "version_minor": 0
      },
      "text/plain": [
       "alphasense_front_right.tar:   0%|          | 0.00/2.19M [00:00<?, ?B/s]"
      ]
     },
     "metadata": {},
     "output_type": "display_data"
    },
    {
     "data": {
      "application/vnd.jupyter.widget-view+json": {
       "model_id": "9851bc831ae9468f80eda537186da35e",
       "version_major": 2,
       "version_minor": 0
      },
      "text/plain": [
       "alphasense_imu.tar:   0%|          | 0.00/6.76M [00:00<?, ?B/s]"
      ]
     },
     "metadata": {},
     "output_type": "display_data"
    },
    {
     "data": {
      "application/vnd.jupyter.widget-view+json": {
       "model_id": "21d5eb52490d4d35b9923c48e71d3d5b",
       "version_major": 2,
       "version_minor": 0
      },
      "text/plain": [
       "adis_imu.tar:   0%|          | 0.00/6.76M [00:00<?, ?B/s]"
      ]
     },
     "metadata": {},
     "output_type": "display_data"
    },
    {
     "data": {
      "application/vnd.jupyter.widget-view+json": {
       "model_id": "ef36c6aec30747b9b3f86edaaadfa459",
       "version_major": 2,
       "version_minor": 0
      },
      "text/plain": [
       "anymal_command_twist.tar:   0%|          | 0.00/3.82M [00:00<?, ?B/s]"
      ]
     },
     "metadata": {},
     "output_type": "display_data"
    },
    {
     "data": {
      "application/vnd.jupyter.widget-view+json": {
       "model_id": "42dbe97819164e4c8fab7ef1e8d1c26a",
       "version_major": 2,
       "version_minor": 0
      },
      "text/plain": [
       "alphasense_front_left.tar:   0%|          | 0.00/2.19M [00:00<?, ?B/s]"
      ]
     },
     "metadata": {},
     "output_type": "display_data"
    },
    {
     "data": {
      "application/vnd.jupyter.widget-view+json": {
       "model_id": "0c7ee75b1319463a9238a532b2364735",
       "version_major": 2,
       "version_minor": 0
      },
      "text/plain": [
       "alphasense_left.tar:   0%|          | 0.00/2.19M [00:00<?, ?B/s]"
      ]
     },
     "metadata": {},
     "output_type": "display_data"
    },
    {
     "data": {
      "application/vnd.jupyter.widget-view+json": {
       "model_id": "eb5498575a1545e29b1e4e3fc08d98a4",
       "version_major": 2,
       "version_minor": 0
      },
      "text/plain": [
       "alphasense_front_center.tar:   0%|          | 0.00/2.19M [00:00<?, ?B/s]"
      ]
     },
     "metadata": {},
     "output_type": "display_data"
    },
    {
     "data": {
      "application/vnd.jupyter.widget-view+json": {
       "model_id": "560a53c61e7744e69c97fa06265b88ec",
       "version_major": 2,
       "version_minor": 0
      },
      "text/plain": [
       "anymal_imu.tar:   0%|          | 0.00/6.76M [00:00<?, ?B/s]"
      ]
     },
     "metadata": {},
     "output_type": "display_data"
    },
    {
     "data": {
      "application/vnd.jupyter.widget-view+json": {
       "model_id": "9999bc2c2c324d0fbb04ac8a0b68989e",
       "version_major": 2,
       "version_minor": 0
      },
      "text/plain": [
       "anymal_state_actuator.tar:   0%|          | 0.00/266M [00:00<?, ?B/s]"
      ]
     },
     "metadata": {},
     "output_type": "display_data"
    },
    {
     "data": {
      "application/vnd.jupyter.widget-view+json": {
       "model_id": "6d2ac267b1ca4195929a547595876922",
       "version_major": 2,
       "version_minor": 0
      },
      "text/plain": [
       "anymal_state_state_estimator.tar:   0%|          | 0.00/36.3M [00:00<?, ?B/s]"
      ]
     },
     "metadata": {},
     "output_type": "display_data"
    },
    {
     "data": {
      "application/vnd.jupyter.widget-view+json": {
       "model_id": "3c1a6e004f9b4df9a79145aebb5faffb",
       "version_major": 2,
       "version_minor": 0
      },
      "text/plain": [
       "anymal_state_battery.tar:   0%|          | 0.00/16.4M [00:00<?, ?B/s]"
      ]
     },
     "metadata": {},
     "output_type": "display_data"
    },
    {
     "data": {
      "application/vnd.jupyter.widget-view+json": {
       "model_id": "a005a6023db544c58c8e4fd544132c1c",
       "version_major": 2,
       "version_minor": 0
      },
      "text/plain": [
       "anymal_state_odometry.tar:   0%|          | 0.00/6.95M [00:00<?, ?B/s]"
      ]
     },
     "metadata": {},
     "output_type": "display_data"
    },
    {
     "data": {
      "application/vnd.jupyter.widget-view+json": {
       "model_id": "77e6b6e6f9fe4c639d44597e80dec07f",
       "version_major": 2,
       "version_minor": 0
      },
      "text/plain": [
       "ap20_imu.tar:   0%|          | 0.00/6.76M [00:00<?, ?B/s]"
      ]
     },
     "metadata": {},
     "output_type": "display_data"
    },
    {
     "data": {
      "application/vnd.jupyter.widget-view+json": {
       "model_id": "0ca1d9e729de4c35aebc6d4b91f991d8",
       "version_major": 2,
       "version_minor": 0
      },
      "text/plain": [
       "cpt7_ie_rt_odometry.tar:   0%|          | 0.00/6.95M [00:00<?, ?B/s]"
      ]
     },
     "metadata": {},
     "output_type": "display_data"
    },
    {
     "data": {
      "application/vnd.jupyter.widget-view+json": {
       "model_id": "4e4c51226cf446ed9b62ff5464e73efe",
       "version_major": 2,
       "version_minor": 0
      },
      "text/plain": [
       "cpt7_ie_rt_tf.tar:   0%|          | 0.00/4.10M [00:00<?, ?B/s]"
      ]
     },
     "metadata": {},
     "output_type": "display_data"
    },
    {
     "data": {
      "application/vnd.jupyter.widget-view+json": {
       "model_id": "1818e187d5d74e38ad8bee711c17231b",
       "version_major": 2,
       "version_minor": 0
      },
      "text/plain": [
       "cpt7_ie_tc_odometry.tar:   0%|          | 0.00/6.95M [00:00<?, ?B/s]"
      ]
     },
     "metadata": {},
     "output_type": "display_data"
    },
    {
     "data": {
      "application/vnd.jupyter.widget-view+json": {
       "model_id": "ed298a2f8f5347cd9582cc49b07468e9",
       "version_major": 2,
       "version_minor": 0
      },
      "text/plain": [
       "depth_camera_front_lower.tar:   0%|          | 0.00/2.19M [00:00<?, ?B/s]"
      ]
     },
     "metadata": {},
     "output_type": "display_data"
    },
    {
     "data": {
      "application/vnd.jupyter.widget-view+json": {
       "model_id": "0a76b39cd1824f6da56af9b27847cc22",
       "version_major": 2,
       "version_minor": 0
      },
      "text/plain": [
       "cpt7_ie_tc_tf.tar:   0%|          | 0.00/4.10M [00:00<?, ?B/s]"
      ]
     },
     "metadata": {},
     "output_type": "display_data"
    },
    {
     "data": {
      "application/vnd.jupyter.widget-view+json": {
       "model_id": "833f4d53097c4588ab0215a9dd627e04",
       "version_major": 2,
       "version_minor": 0
      },
      "text/plain": [
       "depth_camera_left.tar:   0%|          | 0.00/2.19M [00:00<?, ?B/s]"
      ]
     },
     "metadata": {},
     "output_type": "display_data"
    },
    {
     "data": {
      "application/vnd.jupyter.widget-view+json": {
       "model_id": "d58ec6d638f8436a93851ef476db87e6",
       "version_major": 2,
       "version_minor": 0
      },
      "text/plain": [
       "depth_camera_front_upper.tar:   0%|          | 0.00/2.19M [00:00<?, ?B/s]"
      ]
     },
     "metadata": {},
     "output_type": "display_data"
    },
    {
     "data": {
      "application/vnd.jupyter.widget-view+json": {
       "model_id": "bbfaa4ed7d5441d9b6f26b3e6a89050f",
       "version_major": 2,
       "version_minor": 0
      },
      "text/plain": [
       "depth_camera_rear_lower.tar:   0%|          | 0.00/2.19M [00:00<?, ?B/s]"
      ]
     },
     "metadata": {},
     "output_type": "display_data"
    },
    {
     "data": {
      "application/vnd.jupyter.widget-view+json": {
       "model_id": "e4cdf9490f1c41e2b6a5bfe6733ac0be",
       "version_major": 2,
       "version_minor": 0
      },
      "text/plain": [
       "depth_camera_rear_upper.tar:   0%|          | 0.00/2.19M [00:00<?, ?B/s]"
      ]
     },
     "metadata": {},
     "output_type": "display_data"
    },
    {
     "data": {
      "application/vnd.jupyter.widget-view+json": {
       "model_id": "046a1d143979425a8ad18d98472b10a8",
       "version_major": 2,
       "version_minor": 0
      },
      "text/plain": [
       "depth_camera_right.tar:   0%|          | 0.00/2.19M [00:00<?, ?B/s]"
      ]
     },
     "metadata": {},
     "output_type": "display_data"
    },
    {
     "data": {
      "application/vnd.jupyter.widget-view+json": {
       "model_id": "f62a0fddff244d5184c23f4835355ccc",
       "version_major": 2,
       "version_minor": 0
      },
      "text/plain": [
       "dlio_hesai_points_undistorted.tar:   0%|          | 0.00/6.95M [00:00<?, ?B/s]"
      ]
     },
     "metadata": {},
     "output_type": "display_data"
    },
    {
     "data": {
      "application/vnd.jupyter.widget-view+json": {
       "model_id": "9d13918fc9d34ba4b6521e8c30090c02",
       "version_major": 2,
       "version_minor": 0
      },
      "text/plain": [
       "gnss_raw_cpt7_ie_rt.tar:   0%|          | 0.00/5.46M [00:00<?, ?B/s]"
      ]
     },
     "metadata": {},
     "output_type": "display_data"
    },
    {
     "data": {
      "application/vnd.jupyter.widget-view+json": {
       "model_id": "76fef94ec5334a5da157c5e66c05282a",
       "version_major": 2,
       "version_minor": 0
      },
      "text/plain": [
       "dlio_map_odometry.tar:   0%|          | 0.00/6.95M [00:00<?, ?B/s]"
      ]
     },
     "metadata": {},
     "output_type": "display_data"
    },
    {
     "data": {
      "application/vnd.jupyter.widget-view+json": {
       "model_id": "1c5d55822f0543948a80b4d984a01616",
       "version_major": 2,
       "version_minor": 0
      },
      "text/plain": [
       "dlio_tf.tar:   0%|          | 0.00/4.10M [00:00<?, ?B/s]"
      ]
     },
     "metadata": {},
     "output_type": "display_data"
    },
    {
     "data": {
      "application/vnd.jupyter.widget-view+json": {
       "model_id": "faba40cd5f2f4b6a80fb141c7c023b79",
       "version_major": 2,
       "version_minor": 0
      },
      "text/plain": [
       "gnss_raw_cpt7_ie_tc.tar:   0%|          | 0.00/5.46M [00:00<?, ?B/s]"
      ]
     },
     "metadata": {},
     "output_type": "display_data"
    },
    {
     "data": {
      "application/vnd.jupyter.widget-view+json": {
       "model_id": "c26b6e1689414cc1b55af48478c7c8a9",
       "version_major": 2,
       "version_minor": 0
      },
      "text/plain": [
       "hdr_front.tar:   0%|          | 0.00/2.19M [00:00<?, ?B/s]"
      ]
     },
     "metadata": {},
     "output_type": "display_data"
    },
    {
     "data": {
      "application/vnd.jupyter.widget-view+json": {
       "model_id": "9c1b330b85d44719ad0ef79cc6f31461",
       "version_major": 2,
       "version_minor": 0
      },
      "text/plain": [
       "hdr_left.tar:   0%|          | 0.00/2.19M [00:00<?, ?B/s]"
      ]
     },
     "metadata": {},
     "output_type": "display_data"
    },
    {
     "data": {
      "application/vnd.jupyter.widget-view+json": {
       "model_id": "0ba128f1b97648ff9d295de23ea1e890",
       "version_major": 2,
       "version_minor": 0
      },
      "text/plain": [
       "hdr_right.tar:   0%|          | 0.00/2.19M [00:00<?, ?B/s]"
      ]
     },
     "metadata": {},
     "output_type": "display_data"
    },
    {
     "data": {
      "application/vnd.jupyter.widget-view+json": {
       "model_id": "a736ed0105c244f1a3197026e4249db2",
       "version_major": 2,
       "version_minor": 0
      },
      "text/plain": [
       "hesai.tar:   0%|          | 0.00/8.20M [00:00<?, ?B/s]"
      ]
     },
     "metadata": {},
     "output_type": "display_data"
    },
    {
     "data": {
      "application/vnd.jupyter.widget-view+json": {
       "model_id": "b82a29fcfa964c06b768669f75ea3efe",
       "version_major": 2,
       "version_minor": 0
      },
      "text/plain": [
       "livox_points.tar:   0%|          | 0.00/8.01M [00:00<?, ?B/s]"
      ]
     },
     "metadata": {},
     "output_type": "display_data"
    },
    {
     "data": {
      "application/vnd.jupyter.widget-view+json": {
       "model_id": "43142a7c3e4e415c883e77b7027d644f",
       "version_major": 2,
       "version_minor": 0
      },
      "text/plain": [
       "hesai_undistorted.tar:   0%|          | 0.00/8.20M [00:00<?, ?B/s]"
      ]
     },
     "metadata": {},
     "output_type": "display_data"
    },
    {
     "data": {
      "application/vnd.jupyter.widget-view+json": {
       "model_id": "0f0c937941f345b8a790b451f26af888",
       "version_major": 2,
       "version_minor": 0
      },
      "text/plain": [
       "navsatfix_cpt7_ie_tc.tar:   0%|          | 0.00/7.16M [00:00<?, ?B/s]"
      ]
     },
     "metadata": {},
     "output_type": "display_data"
    },
    {
     "data": {
      "application/vnd.jupyter.widget-view+json": {
       "model_id": "382aec6ccbc046089ce8ac807380c846",
       "version_major": 2,
       "version_minor": 0
      },
      "text/plain": [
       "livox_imu.tar:   0%|          | 0.00/6.76M [00:00<?, ?B/s]"
      ]
     },
     "metadata": {},
     "output_type": "display_data"
    },
    {
     "data": {
      "application/vnd.jupyter.widget-view+json": {
       "model_id": "6decc77728a7435399e0ec6415632395",
       "version_major": 2,
       "version_minor": 0
      },
      "text/plain": [
       "livox_points_undistorted.tar:   0%|          | 0.00/8.01M [00:00<?, ?B/s]"
      ]
     },
     "metadata": {},
     "output_type": "display_data"
    },
    {
     "data": {
      "application/vnd.jupyter.widget-view+json": {
       "model_id": "51eb176bdd744baa824e70a8cff83b13",
       "version_major": 2,
       "version_minor": 0
      },
      "text/plain": [
       "stim320_accelerometer_temperature.tar:   0%|          | 0.00/4.36M [00:00<?, ?B/s]"
      ]
     },
     "metadata": {},
     "output_type": "display_data"
    },
    {
     "data": {
      "application/vnd.jupyter.widget-view+json": {
       "model_id": "03970a8af0c04e6cae8a1e29b463d360",
       "version_major": 2,
       "version_minor": 0
      },
      "text/plain": [
       "stim320_imu.tar:   0%|          | 0.00/6.76M [00:00<?, ?B/s]"
      ]
     },
     "metadata": {},
     "output_type": "display_data"
    },
    {
     "data": {
      "application/vnd.jupyter.widget-view+json": {
       "model_id": "e51afdefff7b4d43b749896a1d88c87a",
       "version_major": 2,
       "version_minor": 0
      },
      "text/plain": [
       "stim320_gyroscope_temperature.tar:   0%|          | 0.00/4.36M [00:00<?, ?B/s]"
      ]
     },
     "metadata": {},
     "output_type": "display_data"
    },
    {
     "data": {
      "application/vnd.jupyter.widget-view+json": {
       "model_id": "9d8e0057d3144e3a908cc24fde986903",
       "version_major": 2,
       "version_minor": 0
      },
      "text/plain": [
       "velodyne.tar:   0%|          | 0.00/8.29M [00:00<?, ?B/s]"
      ]
     },
     "metadata": {},
     "output_type": "display_data"
    },
    {
     "data": {
      "application/vnd.jupyter.widget-view+json": {
       "model_id": "f8fc5e85b1af4b408802bef3006d9618",
       "version_major": 2,
       "version_minor": 0
      },
      "text/plain": [
       "velodyne_undist.tar:   0%|          | 0.00/8.28M [00:00<?, ?B/s]"
      ]
     },
     "metadata": {},
     "output_type": "display_data"
    },
    {
     "data": {
      "application/vnd.jupyter.widget-view+json": {
       "model_id": "7c173faafa4a4b9c8fb100257e73201d",
       "version_major": 2,
       "version_minor": 0
      },
      "text/plain": [
       "zed2i_depth_confidence_image.tar:   0%|          | 0.00/2.19M [00:00<?, ?B/s]"
      ]
     },
     "metadata": {},
     "output_type": "display_data"
    },
    {
     "data": {
      "application/vnd.jupyter.widget-view+json": {
       "model_id": "85119ce494734d5e96a051c1f7da4215",
       "version_major": 2,
       "version_minor": 0
      },
      "text/plain": [
       "zed2i_depth_image.tar:   0%|          | 0.00/2.19M [00:00<?, ?B/s]"
      ]
     },
     "metadata": {},
     "output_type": "display_data"
    },
    {
     "data": {
      "application/vnd.jupyter.widget-view+json": {
       "model_id": "c91cab903fee423fa5684a51b9056bb2",
       "version_major": 2,
       "version_minor": 0
      },
      "text/plain": [
       "zed2i_left_images.tar:   0%|          | 0.00/2.19M [00:00<?, ?B/s]"
      ]
     },
     "metadata": {},
     "output_type": "display_data"
    },
    {
     "data": {
      "application/vnd.jupyter.widget-view+json": {
       "model_id": "72442ba3ff28421d888eb7a3defa6b61",
       "version_major": 2,
       "version_minor": 0
      },
      "text/plain": [
       "zed2i_right_images.tar:   0%|          | 0.00/2.19M [00:00<?, ?B/s]"
      ]
     },
     "metadata": {},
     "output_type": "display_data"
    },
    {
     "data": {
      "application/vnd.jupyter.widget-view+json": {
       "model_id": "b91465a9991a46e1b643d879cc9005f3",
       "version_major": 2,
       "version_minor": 0
      },
      "text/plain": [
       "zed2i_vio_map.tar:   0%|          | 0.00/4.71M [00:00<?, ?B/s]"
      ]
     },
     "metadata": {},
     "output_type": "display_data"
    },
    {
     "data": {
      "application/vnd.jupyter.widget-view+json": {
       "model_id": "8e4a7df7c73b4817b3f22b12d2c826d0",
       "version_major": 2,
       "version_minor": 0
      },
      "text/plain": [
       "alphasense_front_center.tar:   0%|          | 0.00/993k [00:00<?, ?B/s]"
      ]
     },
     "metadata": {},
     "output_type": "display_data"
    },
    {
     "data": {
      "application/vnd.jupyter.widget-view+json": {
       "model_id": "49d9dfbf1b714c58820b07b5ef445739",
       "version_major": 2,
       "version_minor": 0
      },
      "text/plain": [
       "alphasense_front_left.tar:   0%|          | 0.00/922k [00:00<?, ?B/s]"
      ]
     },
     "metadata": {},
     "output_type": "display_data"
    },
    {
     "data": {
      "application/vnd.jupyter.widget-view+json": {
       "model_id": "d35bab6170594effb7347707328e6955",
       "version_major": 2,
       "version_minor": 0
      },
      "text/plain": [
       "alphasense_left.tar:   0%|          | 0.00/922k [00:00<?, ?B/s]"
      ]
     },
     "metadata": {},
     "output_type": "display_data"
    },
    {
     "data": {
      "application/vnd.jupyter.widget-view+json": {
       "model_id": "0cb5f1ee86104717a83c50f119e7cb75",
       "version_major": 2,
       "version_minor": 0
      },
      "text/plain": [
       "alphasense_front_right.tar:   0%|          | 0.00/1.02M [00:00<?, ?B/s]"
      ]
     },
     "metadata": {},
     "output_type": "display_data"
    },
    {
     "data": {
      "application/vnd.jupyter.widget-view+json": {
       "model_id": "48370f4f2e3843aa938a9a501f95ca87",
       "version_major": 2,
       "version_minor": 0
      },
      "text/plain": [
       "depth_camera_front_lower.tar:   0%|          | 0.00/676k [00:00<?, ?B/s]"
      ]
     },
     "metadata": {},
     "output_type": "display_data"
    },
    {
     "data": {
      "application/vnd.jupyter.widget-view+json": {
       "model_id": "1bd43f4296b845b8b352d377e967bac8",
       "version_major": 2,
       "version_minor": 0
      },
      "text/plain": [
       "alphasense_right.tar:   0%|          | 0.00/922k [00:00<?, ?B/s]"
      ]
     },
     "metadata": {},
     "output_type": "display_data"
    },
    {
     "data": {
      "application/vnd.jupyter.widget-view+json": {
       "model_id": "9aaaf34bfa1b4dccbc723c1ac2613f4e",
       "version_major": 2,
       "version_minor": 0
      },
      "text/plain": [
       "depth_camera_front_upper.tar:   0%|          | 0.00/707k [00:00<?, ?B/s]"
      ]
     },
     "metadata": {},
     "output_type": "display_data"
    },
    {
     "data": {
      "application/vnd.jupyter.widget-view+json": {
       "model_id": "831c5896427b4dccba8cad626ca92fd6",
       "version_major": 2,
       "version_minor": 0
      },
      "text/plain": [
       "depth_camera_left.tar:   0%|          | 0.00/676k [00:00<?, ?B/s]"
      ]
     },
     "metadata": {},
     "output_type": "display_data"
    },
    {
     "data": {
      "application/vnd.jupyter.widget-view+json": {
       "model_id": "e4f4b2c294f64921808efd567638b4bc",
       "version_major": 2,
       "version_minor": 0
      },
      "text/plain": [
       "depth_camera_right.tar:   0%|          | 0.00/573k [00:00<?, ?B/s]"
      ]
     },
     "metadata": {},
     "output_type": "display_data"
    },
    {
     "data": {
      "application/vnd.jupyter.widget-view+json": {
       "model_id": "ee41b0b3548342d2aaeca56c172f9af0",
       "version_major": 2,
       "version_minor": 0
      },
      "text/plain": [
       "hdr_front.tar:   0%|          | 0.00/1.30M [00:00<?, ?B/s]"
      ]
     },
     "metadata": {},
     "output_type": "display_data"
    },
    {
     "data": {
      "application/vnd.jupyter.widget-view+json": {
       "model_id": "45e605f2a8c742e9a9b2c3923e1e4c45",
       "version_major": 2,
       "version_minor": 0
      },
      "text/plain": [
       "depth_camera_rear_upper.tar:   0%|          | 0.00/758k [00:00<?, ?B/s]"
      ]
     },
     "metadata": {},
     "output_type": "display_data"
    },
    {
     "data": {
      "application/vnd.jupyter.widget-view+json": {
       "model_id": "90243e0a935f414c86ae0445b81d71d0",
       "version_major": 2,
       "version_minor": 0
      },
      "text/plain": [
       "hdr_left.tar:   0%|          | 0.00/1.53M [00:00<?, ?B/s]"
      ]
     },
     "metadata": {},
     "output_type": "display_data"
    },
    {
     "data": {
      "application/vnd.jupyter.widget-view+json": {
       "model_id": "91910ccdc7bd4bf3abcbabf5b4c8b5ea",
       "version_major": 2,
       "version_minor": 0
      },
      "text/plain": [
       "hdr_right.tar:   0%|          | 0.00/1.41M [00:00<?, ?B/s]"
      ]
     },
     "metadata": {},
     "output_type": "display_data"
    },
    {
     "data": {
      "application/vnd.jupyter.widget-view+json": {
       "model_id": "6e4e4b0df36a49b68fbfe7ac08e64600",
       "version_major": 2,
       "version_minor": 0
      },
      "text/plain": [
       "depth_camera_rear_lower.tar:   0%|          | 0.00/645k [00:00<?, ?B/s]"
      ]
     },
     "metadata": {},
     "output_type": "display_data"
    },
    {
     "data": {
      "application/vnd.jupyter.widget-view+json": {
       "model_id": "5c8e33f598d94836bc0e571beafc818e",
       "version_major": 2,
       "version_minor": 0
      },
      "text/plain": [
       "zed2i_depth_confidence_image.tar:   0%|          | 0.00/11.6M [00:00<?, ?B/s]"
      ]
     },
     "metadata": {},
     "output_type": "display_data"
    },
    {
     "data": {
      "application/vnd.jupyter.widget-view+json": {
       "model_id": "f318ca1aba4c47d4ac4e55a8dd505bc0",
       "version_major": 2,
       "version_minor": 0
      },
      "text/plain": [
       "zed2i_left_images.tar:   0%|          | 0.00/1.35M [00:00<?, ?B/s]"
      ]
     },
     "metadata": {},
     "output_type": "display_data"
    },
    {
     "data": {
      "application/vnd.jupyter.widget-view+json": {
       "model_id": "811d1c9e5f6049cf96c4439c51fbc427",
       "version_major": 2,
       "version_minor": 0
      },
      "text/plain": [
       "zed2i_depth_image.tar:   0%|          | 0.00/3.18M [00:00<?, ?B/s]"
      ]
     },
     "metadata": {},
     "output_type": "display_data"
    },
    {
     "data": {
      "application/vnd.jupyter.widget-view+json": {
       "model_id": "c10fc80e403f4b8eb62f2fbd9824b211",
       "version_major": 2,
       "version_minor": 0
      },
      "text/plain": [
       "zed2i_right_images.tar:   0%|          | 0.00/1.36M [00:00<?, ?B/s]"
      ]
     },
     "metadata": {},
     "output_type": "display_data"
    },
    {
     "data": {
      "application/vnd.jupyter.widget-view+json": {
       "model_id": "44f15fb8e79b4dc1bec39bfafbd58bfe",
       "version_major": 2,
       "version_minor": 0
      },
      "text/plain": [
       "anymal_command_twist.yaml:   0%|          | 0.00/43.0 [00:00<?, ?B/s]"
      ]
     },
     "metadata": {},
     "output_type": "display_data"
    },
    {
     "data": {
      "application/vnd.jupyter.widget-view+json": {
       "model_id": "97e3df11e2a142ffb3ff1d0571e3959f",
       "version_major": 2,
       "version_minor": 0
      },
      "text/plain": [
       "cpt7_imu.yaml:   0%|          | 0.00/16.0 [00:00<?, ?B/s]"
      ]
     },
     "metadata": {},
     "output_type": "display_data"
    },
    {
     "data": {
      "application/vnd.jupyter.widget-view+json": {
       "model_id": "765923aeaf8047c2a8bd2c9a81bd51d3",
       "version_major": 2,
       "version_minor": 0
      },
      "text/plain": [
       "prism_position.yaml:   0%|          | 0.00/22.0 [00:00<?, ?B/s]"
      ]
     },
     "metadata": {},
     "output_type": "display_data"
    },
    {
     "data": {
      "application/vnd.jupyter.widget-view+json": {
       "model_id": "7a2b8e79f935427fb59e46ed06a76e79",
       "version_major": 2,
       "version_minor": 0
      },
      "text/plain": [
       "zed2i_depth_caminfo.yaml:   0%|          | 0.00/628 [00:00<?, ?B/s]"
      ]
     },
     "metadata": {},
     "output_type": "display_data"
    }
   ],
   "source": [
    "from huggingface_hub import snapshot_download\n",
    "\n",
    "# Specify the mission you want to download.\n",
    "mission = \"2024-11-02-17-18-32\"\n",
    "\n",
    "# Download the full dataset\n",
    "allow_patterns = [f\"*\"]\n",
    "\n",
    "# Download all data from a single mission\n",
    "allow_patterns = [f\"{mission}/*\"]\n",
    "\n",
    "# Download a specific topic\n",
    "# topic = \"alphasense_front_center\"\n",
    "# allow_patterns = [f\"{mission}/*{topic}*\", f\"{mission}/*.yaml\"]\n",
    "\n",
    "\n",
    "# to only include a subset of the \n",
    "\n",
    "# If this is interuppted during download, simply re-run the block and huggingface_hub will resume the download without re-downloading the already downloaded files.\n",
    "hugging_face_data_cache_path = snapshot_download(repo_id=\"leggedrobotics/grand_tour_dataset\", allow_patterns=allow_patterns, repo_type=\"dataset\")"
   ]
  },
  {
   "cell_type": "markdown",
   "metadata": {},
   "source": [
    "> The downloaded data will be compressed into `.tar` files, and must be extracted before it can be used. We reccomend extracting to a destination of your choice outside the huggingface cache directory:"
   ]
  },
  {
   "cell_type": "code",
   "execution_count": 19,
   "metadata": {},
   "outputs": [
    {
     "name": "stdout",
     "output_type": "stream",
     "text": [
      "Data will be extracted to: /home/jonfrey/grand_tour_dataset\n"
     ]
    }
   ],
   "source": [
    "from pathlib import Path\n",
    "\n",
    "# Define the destination directory\n",
    "dataset_folder = Path(\"~/grand_tour_dataset\").expanduser()\n",
    "dataset_folder.mkdir(parents=True, exist_ok=True)\n",
    "\n",
    "# Print for confirmation\n",
    "print(f\"Data will be extracted to: {dataset_folder}\")"
   ]
  },
  {
   "cell_type": "markdown",
   "metadata": {},
   "source": [
    "> Define a `.tar` extractor helper function and extract the files:"
   ]
  },
  {
   "cell_type": "code",
   "execution_count": 21,
   "metadata": {},
   "outputs": [
    {
     "name": "stdout",
     "output_type": "stream",
     "text": [
      "/home/jonfrey/grand_tour_dataset\n",
      "Moved data from /home/jonfrey/.cache/huggingface/hub/datasets--leggedrobotics--grand_tour_dataset/snapshots/a6c80c525d6690a1060204a9cd2bc4abaf7eae78 to /home/jonfrey/grand_tour_dataset !\n"
     ]
    }
   ],
   "source": [
    "import os\n",
    "import shutil\n",
    "import tarfile\n",
    "import re\n",
    "\n",
    "def move_dataset(cache, dataset_folder, allow_patterns=[\"*\"]):\n",
    "\n",
    "    def convert_glob_patterns_to_regex(glob_patterns):\n",
    "        regex_parts = []\n",
    "        for pat in glob_patterns:\n",
    "            # Escape regex special characters except for * and ?\n",
    "            pat = re.escape(pat)\n",
    "            # Convert escaped glob wildcards to regex equivalents\n",
    "            pat = pat.replace(r'\\*', '.*').replace(r'\\?', '.')\n",
    "            # Make sure it matches full paths\n",
    "            regex_parts.append(f\".*{pat}$\")\n",
    "        \n",
    "        # Join with |\n",
    "        combined = \"|\".join(regex_parts)\n",
    "        return re.compile(combined)\n",
    "    \n",
    "    pattern = convert_glob_patterns_to_regex(allow_patterns)\n",
    "    files = [f for f in Path(cache).rglob(\"*\") if pattern.match(str(f))]\n",
    "    tar_files = [f for f in files if f.suffix == \".tar\" ]\n",
    "    \n",
    "    for source_path in tar_files:\n",
    "        dest_path = dataset_folder / source_path.relative_to(cache)\n",
    "        dest_path.parent.mkdir(parents=True, exist_ok=True)\n",
    "        \n",
    "        try:\n",
    "            with tarfile.open(source_path, \"r\") as tar:\n",
    "                tar.extractall(path=dest_path.parent)\n",
    "        except tarfile.ReadError as e:\n",
    "            print(f\"Error opening or extracting tar file '{source_path}': {e}\")\n",
    "        except Exception as e:\n",
    "            print(f\"An unexpected error occurred while processing {source_path}: {e}\")\n",
    "    \n",
    "    other_files = [f for f in files if not f.suffix == \".tar\" and f.is_file()]\n",
    "    for source_path in other_files:\n",
    "        dest_path = dataset_folder / source_path.relative_to(cache)\n",
    "        dest_path.parent.mkdir(parents=True, exist_ok=True)\n",
    "        shutil.copy2(source_path,dest_path)\n",
    "\n",
    "    print(f\"Moved data from {cache} to {dataset_folder} !\")\n",
    "\n",
    "print(dataset_folder)\n",
    "move_dataset(hugging_face_data_cache_path, dataset_folder, allow_patterns=allow_patterns)"
   ]
  },
  {
   "cell_type": "markdown",
   "metadata": {},
   "source": [
    "> You should now be able to load the dataset in `.zarr` format an inspect the contents:"
   ]
  },
  {
   "cell_type": "code",
   "execution_count": 22,
   "metadata": {},
   "outputs": [
    {
     "name": "stdout",
     "output_type": "stream",
     "text": [
      "['adis_imu', 'dlio_map_odometry', 'zed2i_depth_confidence_image', 'zed2i_right_images', 'zed2i_depth_image', 'zed2i_left_images', 'alphasense_right', 'depth_camera_rear_lower', 'stim320_gyroscope_temperature', 'dlio_hesai_points_undistorted', 'ap20_imu', 'hesai_undistorted', 'dlio_tf', 'livox_imu', 'gnss_raw_cpt7_ie_tc', 'anymal_imu', 'anymal_state_battery', 'hesai', 'stim320_accelerometer_temperature', 'cpt7_ie_rt_tf', 'depth_camera_front_lower', 'velodyne', 'prism_position', 'velodyne_undist', 'cpt7_ie_rt_odometry', 'depth_camera_left', 'alphasense_front_center', 'anymal_state_actuator', 'cpt7_ie_tc_tf', 'depth_camera_rear_upper', 'livox_points_undistorted', 'anymal_command_twist', 'cpt7_imu', 'depth_camera_front_upper', 'anymal_state_state_estimator', 'gnss_raw_cpt7_ie_rt', 'alphasense_front_left', 'livox_points', 'zed2i_vio_map', 'alphasense_left', 'stim320_imu', 'alphasense_front_right', 'cpt7_ie_tc_odometry', 'hdr_front', 'alphasense_imu', 'navsatfix_cpt7_ie_tc', 'hdr_left', 'depth_camera_right', 'anymal_state_odometry', 'hdr_right']\n"
     ]
    }
   ],
   "source": [
    "import zarr.storage\n",
    "\n",
    "store = zarr.storage.LocalStore(dataset_folder / mission / \"data\")\n",
    "root = zarr.group(store=store)\n",
    "\n",
    "print([k for k in root.keys()])"
   ]
  }
 ],
 "metadata": {
  "colab": {
   "provenance": []
  },
  "kernelspec": {
   "display_name": "Python 3 (ipykernel)",
   "language": "python",
   "name": "python3"
  },
  "language_info": {
   "codemirror_mode": {
    "name": "ipython",
    "version": 3
   },
   "file_extension": ".py",
   "mimetype": "text/x-python",
   "name": "python",
   "nbconvert_exporter": "python",
   "pygments_lexer": "ipython3",
   "version": "3.11.12"
  }
 },
 "nbformat": 4,
 "nbformat_minor": 4
}
